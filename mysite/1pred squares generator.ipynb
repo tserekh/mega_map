{
 "cells": [
  {
   "cell_type": "code",
   "execution_count": 1,
   "metadata": {},
   "outputs": [
    {
     "name": "stderr",
     "output_type": "stream",
     "text": [
      "/home/tserekh/env/lib/python3.6/site-packages/psycopg2/__init__.py:144: UserWarning: The psycopg2 wheel package will be renamed from release 2.8; in order to keep installing from binary please use \"pip install psycopg2-binary\" instead. For details see: <http://initd.org/psycopg/docs/install.html#binary-install-from-pypi>.\n",
      "  \"\"\")\n"
     ]
    }
   ],
   "source": [
    "import sys\n",
    "sys.path.append('/usr/lib/python3/dist-packages')\n",
    "import os\n",
    "import pandas as pd\n",
    "import datetime\n",
    "import pandas as pd\n",
    "import numpy as np\n",
    "from tqdm import tqdm_notebook\n",
    "import json\n",
    "#import shapefile\n",
    "#from shapely.geometry  import Point, LineString, Polygon, MultiPolygon\n",
    "\n",
    "from django.conf import settings\n",
    "#from sqlalchemy import create_engine\n",
    "os.environ[\"DJANGO_SETTINGS_MODULE\"] = \"mysite.settings\"\n",
    "import django\n",
    "django.setup()\n",
    "from tqdm import tqdm\n",
    "import glob\n",
    "import numpy as np\n",
    "from django.db.models import Q, Sum, Avg\n",
    "\n",
    "from pyproj import Proj, transform"
   ]
  },
  {
   "cell_type": "code",
   "execution_count": 2,
   "metadata": {},
   "outputs": [],
   "source": [
    "import glob\n",
    "from sklearn.neighbors import KDTree"
   ]
  },
  {
   "cell_type": "code",
   "execution_count": 3,
   "metadata": {},
   "outputs": [],
   "source": [
    "import random\n",
    "import itertools"
   ]
  },
  {
   "cell_type": "code",
   "execution_count": 4,
   "metadata": {},
   "outputs": [],
   "source": [
    "from main_map.models import PredictedSquare"
   ]
  },
  {
   "cell_type": "code",
   "execution_count": 5,
   "metadata": {},
   "outputs": [],
   "source": [
    "from pyproj import Proj, transform\n",
    "\n",
    "PROJ3857  = Proj(\"+init=EPSG:3857\")\n",
    "PROJ4326 = Proj(\"+init=EPSG:4326\")"
   ]
  },
  {
   "cell_type": "code",
   "execution_count": 6,
   "metadata": {},
   "outputs": [],
   "source": [
    "lat_min, lon_min = 55.577315, 37.082288\n",
    "lat_max, lon_max = 56.001331, 38.016126\n"
   ]
  },
  {
   "cell_type": "code",
   "execution_count": 7,
   "metadata": {},
   "outputs": [],
   "source": [
    "x_min, y_min = transform(PROJ4326, PROJ3857, lon_min, lat_min)\n",
    "x_max, y_max = transform(PROJ4326, PROJ3857, lon_max, lat_max)"
   ]
  },
  {
   "cell_type": "code",
   "execution_count": 8,
   "metadata": {},
   "outputs": [],
   "source": [
    "from main_map.models import OrganizationNatClass, House"
   ]
  },
  {
   "cell_type": "code",
   "execution_count": 9,
   "metadata": {},
   "outputs": [],
   "source": [
    "\n",
    "import glob\n",
    "path = '/home/tserekh/abc_data/evil/*'\n",
    "glob.glob(path)\n",
    "\n",
    "df1 = pd.read_excel('/home/tserekh/abc_data/evil/t1_20180214_15-17-39.xlsx')\n",
    "df1 = df1.drop_duplicates('store_id')\n",
    "\n",
    "df2 = pd.read_excel('/home/tserekh/abc_data/evil/t2_2018-02-09.xlsx')\n",
    "df2 =df2[df2['Выручка ']>0]\n",
    "df2 = df2.groupby('id аптеки', as_index=False)[['Выручка ']].mean()\n",
    "\n",
    "df = pd.merge(\n",
    "    df1[['store_id','location_type_name','opening_type_name','brand_id','pos_x','pos_y']],\n",
    "    df2,\n",
    "    left_on = 'store_id',\n",
    "    right_on='id аптеки')\n",
    "\n",
    "gb_features = ['brand_id','location_type_name','opening_type_name']\n",
    "df_gb = df.groupby(gb_features, as_index=False)[['Выручка ']].mean()\n",
    "df = pd.merge(df, df_gb, on=gb_features)\n",
    "df['rate'] = df['Выручка _x']/df['Выручка _y']"
   ]
  },
  {
   "cell_type": "code",
   "execution_count": 10,
   "metadata": {},
   "outputs": [
    {
     "data": {
      "text/plain": [
       "['brand_id', 'location_type_name', 'opening_type_name']"
      ]
     },
     "execution_count": 10,
     "metadata": {},
     "output_type": "execute_result"
    }
   ],
   "source": [
    "gb_features"
   ]
  },
  {
   "cell_type": "code",
   "execution_count": 11,
   "metadata": {},
   "outputs": [],
   "source": [
    "from itertools import product"
   ]
  },
  {
   "cell_type": "code",
   "execution_count": 12,
   "metadata": {},
   "outputs": [],
   "source": [
    "sq_side = 500"
   ]
  },
  {
   "cell_type": "code",
   "execution_count": 13,
   "metadata": {},
   "outputs": [],
   "source": [
    "features =['x','y']\n",
    "X = np.arange(x_min,x_max, sq_side)\n",
    "Y = np.arange(y_min,y_max, sq_side)"
   ]
  },
  {
   "cell_type": "code",
   "execution_count": 14,
   "metadata": {},
   "outputs": [
    {
     "name": "stdout",
     "output_type": "stream",
     "text": [
      "34944\n"
     ]
    },
    {
     "data": {
      "application/vnd.jupyter.widget-view+json": {
       "model_id": "be0bb09fbd284a1e929118ea98e7fb2f",
       "version_major": 2,
       "version_minor": 0
      },
      "text/plain": [
       "HBox(children=(IntProgress(value=1, bar_style='info', max=1), HTML(value='')))"
      ]
     },
     "metadata": {},
     "output_type": "display_data"
    },
    {
     "name": "stdout",
     "output_type": "stream",
     "text": [
      "\n"
     ]
    }
   ],
   "source": [
    "PredictedSquare.objects.all().delete()\n",
    "print(len(X)*len(Y))\n",
    "for coord in tqdm_notebook(product(X,Y)):\n",
    "    dic = {}\n",
    "    dic['x'] = coord[0]\n",
    "    dic['y'] = coord[1]\n",
    "    dic['revenue_pred_model1'] = 0\n",
    "    pred_square = PredictedSquare(**dic)\n",
    "    pred_square.save()"
   ]
  },
  {
   "cell_type": "code",
   "execution_count": 15,
   "metadata": {},
   "outputs": [],
   "source": [
    "from sklearn.neighbors import NearestNeighbors\n"
   ]
  },
  {
   "cell_type": "code",
   "execution_count": 16,
   "metadata": {},
   "outputs": [],
   "source": [
    "x_y = ['x','y']"
   ]
  },
  {
   "cell_type": "code",
   "execution_count": 17,
   "metadata": {},
   "outputs": [
    {
     "data": {
      "application/vnd.jupyter.widget-view+json": {
       "model_id": "cb1219de5b1f459795c93fa90124b596",
       "version_major": 2,
       "version_minor": 0
      },
      "text/plain": [
       "HBox(children=(IntProgress(value=1, bar_style='info', max=1), HTML(value='')))"
      ]
     },
     "metadata": {},
     "output_type": "display_data"
    },
    {
     "name": "stdout",
     "output_type": "stream",
     "text": [
      "\n"
     ]
    }
   ],
   "source": [
    "coords = []\n",
    "for i, row in tqdm_notebook(df[['pos_x','pos_y']].iterrows()):\n",
    "    try:\n",
    "        coord = transform(PROJ4326, PROJ3857, row['pos_x'], row['pos_y'])\n",
    "    except RuntimeError:\n",
    "        coord = [None, None]\n",
    "    coords.append(coord)\n",
    "df['x'] = np.array(coords)[:,0]\n",
    "df['y'] = np.array(coords)[:,1]\n",
    "df = df[df['x'].notnull()]\n",
    "nbrs = NearestNeighbors(n_neighbors=1, algorithm='ball_tree').fit(df[x_y])"
   ]
  },
  {
   "cell_type": "code",
   "execution_count": 18,
   "metadata": {},
   "outputs": [],
   "source": [
    "mean_rev = 1707108"
   ]
  },
  {
   "cell_type": "code",
   "execution_count": 19,
   "metadata": {},
   "outputs": [
    {
     "name": "stdout",
     "output_type": "stream",
     "text": [
      "34944\n"
     ]
    },
    {
     "data": {
      "application/vnd.jupyter.widget-view+json": {
       "model_id": "5832c731e56f460e84e78e21244fa75f",
       "version_major": 2,
       "version_minor": 0
      },
      "text/plain": [
       "HBox(children=(IntProgress(value=0, max=34944), HTML(value='')))"
      ]
     },
     "metadata": {},
     "output_type": "display_data"
    },
    {
     "name": "stdout",
     "output_type": "stream",
     "text": [
      "\n"
     ]
    }
   ],
   "source": [
    "objects = PredictedSquare.objects.filter(machine_features__isnull=True).order_by('x')\n",
    "#objects = PredictedSquare.objects.all().order_by('x')\n",
    "print(objects.count())\n",
    "for object_ in tqdm_notebook(objects):\n",
    "    distances, indices = nbrs.kneighbors([[object_.x, object_.y]])\n",
    "    revenue = df.iloc[indices[0][0]]['rate']*mean_rev\n",
    "    object_.revenue_pred_model1 = revenue\n",
    "    object_.save()"
   ]
  },
  {
   "cell_type": "code",
   "execution_count": 20,
   "metadata": {},
   "outputs": [],
   "source": [
    "a = PredictedSquare.objects.all()[0]"
   ]
  },
  {
   "cell_type": "code",
   "execution_count": 21,
   "metadata": {},
   "outputs": [
    {
     "data": {
      "text/plain": [
       "{'_state': <django.db.models.base.ModelState at 0x7f100131e4e0>,\n",
       " 'id': 3197573,\n",
       " 'x': 4222481.41760952,\n",
       " 'y': 7496227.10095972,\n",
       " 'revenue_pred_model1': 581145.5062483,\n",
       " 'revenue_pred_model2': None,\n",
       " 'machine_features': None}"
      ]
     },
     "execution_count": 21,
     "metadata": {},
     "output_type": "execute_result"
    }
   ],
   "source": [
    "a.__dict__"
   ]
  },
  {
   "cell_type": "code",
   "execution_count": 22,
   "metadata": {},
   "outputs": [
    {
     "data": {
      "text/plain": [
       "(37.082288000000005, 55.645809780810524)"
      ]
     },
     "execution_count": 22,
     "metadata": {},
     "output_type": "execute_result"
    }
   ],
   "source": [
    "transform(PROJ3857, PROJ4326,  4127981.41760952, 7488227.10095972)"
   ]
  },
  {
   "cell_type": "code",
   "execution_count": null,
   "metadata": {},
   "outputs": [],
   "source": []
  }
 ],
 "metadata": {
  "kernelspec": {
   "display_name": "Python 3",
   "language": "python",
   "name": "python3"
  },
  "language_info": {
   "codemirror_mode": {
    "name": "ipython",
    "version": 3
   },
   "file_extension": ".py",
   "mimetype": "text/x-python",
   "name": "python",
   "nbconvert_exporter": "python",
   "pygments_lexer": "ipython3",
   "version": "3.6.5"
  }
 },
 "nbformat": 4,
 "nbformat_minor": 2
}
