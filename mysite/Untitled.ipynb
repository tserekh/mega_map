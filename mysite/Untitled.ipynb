{
 "cells": [
  {
   "cell_type": "code",
   "execution_count": 1,
   "metadata": {},
   "outputs": [
    {
     "name": "stderr",
     "output_type": "stream",
     "text": [
      "/home/tserekh/env/lib/python3.6/site-packages/psycopg2/__init__.py:144: UserWarning: The psycopg2 wheel package will be renamed from release 2.8; in order to keep installing from binary please use \"pip install psycopg2-binary\" instead. For details see: <http://initd.org/psycopg/docs/install.html#binary-install-from-pypi>.\n",
      "  \"\"\")\n",
      "/home/tserekh/env/lib/python3.6/site-packages/django/db/models/base.py:299: RuntimeWarning: Model 'main_map.predictedsquare' was already registered. Reloading models is not advised as it can lead to inconsistencies, most notably with related models.\n",
      "  new_class._meta.apps.register_model(new_class._meta.app_label, new_class)\n"
     ]
    }
   ],
   "source": [
    "import sys\n",
    "sys.path.append('/usr/lib/python3/dist-packages')\n",
    "import os\n",
    "import pandas as pd\n",
    "import datetime\n",
    "import pandas as pd\n",
    "import numpy as np\n",
    "from tqdm import tqdm\n",
    "import json\n",
    "#import shapefile\n",
    "# from shapely.geometry  import Point, LineString, Polygon, MultiPolygon\n",
    "\n",
    "from django.conf import settings\n",
    "#from sqlalchemy import create_engine\n",
    "os.environ[\"DJANGO_SETTINGS_MODULE\"] = \"mysite.settings\"\n",
    "import django\n",
    "django.setup()\n",
    "from tqdm import tqdm\n",
    "import glob\n",
    "import numpy as np\n",
    "from django.db.models import Q, Sum, Avg"
   ]
  },
  {
   "cell_type": "code",
   "execution_count": 2,
   "metadata": {},
   "outputs": [],
   "source": [
    "import glob\n",
    "path = '/home/tserekh/abc_data/evil/*'\n",
    "glob.glob(path)\n",
    "\n",
    "df1 = pd.read_excel('/home/tserekh/abc_data/evil/t1_20180214_15-17-39.xlsx')\n",
    "df2 = pd.read_excel('/home/tserekh/abc_data/evil/t2_2018-02-09.xlsx')\n",
    "\n",
    "df = pd.merge(\n",
    "    df1[['store_id','location_type_name','opening_type_name','brand_id','pos_x','pos_y']],\n",
    "    df2,\n",
    "    left_on = 'store_id',\n",
    "    right_on='id аптеки')\n",
    "\n",
    "gb_features = ['brand_id','location_type_name','opening_type_name']\n",
    "df_gb = df.groupby(gb_features, as_index=False)[['Выручка ']].mean()\n",
    "df = pd.merge(df, df_gb, on=gb_features)\n",
    "df['rate'] = df['Выручка _x']/df['Выручка _y']"
   ]
  }
 ],
 "metadata": {
  "kernelspec": {
   "display_name": "Python 3",
   "language": "python",
   "name": "python3"
  },
  "language_info": {
   "codemirror_mode": {
    "name": "ipython",
    "version": 3
   },
   "file_extension": ".py",
   "mimetype": "text/x-python",
   "name": "python",
   "nbconvert_exporter": "python",
   "pygments_lexer": "ipython3",
   "version": "3.6.5"
  }
 },
 "nbformat": 4,
 "nbformat_minor": 2
}
