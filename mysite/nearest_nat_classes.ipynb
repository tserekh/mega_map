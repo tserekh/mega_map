{
 "cells": [
  {
   "cell_type": "code",
   "execution_count": 6,
   "metadata": {},
   "outputs": [],
   "source": [
    "import glob\n",
    "import pandas as pd\n",
    "import json\n",
    "import datetime\n",
    "from tqdm import tqdm\n",
    "import os\n",
    "from django.conf import settings\n",
    "#from sqlalchemy import create_engine\n",
    "os.environ[\"DJANGO_SETTINGS_MODULE\"] = \"mysite.settings\"\n",
    "import django\n",
    "django.setup()\n",
    "from tqdm import tqdm, tqdm_notebook\n",
    "import glob\n",
    "import numpy as np\n",
    "\n",
    "from django.db.models import Min,Max,Count\n",
    "from sklearn.neighbors import KDTree\n",
    "comfig_file_path = '../../main_config.txt'\n",
    "main_name = 'yandex/'\n",
    "sub_name = 'raw_org_search/'\n",
    "import time\n",
    "from sklearn.utils import shuffle"
   ]
  },
  {
   "cell_type": "code",
   "execution_count": 7,
   "metadata": {},
   "outputs": [],
   "source": [
    "import sys\n",
    "import json\n",
    "sys.path.append('/usr/lib/python3/dist-packages')\n",
    "from main_map.models import OrganizationNatClass, House, Metro, Distance, City"
   ]
  },
  {
   "cell_type": "code",
   "execution_count": 8,
   "metadata": {},
   "outputs": [],
   "source": [
    "nat_classes = set(OrganizationNatClass.objects.all().values().values_list(*['nat_class']))\n",
    "\n",
    "nat_classes = list(map(lambda x:x[0],nat_classes))\n",
    "nat_classes = shuffle(nat_classes)"
   ]
  },
  {
   "cell_type": "code",
   "execution_count": 9,
   "metadata": {},
   "outputs": [],
   "source": [
    "#nat_classes = ['АЗС','Парикмахерская', 'Ресторан','Супермаркет']\n",
    "nat_classes = ['Супермаркет']"
   ]
  },
  {
   "cell_type": "code",
   "execution_count": null,
   "metadata": {},
   "outputs": [],
   "source": []
  },
  {
   "cell_type": "code",
   "execution_count": null,
   "metadata": {},
   "outputs": [],
   "source": []
  },
  {
   "cell_type": "code",
   "execution_count": 10,
   "metadata": {},
   "outputs": [],
   "source": [
    "lat_min, lon_min = 55.604865, 37.321688\n",
    "lat_max, lon_max = 55.912290, 37.858644\n",
    "filter_geo =    {\n",
    "    'lat__gt' : lat_min, \n",
    "    'lon__gt' : lon_min,\n",
    "    'lat__lt' : lat_max, \n",
    "    'lon__lt' : lon_max,\n",
    "}"
   ]
  },
  {
   "cell_type": "code",
   "execution_count": 11,
   "metadata": {},
   "outputs": [],
   "source": [
    "# for house in tqdm(House.objects.filter(**filter_geo)):\n",
    "#     house.nearest_nat_classes_euclid = None\n",
    "#     house.save()"
   ]
  },
  {
   "cell_type": "code",
   "execution_count": 12,
   "metadata": {},
   "outputs": [],
   "source": [
    "xy = ['x','y']"
   ]
  },
  {
   "cell_type": "code",
   "execution_count": null,
   "metadata": {},
   "outputs": [],
   "source": []
  },
  {
   "cell_type": "code",
   "execution_count": 13,
   "metadata": {},
   "outputs": [],
   "source": [
    "# Distance.objects.all().delete()"
   ]
  },
  {
   "cell_type": "code",
   "execution_count": 14,
   "metadata": {},
   "outputs": [],
   "source": [
    "#Distance.objects.all()[0].__dict__"
   ]
  },
  {
   "cell_type": "code",
   "execution_count": null,
   "metadata": {},
   "outputs": [],
   "source": []
  },
  {
   "cell_type": "code",
   "execution_count": 15,
   "metadata": {},
   "outputs": [],
   "source": [
    "columns = xy + ['source_name','source_id']\n",
    "def two_points_distances(objects1,objects2,k_max):\n",
    "    \n",
    "    max_distance = 1e10\n",
    "    df_orgs = pd.DataFrame(list(objects1.values().values_list(*columns)), columns=columns)\n",
    "    tree = KDTree(df_orgs[xy])\n",
    "    k = k_max\n",
    "    #print(len(df_orgs))\n",
    "    for house in tqdm_notebook(objects2, leave=False):\n",
    "        #print(house.__dict__)\n",
    "        distances, indexes = tree.query([[house.x,house.y]], k=k)\n",
    "        distances = distances[0]\n",
    "        indexes = indexes[0]\n",
    "        if distances[0]>max_distance:\n",
    "            continue\n",
    "        #print(df_orgs.iloc[indexes])\n",
    "        distances  = list(np.round(distances,2))\n",
    "        source_ids = df_orgs['source_id'].iloc[indexes].values\n",
    "        source_names = df_orgs['source_name'].iloc[indexes].values\n",
    "        #print(distances)\n",
    "        for i in range(k):\n",
    "            obj_to_obj_distance = Distance()\n",
    "\n",
    "            obj_to_obj_distance.source_id1 = source_ids[i]\n",
    "            obj_to_obj_distance.source_name1 = source_names[i]\n",
    "            obj_to_obj_distance.euclid_distance = distances[i]\n",
    "\n",
    "            obj_to_obj_distance.source_id2 = house.source_id\n",
    "            obj_to_obj_distance.source_name2 = house.source_name\n",
    "\n",
    "            obj_to_obj_distance.save()\n",
    "        "
   ]
  },
  {
   "cell_type": "code",
   "execution_count": null,
   "metadata": {},
   "outputs": [],
   "source": []
  },
  {
   "cell_type": "code",
   "execution_count": 11,
   "metadata": {},
   "outputs": [
    {
     "data": {
      "application/vnd.jupyter.widget-view+json": {
       "model_id": "",
       "version_major": 2,
       "version_minor": 0
      },
      "text/plain": [
       "HBox(children=(IntProgress(value=0, max=1), HTML(value='')))"
      ]
     },
     "metadata": {},
     "output_type": "display_data"
    },
    {
     "data": {
      "application/vnd.jupyter.widget-view+json": {
       "model_id": "",
       "version_major": 2,
       "version_minor": 0
      },
      "text/plain": [
       "HBox(children=(IntProgress(value=0, max=27982), HTML(value='')))"
      ]
     },
     "metadata": {},
     "output_type": "display_data"
    },
    {
     "name": "stdout",
     "output_type": "stream",
     "text": [
      "\r"
     ]
    }
   ],
   "source": [
    "objects2 = House.objects.filter(**filter_geo)\n",
    "\n",
    "#for table_kmax in tqdm_notebook([(City,1), (Metro,12)], leave=False):\n",
    "\n",
    "\n",
    "for table_kmax in tqdm_notebook([(Metro,10)], leave=False):\n",
    "    table, k_max = table_kmax\n",
    "    objects1 = table.objects.filter(**filter_geo).values().values_list(*columns)\n",
    "    two_points_distances(objects1,objects2,k_max)"
   ]
  },
  {
   "cell_type": "code",
   "execution_count": null,
   "metadata": {},
   "outputs": [
    {
     "data": {
      "application/vnd.jupyter.widget-view+json": {
       "model_id": "34882cd7f04e4e70b2fe92cc4f04677c",
       "version_major": 2,
       "version_minor": 0
      },
      "text/plain": [
       "HBox(children=(IntProgress(value=0, max=1), HTML(value='')))"
      ]
     },
     "metadata": {},
     "output_type": "display_data"
    },
    {
     "data": {
      "application/vnd.jupyter.widget-view+json": {
       "model_id": "f3366ea99c5c442a9a30672b84a10253",
       "version_major": 2,
       "version_minor": 0
      },
      "text/plain": [
       "HBox(children=(IntProgress(value=0, max=27982), HTML(value='')))"
      ]
     },
     "metadata": {},
     "output_type": "display_data"
    }
   ],
   "source": [
    "for nat_class in tqdm_notebook(nat_classes, leave=False):#point 1\n",
    "    k_max = 40\n",
    "    filter_dic = filter_geo.copy()\n",
    "    filter_dic['nat_class'] = nat_class\n",
    "    objects1 = OrganizationNatClass.objects.filter(**filter_dic)\n",
    "    two_points_distances(objects1,objects2,k_max)\n",
    "\n",
    "    "
   ]
  },
  {
   "cell_type": "code",
   "execution_count": null,
   "metadata": {},
   "outputs": [],
   "source": [
    "#for table_kmax in tqdm_notebook([(City,1), (Metro,12)], leave=False):\n",
    "for table_kmax in tqdm_notebook([(Metro,10)], leave=False):\n",
    "    table, k_max = table_kmax\n",
    "    objects1 = table.objects.filter(**filter_geo).values().values_list(*columns)\n",
    "    for nat_class in tqdm_notebook(nat_classes, leave=False):#point 1\n",
    "        filter_dic = filter_geo.copy()\n",
    "        objects2 = OrganizationNatClass.objects.filter(**filter_dic)\n",
    "        two_points_distances(objects1,objects2,k_max)"
   ]
  },
  {
   "cell_type": "code",
   "execution_count": 16,
   "metadata": {},
   "outputs": [
    {
     "name": "stdout",
     "output_type": "stream",
     "text": [
      "3807706\n"
     ]
    },
    {
     "data": {
      "application/vnd.jupyter.widget-view+json": {
       "model_id": "ea36da8e3a4a439bb57b55c4ea2bad70",
       "version_major": 2,
       "version_minor": 0
      },
      "text/plain": [
       "HBox(children=(IntProgress(value=0, max=3807706), HTML(value='')))"
      ]
     },
     "metadata": {},
     "output_type": "display_data"
    },
    {
     "ename": "KeyboardInterrupt",
     "evalue": "",
     "output_type": "error",
     "traceback": [
      "\u001b[0;31m---------------------------------------------------------------------------\u001b[0m",
      "\u001b[0;31mKeyboardInterrupt\u001b[0m                         Traceback (most recent call last)",
      "\u001b[0;32m<ipython-input-16-bd6b59708a2f>\u001b[0m in \u001b[0;36m<module>\u001b[0;34m()\u001b[0m\n\u001b[1;32m     14\u001b[0m         \u001b[0mDistance\u001b[0m\u001b[0;34m.\u001b[0m\u001b[0mobjects\u001b[0m\u001b[0;34m\u001b[0m\u001b[0m\n\u001b[1;32m     15\u001b[0m         \u001b[0;34m.\u001b[0m\u001b[0mfilter\u001b[0m\u001b[0;34m(\u001b[0m\u001b[0;34m**\u001b[0m\u001b[0;34m{\u001b[0m\u001b[0mx\u001b[0m\u001b[0;34m:\u001b[0m \u001b[0mduplicate\u001b[0m\u001b[0;34m[\u001b[0m\u001b[0mx\u001b[0m\u001b[0;34m]\u001b[0m \u001b[0;32mfor\u001b[0m \u001b[0mx\u001b[0m \u001b[0;32min\u001b[0m \u001b[0munique_fields\u001b[0m\u001b[0;34m}\u001b[0m\u001b[0;34m)\u001b[0m\u001b[0;34m\u001b[0m\u001b[0m\n\u001b[0;32m---> 16\u001b[0;31m         \u001b[0;34m.\u001b[0m\u001b[0mexclude\u001b[0m\u001b[0;34m(\u001b[0m\u001b[0mid\u001b[0m\u001b[0;34m=\u001b[0m\u001b[0mduplicate\u001b[0m\u001b[0;34m[\u001b[0m\u001b[0;34m'max_id'\u001b[0m\u001b[0;34m]\u001b[0m\u001b[0;34m)\u001b[0m\u001b[0;34m\u001b[0m\u001b[0m\n\u001b[0m\u001b[1;32m     17\u001b[0m         \u001b[0;34m.\u001b[0m\u001b[0mdelete\u001b[0m\u001b[0;34m(\u001b[0m\u001b[0;34m)\u001b[0m\u001b[0;34m\u001b[0m\u001b[0m\n\u001b[1;32m     18\u001b[0m     )\n",
      "\u001b[0;32m~/env/lib/python3.6/site-packages/django/db/models/query.py\u001b[0m in \u001b[0;36mexclude\u001b[0;34m(self, *args, **kwargs)\u001b[0m\n\u001b[1;32m    849\u001b[0m         \u001b[0mset\u001b[0m\u001b[0;34m.\u001b[0m\u001b[0;34m\u001b[0m\u001b[0m\n\u001b[1;32m    850\u001b[0m         \"\"\"\n\u001b[0;32m--> 851\u001b[0;31m         \u001b[0;32mreturn\u001b[0m \u001b[0mself\u001b[0m\u001b[0;34m.\u001b[0m\u001b[0m_filter_or_exclude\u001b[0m\u001b[0;34m(\u001b[0m\u001b[0;32mTrue\u001b[0m\u001b[0;34m,\u001b[0m \u001b[0;34m*\u001b[0m\u001b[0margs\u001b[0m\u001b[0;34m,\u001b[0m \u001b[0;34m**\u001b[0m\u001b[0mkwargs\u001b[0m\u001b[0;34m)\u001b[0m\u001b[0;34m\u001b[0m\u001b[0m\n\u001b[0m\u001b[1;32m    852\u001b[0m \u001b[0;34m\u001b[0m\u001b[0m\n\u001b[1;32m    853\u001b[0m     \u001b[0;32mdef\u001b[0m \u001b[0m_filter_or_exclude\u001b[0m\u001b[0;34m(\u001b[0m\u001b[0mself\u001b[0m\u001b[0;34m,\u001b[0m \u001b[0mnegate\u001b[0m\u001b[0;34m,\u001b[0m \u001b[0;34m*\u001b[0m\u001b[0margs\u001b[0m\u001b[0;34m,\u001b[0m \u001b[0;34m**\u001b[0m\u001b[0mkwargs\u001b[0m\u001b[0;34m)\u001b[0m\u001b[0;34m:\u001b[0m\u001b[0;34m\u001b[0m\u001b[0m\n",
      "\u001b[0;32m~/env/lib/python3.6/site-packages/django/db/models/query.py\u001b[0m in \u001b[0;36m_filter_or_exclude\u001b[0;34m(self, negate, *args, **kwargs)\u001b[0m\n\u001b[1;32m    858\u001b[0m         \u001b[0mclone\u001b[0m \u001b[0;34m=\u001b[0m \u001b[0mself\u001b[0m\u001b[0;34m.\u001b[0m\u001b[0m_chain\u001b[0m\u001b[0;34m(\u001b[0m\u001b[0;34m)\u001b[0m\u001b[0;34m\u001b[0m\u001b[0m\n\u001b[1;32m    859\u001b[0m         \u001b[0;32mif\u001b[0m \u001b[0mnegate\u001b[0m\u001b[0;34m:\u001b[0m\u001b[0;34m\u001b[0m\u001b[0m\n\u001b[0;32m--> 860\u001b[0;31m             \u001b[0mclone\u001b[0m\u001b[0;34m.\u001b[0m\u001b[0mquery\u001b[0m\u001b[0;34m.\u001b[0m\u001b[0madd_q\u001b[0m\u001b[0;34m(\u001b[0m\u001b[0;34m~\u001b[0m\u001b[0mQ\u001b[0m\u001b[0;34m(\u001b[0m\u001b[0;34m*\u001b[0m\u001b[0margs\u001b[0m\u001b[0;34m,\u001b[0m \u001b[0;34m**\u001b[0m\u001b[0mkwargs\u001b[0m\u001b[0;34m)\u001b[0m\u001b[0;34m)\u001b[0m\u001b[0;34m\u001b[0m\u001b[0m\n\u001b[0m\u001b[1;32m    861\u001b[0m         \u001b[0;32melse\u001b[0m\u001b[0;34m:\u001b[0m\u001b[0;34m\u001b[0m\u001b[0m\n\u001b[1;32m    862\u001b[0m             \u001b[0mclone\u001b[0m\u001b[0;34m.\u001b[0m\u001b[0mquery\u001b[0m\u001b[0;34m.\u001b[0m\u001b[0madd_q\u001b[0m\u001b[0;34m(\u001b[0m\u001b[0mQ\u001b[0m\u001b[0;34m(\u001b[0m\u001b[0;34m*\u001b[0m\u001b[0margs\u001b[0m\u001b[0;34m,\u001b[0m \u001b[0;34m**\u001b[0m\u001b[0mkwargs\u001b[0m\u001b[0;34m)\u001b[0m\u001b[0;34m)\u001b[0m\u001b[0;34m\u001b[0m\u001b[0m\n",
      "\u001b[0;32m~/env/lib/python3.6/site-packages/django/db/models/sql/query.py\u001b[0m in \u001b[0;36madd_q\u001b[0;34m(self, q_object)\u001b[0m\n\u001b[1;32m   1261\u001b[0m         \u001b[0;31m# So, demotion is OK.\u001b[0m\u001b[0;34m\u001b[0m\u001b[0;34m\u001b[0m\u001b[0m\n\u001b[1;32m   1262\u001b[0m         \u001b[0mexisting_inner\u001b[0m \u001b[0;34m=\u001b[0m \u001b[0;34m{\u001b[0m\u001b[0ma\u001b[0m \u001b[0;32mfor\u001b[0m \u001b[0ma\u001b[0m \u001b[0;32min\u001b[0m \u001b[0mself\u001b[0m\u001b[0;34m.\u001b[0m\u001b[0malias_map\u001b[0m \u001b[0;32mif\u001b[0m \u001b[0mself\u001b[0m\u001b[0;34m.\u001b[0m\u001b[0malias_map\u001b[0m\u001b[0;34m[\u001b[0m\u001b[0ma\u001b[0m\u001b[0;34m]\u001b[0m\u001b[0;34m.\u001b[0m\u001b[0mjoin_type\u001b[0m \u001b[0;34m==\u001b[0m \u001b[0mINNER\u001b[0m\u001b[0;34m}\u001b[0m\u001b[0;34m\u001b[0m\u001b[0m\n\u001b[0;32m-> 1263\u001b[0;31m         \u001b[0mclause\u001b[0m\u001b[0;34m,\u001b[0m \u001b[0m_\u001b[0m \u001b[0;34m=\u001b[0m \u001b[0mself\u001b[0m\u001b[0;34m.\u001b[0m\u001b[0m_add_q\u001b[0m\u001b[0;34m(\u001b[0m\u001b[0mq_object\u001b[0m\u001b[0;34m,\u001b[0m \u001b[0mself\u001b[0m\u001b[0;34m.\u001b[0m\u001b[0mused_aliases\u001b[0m\u001b[0;34m)\u001b[0m\u001b[0;34m\u001b[0m\u001b[0m\n\u001b[0m\u001b[1;32m   1264\u001b[0m         \u001b[0;32mif\u001b[0m \u001b[0mclause\u001b[0m\u001b[0;34m:\u001b[0m\u001b[0;34m\u001b[0m\u001b[0m\n\u001b[1;32m   1265\u001b[0m             \u001b[0mself\u001b[0m\u001b[0;34m.\u001b[0m\u001b[0mwhere\u001b[0m\u001b[0;34m.\u001b[0m\u001b[0madd\u001b[0m\u001b[0;34m(\u001b[0m\u001b[0mclause\u001b[0m\u001b[0;34m,\u001b[0m \u001b[0mAND\u001b[0m\u001b[0;34m)\u001b[0m\u001b[0;34m\u001b[0m\u001b[0m\n",
      "\u001b[0;32m~/env/lib/python3.6/site-packages/django/db/models/sql/query.py\u001b[0m in \u001b[0;36m_add_q\u001b[0;34m(self, q_object, used_aliases, branch_negated, current_negated, allow_joins, split_subq)\u001b[0m\n\u001b[1;32m   1285\u001b[0m                     \u001b[0mchild\u001b[0m\u001b[0;34m,\u001b[0m \u001b[0mcan_reuse\u001b[0m\u001b[0;34m=\u001b[0m\u001b[0mused_aliases\u001b[0m\u001b[0;34m,\u001b[0m \u001b[0mbranch_negated\u001b[0m\u001b[0;34m=\u001b[0m\u001b[0mbranch_negated\u001b[0m\u001b[0;34m,\u001b[0m\u001b[0;34m\u001b[0m\u001b[0m\n\u001b[1;32m   1286\u001b[0m                     \u001b[0mcurrent_negated\u001b[0m\u001b[0;34m=\u001b[0m\u001b[0mcurrent_negated\u001b[0m\u001b[0;34m,\u001b[0m \u001b[0mallow_joins\u001b[0m\u001b[0;34m=\u001b[0m\u001b[0mallow_joins\u001b[0m\u001b[0;34m,\u001b[0m\u001b[0;34m\u001b[0m\u001b[0m\n\u001b[0;32m-> 1287\u001b[0;31m                     \u001b[0msplit_subq\u001b[0m\u001b[0;34m=\u001b[0m\u001b[0msplit_subq\u001b[0m\u001b[0;34m,\u001b[0m\u001b[0;34m\u001b[0m\u001b[0m\n\u001b[0m\u001b[1;32m   1288\u001b[0m                 )\n\u001b[1;32m   1289\u001b[0m                 \u001b[0mjoinpromoter\u001b[0m\u001b[0;34m.\u001b[0m\u001b[0madd_votes\u001b[0m\u001b[0;34m(\u001b[0m\u001b[0mneeded_inner\u001b[0m\u001b[0;34m)\u001b[0m\u001b[0;34m\u001b[0m\u001b[0m\n",
      "\u001b[0;31mKeyboardInterrupt\u001b[0m: "
     ]
    }
   ],
   "source": [
    "\n",
    "\n",
    "unique_fields = ['source_id1', 'source_name1','source_id2', 'source_name2']\n",
    "\n",
    "duplicates = (\n",
    "    Distance.objects.values(*unique_fields)\n",
    "    .order_by()\n",
    "    .annotate(max_id=Max('id'), count_id=Count('id'))\n",
    "    .filter(count_id__gt=1)\n",
    ")\n",
    "print(len(duplicates))\n",
    "for duplicate in tqdm_notebook(duplicates):\n",
    "    (\n",
    "        Distance.objects\n",
    "        .filter(**{x: duplicate[x] for x in unique_fields})\n",
    "        .exclude(id=duplicate['max_id'])\n",
    "        .delete()\n",
    "    )"
   ]
  },
  {
   "cell_type": "code",
   "execution_count": null,
   "metadata": {},
   "outputs": [],
   "source": [
    "q  =pd.DataFrame(list(Distance.objects.all().values()))"
   ]
  },
  {
   "cell_type": "code",
   "execution_count": null,
   "metadata": {},
   "outputs": [],
   "source": [
    "Distance.objects.all()[0].__dict__"
   ]
  },
  {
   "cell_type": "code",
   "execution_count": null,
   "metadata": {},
   "outputs": [],
   "source": [
    "# [\n",
    "#     (OrganizationNatClass,'data.mos'),\n",
    "#     (City,'hand')\n",
    "# ]\n"
   ]
  },
  {
   "cell_type": "code",
   "execution_count": null,
   "metadata": {},
   "outputs": [],
   "source": [
    "\n",
    "full_ids = list(OrganizationNatClass.objects.filter(nat_class='Супермаркет').values().values_list(*['source_name','source_id']))\n",
    "#semi_source_name = 'data.mos'\n",
    "\n",
    "\n",
    "#full_ids = list(City.objects.values().values_list(*['source_name','source_id']))\n",
    "# semi_source_name = 'hand'\n",
    "\n",
    "df_full_ids = pd.DataFrame(full_ids,columns=['source_name','source_id'])\n",
    "#df_full_ids['source_name'].values"
   ]
  },
  {
   "cell_type": "code",
   "execution_count": null,
   "metadata": {},
   "outputs": [],
   "source": [
    "empty = Distance.objects.filter(\n",
    "            source_name1 = 'yandex_api',\n",
    "            source_id1__in = list(df_full_ids['source_id'].values),\n",
    "            source_name2 = 'reformagkh',\n",
    "            euclid_distance_metro__isnull = True).count()\n",
    "notempty = Distance.objects.filter(\n",
    "            source_name1 = 'yandex_api',\n",
    "            source_id1__in = list(df_full_ids['source_id'].values),\n",
    "            source_name2 = 'reformagkh',\n",
    "            euclid_distance_metro__isnull = False).count()\n",
    "print('empty',empty)\n",
    "print('notempty',notempty)"
   ]
  },
  {
   "cell_type": "code",
   "execution_count": 5,
   "metadata": {},
   "outputs": [
    {
     "ename": "NameError",
     "evalue": "name 'filter_geo' is not defined",
     "output_type": "error",
     "traceback": [
      "\u001b[0;31m---------------------------------------------------------------------------\u001b[0m",
      "\u001b[0;31mNameError\u001b[0m                                 Traceback (most recent call last)",
      "\u001b[0;32m<ipython-input-5-b2d3c9ca25bd>\u001b[0m in \u001b[0;36m<module>\u001b[0;34m()\u001b[0m\n\u001b[1;32m      2\u001b[0m \u001b[0;34m\u001b[0m\u001b[0m\n\u001b[1;32m      3\u001b[0m for full_id in tqdm_notebook(\n\u001b[0;32m----> 4\u001b[0;31m     \u001b[0mHouse\u001b[0m\u001b[0;34m.\u001b[0m\u001b[0mobjects\u001b[0m\u001b[0;34m.\u001b[0m\u001b[0mfilter\u001b[0m\u001b[0;34m(\u001b[0m\u001b[0;34m**\u001b[0m\u001b[0mfilter_geo\u001b[0m\u001b[0;34m)\u001b[0m\u001b[0;34m.\u001b[0m\u001b[0mvalues\u001b[0m\u001b[0;34m(\u001b[0m\u001b[0;34m)\u001b[0m\u001b[0;34m.\u001b[0m\u001b[0mvalues_list\u001b[0m\u001b[0;34m(\u001b[0m\u001b[0;34m*\u001b[0m\u001b[0;34m[\u001b[0m\u001b[0;34m'source_name'\u001b[0m\u001b[0;34m,\u001b[0m\u001b[0;34m'source_id'\u001b[0m\u001b[0;34m]\u001b[0m\u001b[0;34m)\u001b[0m\u001b[0;34m,\u001b[0m\u001b[0;34m\u001b[0m\u001b[0m\n\u001b[0m\u001b[1;32m      5\u001b[0m     leave=False):\n\u001b[1;32m      6\u001b[0m \u001b[0;34m\u001b[0m\u001b[0m\n",
      "\u001b[0;31mNameError\u001b[0m: name 'filter_geo' is not defined"
     ]
    }
   ],
   "source": [
    "k_max3 = 1\n",
    "\n",
    "for full_id in tqdm_notebook(\n",
    "    House.objects.filter(**filter_geo).values().values_list(*['source_name','source_id']),\n",
    "    leave=False):\n",
    "\n",
    "    source_name2 = full_id[0]\n",
    "    source_id2 = full_id[1]\n",
    "    \n",
    "    objects = Distance.objects.filter(source_name1='yandex_api',source_id2=source_id2,source_name2=source_name2)\n",
    "    \n",
    "    unq = ['source_id1','source_id2','source_name1','source_name2']\n",
    "\n",
    "    features = unq + ['euclid_distance']\n",
    "\n",
    "    df1 = pd.DataFrame(list(objects.values().values_list(*features)), columns=features).drop_duplicates(unq)\n",
    "    \n",
    "    \n",
    "    df1 = df1.rename(columns={'source_id2':'source_id3','source_name2':'source_name3'})\n",
    "    df1 = df1.rename(columns={'source_id1':'source_id2','source_name1':'source_name2'})\n",
    "    objects = Distance.objects.filter(\n",
    "        source_id2__in=df1['source_id2'].values,\n",
    "        source_name2__in=df1['source_name2'].values,\n",
    "        source_name1='data.mos'\n",
    "    )\n",
    "    df2 = pd.DataFrame(list(objects.values().values_list(*features)), columns=features).drop_duplicates(unq)\n",
    "    df_full = pd.merge(df1,df2,on=['source_id2','source_name2'])\n",
    "    \n",
    "    df_full['full_euclid_distance']=  df_full['euclid_distance_x'] + df_full['euclid_distance_y']\n",
    "    \n",
    "    #df_full = df_full.drop(['source_name2','source_id2','euclid_distance_x','euclid_distance_y'], axis=1)\n",
    "    #df_full = df_full.rename(columns={'source_id3':'source_id2','source_name3':'source_name2'})\n",
    "    \n",
    "    \n",
    "    objects = Distance.objects.filter(\n",
    "        source_name1='data.mos',\n",
    "        source_name2='reformagkh',\n",
    "\n",
    "        source_id1__in=df_full['source_id1'].values,\n",
    "        source_id2__in=df_full['source_id3'].values,\n",
    "    ).values().values_list(*features)\n",
    "\n",
    "    df_direct = pd.DataFrame(list(objects),columns=features)\n",
    "    df_direct = df_direct.rename(columns={'source_id2':'source_id3','source_name2':'source_name3'})\n",
    "    df_direct = df_direct.rename(columns={'euclid_distance':'direct_euclid_distance'})\n",
    "    \n",
    "    df = pd.merge(df_full, df_direct,on=['source_id1', 'source_id3', 'source_name1', 'source_name3'])\n",
    "    df['euclid_distance_metro'] = df['full_euclid_distance'] - df['direct_euclid_distance']\n",
    "    df = df.drop(['source_id1','source_name1'], axis=1)\n",
    "    df = df.rename(columns={'source_id2':'source_id1','source_name2':'source_name1'})\n",
    "    df = df.rename(columns={'source_id3':'source_id2','source_name3':'source_name2'})\n",
    "    \n",
    "    df = df.sort_values('full_euclid_distance')\n",
    "    \n",
    "    for i, row in df[unq+['euclid_distance_metro']][:k_max3].iterrows():\n",
    "        dic = row.to_dict()\n",
    "        #print(dic)\n",
    "        euclid_distance_metro = dic.pop('euclid_distance_metro')\n",
    "        objects = Distance.objects.filter(**dic)\n",
    "        for obj in objects:\n",
    "            obj.euclid_distance_metro = euclid_distance_metro\n",
    "            obj.save()"
   ]
  },
  {
   "cell_type": "code",
   "execution_count": null,
   "metadata": {},
   "outputs": [],
   "source": []
  }
 ],
 "metadata": {
  "kernelspec": {
   "display_name": "Python 3",
   "language": "python",
   "name": "python3"
  },
  "language_info": {
   "codemirror_mode": {
    "name": "ipython",
    "version": 3
   },
   "file_extension": ".py",
   "mimetype": "text/x-python",
   "name": "python",
   "nbconvert_exporter": "python",
   "pygments_lexer": "ipython3",
   "version": "3.6.5"
  }
 },
 "nbformat": 4,
 "nbformat_minor": 2
}
