{
 "cells": [
  {
   "cell_type": "code",
   "execution_count": 1,
   "metadata": {},
   "outputs": [],
   "source": [
    "import pandas as pd\n",
    "import folium\n",
    "import folium.plugins as plugins\n",
    "from tqdm import tqdm"
   ]
  },
  {
   "cell_type": "code",
   "execution_count": 2,
   "metadata": {},
   "outputs": [],
   "source": [
    "df = pd.read_csv('shops.tsv',sep='\\t')"
   ]
  },
  {
   "cell_type": "code",
   "execution_count": 3,
   "metadata": {},
   "outputs": [
    {
     "data": {
      "text/plain": [
       "['DNS TechnoPoint',\n",
       " 'Магазин электроники DNS',\n",
       " 'DNS',\n",
       " 'DNS цифровая и бытовая техника',\n",
       " 'Цифровой супермаркет DNS',\n",
       " 'Cifrovoj supermarket DNS']"
      ]
     },
     "execution_count": 3,
     "metadata": {},
     "output_type": "execute_result"
    }
   ],
   "source": [
    "list(set(df[df['name'].apply(lambda x: 'dns' in x.lower())]['name']))"
   ]
  },
  {
   "cell_type": "code",
   "execution_count": 4,
   "metadata": {},
   "outputs": [],
   "source": [
    "we = ['М.Видео','Эльдорадо','Media Markt']\n",
    "main_competitors = ['DNS цифровая и бытовая техника',\n",
    " 'Цифровой супермаркет DNS',\n",
    " 'DNS TechnoPoint',\n",
    " 'Cifrovoj supermarket DNS',\n",
    " 'DNS',\n",
    " 'Магазин электроники DNS']"
   ]
  },
  {
   "cell_type": "code",
   "execution_count": 5,
   "metadata": {},
   "outputs": [
    {
     "data": {
      "text/plain": [
       "Салон связи            3859\n",
       "Магазин электроники    3598\n",
       "Name: class, dtype: int64"
      ]
     },
     "execution_count": 5,
     "metadata": {},
     "output_type": "execute_result"
    }
   ],
   "source": [
    "df['class'].value_counts()"
   ]
  },
  {
   "cell_type": "code",
   "execution_count": 6,
   "metadata": {},
   "outputs": [],
   "source": [
    "lat_max, lon_max = 55.974806, 38.011751\n",
    "\n",
    "lat_min, lon_min = 55.615999, 37.131547\n"
   ]
  },
  {
   "cell_type": "code",
   "execution_count": 7,
   "metadata": {},
   "outputs": [],
   "source": [
    "filt1 = df['lat']>=lat_min\n",
    "filt2 = df['lat']<=lat_max\n",
    "filt3 = df['lon']>=lon_min\n",
    "filt4 = df['lon']<=lon_max\n",
    "filt = filt1&filt2&filt3&filt4\n",
    "df = df[filt]"
   ]
  },
  {
   "cell_type": "code",
   "execution_count": 8,
   "metadata": {},
   "outputs": [],
   "source": [
    "df_homes = pd.read_excel('Жилые дома с числом квартир и ценой v4.xlsx')\n",
    "\n",
    "filt1 = df_homes['lat']>=lat_min\n",
    "filt2 = df_homes['lat']<=lat_max\n",
    "filt3 = df_homes['lon']>=lon_min\n",
    "filt4 = df_homes['lon']<=lon_max\n",
    "filt = filt1&filt2&filt3&filt4\n",
    "df_homes = df_homes[filt]\n",
    "\n",
    "\n",
    "min_lat_kr, min_lon_kr = 55.752600, 37.614400\n",
    "max_lat_kr, max_lon_kr = 55.756871, 37.627532\n",
    "filt1 = df_homes['lat']>=min_lat_kr\n",
    "filt2 = df_homes['lat']<=max_lat_kr\n",
    "filt3 = df_homes['lon']>=min_lon_kr\n",
    "filt4 = df_homes['lon']<=max_lon_kr\n",
    "filt = filt1&filt2&filt3&filt4\n",
    "filt = filt==False\n",
    "df_homes = df_homes[filt]"
   ]
  },
  {
   "cell_type": "code",
   "execution_count": 9,
   "metadata": {},
   "outputs": [
    {
     "name": "stderr",
     "output_type": "stream",
     "text": [
      "8it [00:00, 70.57it/s]"
     ]
    },
    {
     "name": "stdout",
     "output_type": "stream",
     "text": [
      "3194\n"
     ]
    },
    {
     "name": "stderr",
     "output_type": "stream",
     "text": [
      "3194it [00:51, 62.58it/s]\n"
     ]
    }
   ],
   "source": [
    "map_ = folium.Map(location = list(df[['lat','lon']].mean().values), zoom_start=12)\n",
    "print(len(df))\n",
    "for i, row in tqdm(df.iterrows()):\n",
    "        radius = 5\n",
    "        if  row['name'] in we:\n",
    "            color = 'green'\n",
    "            radius = 10\n",
    "        elif row['class']=='Магазин электроники':\n",
    "            color = 'red'\n",
    "        else:\n",
    "            color ='brown'\n",
    "        if  row['name'] in main_competitors:\n",
    "            radius = 10\n",
    "        folium.CircleMarker(row[['lat','lon']].values,fill=True,\n",
    "                            fill_opacity = 1,\n",
    "                            color=color,\n",
    "                            opacity=0,\n",
    "                            radius = radius,\n",
    "                            popup =  row['name']\n",
    "                           ).add_to(map_)"
   ]
  },
  {
   "cell_type": "code",
   "execution_count": null,
   "metadata": {},
   "outputs": [],
   "source": []
  },
  {
   "cell_type": "code",
   "execution_count": 10,
   "metadata": {},
   "outputs": [
    {
     "name": "stderr",
     "output_type": "stream",
     "text": [
      "/home/tserekh/jupnb/lib/python3.5/site-packages/ipykernel_launcher.py:1: FutureWarning: Method .as_matrix will be removed in a future version. Use .values instead.\n",
      "  \"\"\"Entry point for launching an IPython kernel.\n"
     ]
    },
    {
     "data": {
      "text/plain": [
       "<folium.plugins.heat_map.HeatMap at 0x7f24166375f8>"
      ]
     },
     "execution_count": 10,
     "metadata": {},
     "output_type": "execute_result"
    }
   ],
   "source": [
    "data = df_homes[['lat','lon','flat_num']].as_matrix()\n",
    "plugins.HeatMap(list(map(list,data)),radius=10,blur=20).add_to(map_)\n"
   ]
  },
  {
   "cell_type": "code",
   "execution_count": 11,
   "metadata": {},
   "outputs": [],
   "source": [
    "map_.save('map.html')"
   ]
  },
  {
   "cell_type": "code",
   "execution_count": null,
   "metadata": {},
   "outputs": [],
   "source": []
  }
 ],
 "metadata": {
  "kernelspec": {
   "display_name": "Python 3",
   "language": "python",
   "name": "python3"
  },
  "language_info": {
   "codemirror_mode": {
    "name": "ipython",
    "version": 3
   },
   "file_extension": ".py",
   "mimetype": "text/x-python",
   "name": "python",
   "nbconvert_exporter": "python",
   "pygments_lexer": "ipython3",
   "version": "3.5.2"
  }
 },
 "nbformat": 4,
 "nbformat_minor": 2
}
