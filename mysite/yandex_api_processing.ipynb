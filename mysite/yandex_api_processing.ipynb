{
 "cells": [
  {
   "cell_type": "code",
   "execution_count": 1,
   "metadata": {},
   "outputs": [
    {
     "name": "stderr",
     "output_type": "stream",
     "text": [
      "/home/tserekh/env/lib/python3.6/site-packages/psycopg2/__init__.py:144: UserWarning: The psycopg2 wheel package will be renamed from release 2.8; in order to keep installing from binary please use \"pip install psycopg2-binary\" instead. For details see: <http://initd.org/psycopg/docs/install.html#binary-install-from-pypi>.\n",
      "  \"\"\")\n"
     ]
    }
   ],
   "source": [
    "import glob\n",
    "import pandas as pd\n",
    "import json\n",
    "import datetime\n",
    "from tqdm import tqdm, tqdm_notebook\n",
    "import os\n",
    "from django.conf import settings\n",
    "#from sqlalchemy import create_engine\n",
    "os.environ[\"DJANGO_SETTINGS_MODULE\"] = \"mysite.settings\"\n",
    "import django\n",
    "django.setup()\n",
    "from tqdm import tqdm_notebook\n",
    "import glob\n",
    "import numpy as np\n",
    "from django.db.models import Min,Max,Count\n",
    "comfig_file_path = '../../main_config.txt'\n",
    "main_name = 'yandex/'\n",
    "sub_name = 'raw_org_search/'"
   ]
  },
  {
   "cell_type": "code",
   "execution_count": 2,
   "metadata": {},
   "outputs": [],
   "source": [
    "import sys\n",
    "sys.path.append('/usr/lib/python3/dist-packages')\n",
    "from pyproj import Proj, transform\n",
    "\n",
    "PROJ3857  = Proj(\"+init=EPSG:3857\")\n",
    "PROJ4326 = Proj(\"+init=EPSG:4326\")"
   ]
  },
  {
   "cell_type": "code",
   "execution_count": 3,
   "metadata": {},
   "outputs": [],
   "source": [
    "from main_map.models import AlcoStopper as OrganizationNatClass"
   ]
  },
  {
   "cell_type": "code",
   "execution_count": 4,
   "metadata": {},
   "outputs": [],
   "source": [
    "def get_words_dates(path):\n",
    "    filename= '.'.join(path.split('/')[-1].split('.')[:-1])\n",
    "    date = filename[-17:]\n",
    "    date = datetime.datetime.strptime(date, '%Y-%m-%d_%H%M%S')\n",
    "    word = filename[:-17]\n",
    "    return (word, date,path)"
   ]
  },
  {
   "cell_type": "code",
   "execution_count": 5,
   "metadata": {},
   "outputs": [],
   "source": [
    "paths = glob.glob('/home/tserekh/abc_data/yandex/raw_org_search_json/*.json')\n",
    "df_paths = pd.DataFrame(paths,columns = ['path'])\n",
    "\n",
    "df_paths['word'] = df_paths['path'].apply(lambda path: get_words_dates(path)[0])\n",
    "df_paths['date'] = df_paths['path'].apply(lambda path: get_words_dates(path)[1])\n",
    "df_paths = df_paths[df_paths['date']>pd.datetime(2018,12,7,1,4)]\n",
    "df_paths = df_paths.sort_values('date', ascending=False)\n",
    "df_paths = df_paths.drop_duplicates('word',keep='first')\n",
    "\n",
    "paths = df_paths['path'].values"
   ]
  },
  {
   "cell_type": "code",
   "execution_count": 6,
   "metadata": {},
   "outputs": [
    {
     "data": {
      "text/plain": [
       "array(['/home/tserekh/abc_data/yandex/raw_org_search_json/Автомойка2019-05-25_003336.json',\n",
       "       '/home/tserekh/abc_data/yandex/raw_org_search_json/Автоаксессуары2019-05-25_001918.json',\n",
       "       '/home/tserekh/abc_data/yandex/raw_org_search_json/АЗС2019-05-25_000524.json',\n",
       "       '/home/tserekh/abc_data/yandex/raw_org_search_json/Магазин продуктов2019-05-24_235129.json',\n",
       "       '/home/tserekh/abc_data/yandex/raw_org_search_json/Супермаркет2019-05-24_233323.json',\n",
       "       '/home/tserekh/abc_data/yandex/raw_org_search_json/Ресторан2019-05-24_231847.json',\n",
       "       '/home/tserekh/abc_data/yandex/raw_org_search_json/Парикмахерская2019-05-24_230212.json',\n",
       "       '/home/tserekh/abc_data/yandex/raw_org_search_json/Аптека2019-05-24_224425.json',\n",
       "       '/home/tserekh/abc_data/yandex/raw_org_search_json/Банкомат2019-05-24_222832.json',\n",
       "       '/home/tserekh/abc_data/yandex/raw_org_search_json/Банк2019-05-24_221318.json'],\n",
       "      dtype=object)"
      ]
     },
     "execution_count": 6,
     "metadata": {},
     "output_type": "execute_result"
    }
   ],
   "source": [
    "paths"
   ]
  },
  {
   "cell_type": "code",
   "execution_count": 7,
   "metadata": {},
   "outputs": [],
   "source": [
    "#paths = ['/home/tserekh/abc_data/yandex/raw_org_search_json/Кафе2018-12-02_120706.json']"
   ]
  },
  {
   "cell_type": "code",
   "execution_count": 8,
   "metadata": {},
   "outputs": [],
   "source": [
    "# OrganizationNatClass.objects.all().delete()"
   ]
  },
  {
   "cell_type": "code",
   "execution_count": 9,
   "metadata": {},
   "outputs": [
    {
     "data": {
      "application/vnd.jupyter.widget-view+json": {
       "model_id": "9b0c96517d184e559a9a99378157c265",
       "version_major": 2,
       "version_minor": 0
      },
      "text/plain": [
       "HBox(children=(IntProgress(value=0, max=10), HTML(value='')))"
      ]
     },
     "metadata": {},
     "output_type": "display_data"
    },
    {
     "name": "stdout",
     "output_type": "stream",
     "text": [
      "Автомойка2019-05-25_003336.json 10793\n",
      "10793\n"
     ]
    },
    {
     "data": {
      "application/vnd.jupyter.widget-view+json": {
       "model_id": "",
       "version_major": 2,
       "version_minor": 0
      },
      "text/plain": [
       "HBox(children=(IntProgress(value=1, bar_style='info', max=1), HTML(value='')))"
      ]
     },
     "metadata": {},
     "output_type": "display_data"
    },
    {
     "name": "stdout",
     "output_type": "stream",
     "text": [
      "Автоаксессуары2019-05-25_001918.json 8977\n",
      "8977\n"
     ]
    },
    {
     "data": {
      "application/vnd.jupyter.widget-view+json": {
       "model_id": "",
       "version_major": 2,
       "version_minor": 0
      },
      "text/plain": [
       "HBox(children=(IntProgress(value=1, bar_style='info', max=1), HTML(value='')))"
      ]
     },
     "metadata": {},
     "output_type": "display_data"
    },
    {
     "name": "stdout",
     "output_type": "stream",
     "text": [
      "АЗС2019-05-25_000524.json 2648\n",
      "2648\n"
     ]
    },
    {
     "data": {
      "application/vnd.jupyter.widget-view+json": {
       "model_id": "",
       "version_major": 2,
       "version_minor": 0
      },
      "text/plain": [
       "HBox(children=(IntProgress(value=1, bar_style='info', max=1), HTML(value='')))"
      ]
     },
     "metadata": {},
     "output_type": "display_data"
    },
    {
     "name": "stdout",
     "output_type": "stream",
     "text": [
      "Магазин продуктов2019-05-24_235129.json 44914\n",
      "44914\n"
     ]
    },
    {
     "data": {
      "application/vnd.jupyter.widget-view+json": {
       "model_id": "",
       "version_major": 2,
       "version_minor": 0
      },
      "text/plain": [
       "HBox(children=(IntProgress(value=1, bar_style='info', max=1), HTML(value='')))"
      ]
     },
     "metadata": {},
     "output_type": "display_data"
    },
    {
     "name": "stdout",
     "output_type": "stream",
     "text": [
      "Супермаркет2019-05-24_233323.json 12467\n",
      "12467\n"
     ]
    },
    {
     "data": {
      "application/vnd.jupyter.widget-view+json": {
       "model_id": "",
       "version_major": 2,
       "version_minor": 0
      },
      "text/plain": [
       "HBox(children=(IntProgress(value=1, bar_style='info', max=1), HTML(value='')))"
      ]
     },
     "metadata": {},
     "output_type": "display_data"
    },
    {
     "name": "stdout",
     "output_type": "stream",
     "text": [
      "Ресторан2019-05-24_231847.json 17750\n",
      "17750\n"
     ]
    },
    {
     "data": {
      "application/vnd.jupyter.widget-view+json": {
       "model_id": "",
       "version_major": 2,
       "version_minor": 0
      },
      "text/plain": [
       "HBox(children=(IntProgress(value=1, bar_style='info', max=1), HTML(value='')))"
      ]
     },
     "metadata": {},
     "output_type": "display_data"
    },
    {
     "name": "stdout",
     "output_type": "stream",
     "text": [
      "Парикмахерская2019-05-24_230212.json 40764\n",
      "40764\n"
     ]
    },
    {
     "data": {
      "application/vnd.jupyter.widget-view+json": {
       "model_id": "",
       "version_major": 2,
       "version_minor": 0
      },
      "text/plain": [
       "HBox(children=(IntProgress(value=1, bar_style='info', max=1), HTML(value='')))"
      ]
     },
     "metadata": {},
     "output_type": "display_data"
    },
    {
     "name": "stdout",
     "output_type": "stream",
     "text": [
      "Аптека2019-05-24_224425.json 10420\n",
      "10420\n"
     ]
    },
    {
     "data": {
      "application/vnd.jupyter.widget-view+json": {
       "model_id": "",
       "version_major": 2,
       "version_minor": 0
      },
      "text/plain": [
       "HBox(children=(IntProgress(value=1, bar_style='info', max=1), HTML(value='')))"
      ]
     },
     "metadata": {},
     "output_type": "display_data"
    },
    {
     "name": "stdout",
     "output_type": "stream",
     "text": [
      "Банкомат2019-05-24_222832.json 13707\n",
      "13707\n"
     ]
    },
    {
     "data": {
      "application/vnd.jupyter.widget-view+json": {
       "model_id": "",
       "version_major": 2,
       "version_minor": 0
      },
      "text/plain": [
       "HBox(children=(IntProgress(value=1, bar_style='info', max=1), HTML(value='')))"
      ]
     },
     "metadata": {},
     "output_type": "display_data"
    },
    {
     "name": "stdout",
     "output_type": "stream",
     "text": [
      "Банк2019-05-24_221318.json 6468\n",
      "6468\n"
     ]
    },
    {
     "data": {
      "application/vnd.jupyter.widget-view+json": {
       "model_id": "",
       "version_major": 2,
       "version_minor": 0
      },
      "text/plain": [
       "HBox(children=(IntProgress(value=1, bar_style='info', max=1), HTML(value='')))"
      ]
     },
     "metadata": {},
     "output_type": "display_data"
    },
    {
     "name": "stdout",
     "output_type": "stream",
     "text": [
      "\n"
     ]
    }
   ],
   "source": [
    "df_all = pd.DataFrame()\n",
    "for path in tqdm_notebook(paths):\n",
    "    \n",
    "    ids = []\n",
    "    names = []\n",
    "    coords = []\n",
    "    chain_names = []\n",
    "    lats = []\n",
    "    lons = []\n",
    "    addresses = []\n",
    "    urls = []\n",
    "    \n",
    "    print(path.split('/')[-1], end = ' ')\n",
    "    \n",
    "    f = open(path)\n",
    "    line = f.readline()\n",
    "    f.close()\n",
    "    struct = json.loads(line)\n",
    "\n",
    "    for j in range(len(struct)):\n",
    "        \n",
    "        if str(struct[j])==\"{'status': 'error', 'message': 'internal server error', 'code': 500}\":\n",
    "            print('error')\n",
    "            continue\n",
    "        features = struct[j]['features']\n",
    "        for feature in features:\n",
    "            id_ = feature['properties']['CompanyMetaData']['id']\n",
    "            chain_name = feature['properties']['CompanyMetaData']['name']\n",
    "            lon, lat = feature['geometries'][0]['coordinates']\n",
    "            address = feature['properties']['CompanyMetaData']['address']\n",
    "            if 'url' in feature['properties']['CompanyMetaData'].keys():\n",
    "                url = feature['properties']['CompanyMetaData']['url']\n",
    "            else:\n",
    "                url = None\n",
    "            for el in feature['properties']['CompanyMetaData']['Categories']:\n",
    "                names.append(el['name'])\n",
    "                ids.append(id_)\n",
    "                urls.append(url)\n",
    "                chain_names.append(chain_name)\n",
    "                lats.append(lat)\n",
    "                lons.append(lon)\n",
    "                addresses.append(address)\n",
    "\n",
    "    df = pd.DataFrame([names,ids,chain_names, lats, lons,addresses,urls]).T\n",
    "    features = ['nat_class', 'source_id','chain_name','lat','lon','address','source_name']\n",
    "    df.columns = features\n",
    "    df = df.drop_duplicates(['nat_class','source_id'])\n",
    "    \n",
    "\n",
    "    \n",
    "    df['source_name'] = 'yandex_api'\n",
    "    \n",
    "    #df = df[df['nat_class'].apply(lambda x: x.lower()).isin(df_paths['word'].apply(lambda x: x.lower()).values)]\n",
    "    print(len(df))\n",
    "    df = df.drop_duplicates(['nat_class','source_id'])\n",
    "    print(len(df))\n",
    "    \n",
    "    for i, row in tqdm_notebook(df[features].iterrows(),leave=False):\n",
    "        org = OrganizationNatClass(**row.to_dict())\n",
    "        org.x, org.y = transform(PROJ4326, PROJ3857, row['lon'], row['lat'])\n",
    "        org.save()"
   ]
  },
  {
   "cell_type": "code",
   "execution_count": 12,
   "metadata": {},
   "outputs": [
    {
     "name": "stdout",
     "output_type": "stream",
     "text": [
      "47065\n"
     ]
    }
   ],
   "source": [
    "unique_fields = ['source_id', 'source_name','nat_class']\n",
    "\n",
    "duplicates = (\n",
    "    OrganizationNatClass.objects.values(*unique_fields)\n",
    "    .order_by()\n",
    "    .annotate(max_id=Max('id'), count_id=Count('id'))\n",
    "    .filter(count_id__gt=1)\n",
    ")\n",
    "print(len(duplicates))"
   ]
  },
  {
   "cell_type": "code",
   "execution_count": 13,
   "metadata": {},
   "outputs": [
    {
     "data": {
      "application/vnd.jupyter.widget-view+json": {
       "model_id": "b8ef5badc3a94fbfa2d2fd10fcb50414",
       "version_major": 2,
       "version_minor": 0
      },
      "text/plain": [
       "HBox(children=(IntProgress(value=0, max=47065), HTML(value='')))"
      ]
     },
     "metadata": {},
     "output_type": "display_data"
    }
   ],
   "source": [
    "for duplicate in tqdm_notebook(duplicates):\n",
    "    (\n",
    "        OrganizationNatClass.objects\n",
    "        .filter(**{x: duplicate[x] for x in unique_fields})\n",
    "        .exclude(id=duplicate['max_id'])\n",
    "        .delete()\n",
    "    )"
   ]
  },
  {
   "cell_type": "code",
   "execution_count": null,
   "metadata": {},
   "outputs": [],
   "source": [
    "# print(Organization.objects.all().delete())\n",
    "# print(OrganizationNatClass.objects.all().delete())\n"
   ]
  },
  {
   "cell_type": "code",
   "execution_count": null,
   "metadata": {},
   "outputs": [],
   "source": [
    "model_list = [OrganizationNatClass]\n",
    "for Model in model_list:\n",
    "    for el in tqdm(Model.objects.filter(x__isnull=True)):\n",
    "        el.x, el.y = transform(PROJ4326, PROJ3857, el.lon, el.lat)\n",
    "        el.save()"
   ]
  },
  {
   "cell_type": "code",
   "execution_count": null,
   "metadata": {},
   "outputs": [],
   "source": []
  },
  {
   "cell_type": "code",
   "execution_count": null,
   "metadata": {},
   "outputs": [],
   "source": []
  },
  {
   "cell_type": "code",
   "execution_count": null,
   "metadata": {},
   "outputs": [],
   "source": []
  }
 ],
 "metadata": {
  "hide_input": false,
  "kernelspec": {
   "display_name": "Python 3",
   "language": "python",
   "name": "python3"
  },
  "language_info": {
   "codemirror_mode": {
    "name": "ipython",
    "version": 3
   },
   "file_extension": ".py",
   "mimetype": "text/x-python",
   "name": "python",
   "nbconvert_exporter": "python",
   "pygments_lexer": "ipython3",
   "version": "3.6.5"
  }
 },
 "nbformat": 4,
 "nbformat_minor": 2
}
