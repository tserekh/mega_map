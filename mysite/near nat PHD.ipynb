{
 "cells": [
  {
   "cell_type": "code",
   "execution_count": 1,
   "metadata": {},
   "outputs": [
    {
     "name": "stderr",
     "output_type": "stream",
     "text": [
      "/home/tserekh/env/lib/python3.6/site-packages/psycopg2/__init__.py:144: UserWarning: The psycopg2 wheel package will be renamed from release 2.8; in order to keep installing from binary please use \"pip install psycopg2-binary\" instead. For details see: <http://initd.org/psycopg/docs/install.html#binary-install-from-pypi>.\n",
      "  \"\"\")\n",
      "/home/tserekh/env/lib/python3.6/site-packages/django/db/models/base.py:299: RuntimeWarning: Model 'main_map.predictedsquare' was already registered. Reloading models is not advised as it can lead to inconsistencies, most notably with related models.\n",
      "  new_class._meta.apps.register_model(new_class._meta.app_label, new_class)\n"
     ]
    }
   ],
   "source": [
    "import glob\n",
    "import pandas as pd\n",
    "import json\n",
    "import datetime\n",
    "from tqdm import tqdm\n",
    "import os\n",
    "from django.conf import settings\n",
    "#from sqlalchemy import create_engine\n",
    "os.environ[\"DJANGO_SETTINGS_MODULE\"] = \"mysite.settings\"\n",
    "import django\n",
    "django.setup()\n",
    "from tqdm import tqdm, tqdm_notebook\n",
    "import glob\n",
    "import numpy as np\n",
    "\n",
    "from django.db.models import Min,Max,Count\n",
    "from sklearn.neighbors import KDTree\n",
    "comfig_file_path = '../../main_config.txt'\n",
    "main_name = 'yandex/'\n",
    "sub_name = 'raw_org_search/'\n",
    "import time\n",
    "from sklearn.utils import shuffle\n",
    "import matplotlib.pyplot as plt\n",
    "from sklearn.metrics import roc_auc_score\n",
    "\n",
    "from itertools import product\n",
    "import numpy as np\n",
    "from sklearn.utils import shuffle"
   ]
  },
  {
   "cell_type": "code",
   "execution_count": 2,
   "metadata": {},
   "outputs": [],
   "source": [
    "import sys\n",
    "import json\n",
    "sys.path.append('/usr/lib/python3/dist-packages')\n",
    "from main_map.models import OrganizationNatClass, House, Metro, DistanceTemp, City"
   ]
  },
  {
   "cell_type": "code",
   "execution_count": 3,
   "metadata": {},
   "outputs": [],
   "source": [
    "#nat_classes = ['АЗС','Парикмахерская', 'Ресторан','Супермаркет']\n",
    "true_nat_classes_list = [\n",
    "#     ['Супермаркет','Магазин продуктов'],\n",
    "#     ['Парикмахерская'],\n",
    "#     ['АЗС'],\n",
    "    ['Быстрое питание'],\n",
    "]\n",
    "#nat_classes = ['АЗС']\n",
    "#nat_classes = ['Автомойка']"
   ]
  },
  {
   "cell_type": "code",
   "execution_count": 4,
   "metadata": {},
   "outputs": [],
   "source": [
    "def calc_distance(df1, df2, from_2, k):\n",
    "    \n",
    "    tree = KDTree(df1[xy])\n",
    "    distances_list, indexes_list = tree.query(df2[xy], k=k)\n",
    "    \n",
    "    df1 = df1.rename(columns = {'source_id':'source_id1','source_name':'source_name1'})\n",
    "    df2 = df2.rename(columns = {'source_id':'source_id2','source_name':'source_name2'})\n",
    "\n",
    "    df1_all = pd.DataFrame()\n",
    "    df_orgs_all = pd.DataFrame()\n",
    "    for i in tqdm_notebook(range(k), leave=False):\n",
    "        indexes = indexes_list[:,i]\n",
    "        distances = distances_list[:,i]\n",
    "        df1_sub = df1.iloc[indexes].copy()\n",
    "\n",
    "        for col in from_2:\n",
    "\n",
    "            df1_sub[col] = df2[col].values\n",
    "        df1_sub['distance'] = distances\n",
    "        df1_all = df1_all.append(df1_sub)\n",
    "    return df1_all\n",
    "\n",
    "def get_result(df_three, score_name):\n",
    "    df_gb1 = df_three[df_three['true']].groupby(['source_id1','source_name1'],as_index=False)[score_name].sum()\n",
    "    df_gb2 = df_three[df_three['true']==False].groupby(['source_id1','source_name1'],as_index=False)[score_name].sum()\n",
    "    df_gb = pd.concat([df_gb1, df_gb2])\n",
    "\n",
    "    df = df_three.copy()\n",
    "    df = pd.merge(df, df_gb,on=['source_id1','source_name1'])\n",
    "    df['rate'] = df[score_name + '_x']/(df[score_name +'_y'] + df[score_name +'_y']*(df['true']==False))\n",
    "    df['our_flats'] = df['flat_num']*df['rate'] \n",
    "\n",
    "    agg = {}\n",
    "    agg['our_flats'] = sum\n",
    "    agg['true'] = lambda x: list(x)[0]\n",
    "    df_result = df.groupby(['source_id1','source_name1'],as_index=False).agg(agg)\n",
    "    return df_result"
   ]
  },
  {
   "cell_type": "code",
   "execution_count": 5,
   "metadata": {},
   "outputs": [],
   "source": [
    "lat_min, lon_min = 55.561417, 37.245485\n",
    "lat_max, lon_max = 55.933221, 37.875825\n",
    "\n",
    "\n",
    "\n",
    "\n",
    "filter_geo =    {\n",
    "    'lat__gt' : lat_min, \n",
    "    'lon__gt' : lon_min,\n",
    "    'lat__lt' : lat_max, \n",
    "    'lon__lt' : lon_max,\n",
    "}\n",
    "filter_dic = filter_geo.copy()"
   ]
  },
  {
   "cell_type": "code",
   "execution_count": 27,
   "metadata": {},
   "outputs": [],
   "source": [
    "def f(df_three, x1,x2,w):\n",
    "    df_three['extra_distance'] = df_three['direct_distance'] - df_three['first_distance'] - df_three['second_distance']\n",
    "\n",
    "    df_three['two_score'] = (df_three['second_distance']+1)**x1\n",
    "    df_three['three_score'] = (df_three['extra_distance']+1)**x2\n",
    "\n",
    "\n",
    "    \n",
    "    \n",
    "    df_result_two = get_result(df_three, 'two_score')\n",
    "    df_result_three = get_result(df_three, 'three_score')\n",
    "    pred = df_result_two['our_flats']*w + (1 - w)*df_result_three['our_flats']\n",
    "    fact = df_result_two['true'].values\n",
    "    auc_roc = roc_auc_score(fact, pred)\n",
    "    return auc_roc"
   ]
  },
  {
   "cell_type": "code",
   "execution_count": 20,
   "metadata": {},
   "outputs": [],
   "source": [
    "x1_list  = [1]\n",
    "x2_list = np.log(np.linspace(10**(-0.2),10**(-5),20))\n",
    "x3_list = x2_list.copy()\n",
    "w_list =  np.linspace(0,1,6)"
   ]
  },
  {
   "cell_type": "code",
   "execution_count": 21,
   "metadata": {},
   "outputs": [
    {
     "data": {
      "text/plain": [
       "array([ -0.46051702,  -0.51458336,  -0.57174079,  -0.6323643 ,\n",
       "        -0.69690157,  -0.76589301,  -0.83999933,  -0.9200401 ,\n",
       "        -1.0070492 ,  -1.10235664,  -1.20771381,  -1.32549266,\n",
       "        -1.45901868,  -1.61316219,  -1.79547371,  -2.0186022 ,\n",
       "        -2.30625919,  -2.71167411,  -3.40467076, -11.51292546])"
      ]
     },
     "execution_count": 21,
     "metadata": {},
     "output_type": "execute_result"
    }
   ],
   "source": [
    "x2_list"
   ]
  },
  {
   "cell_type": "code",
   "execution_count": 22,
   "metadata": {},
   "outputs": [],
   "source": [
    "combs = product(x1_list, x2_list,x3_list, w_list)\n",
    "combs = list(combs)\n",
    "combs = shuffle(combs)"
   ]
  },
  {
   "cell_type": "code",
   "execution_count": 23,
   "metadata": {},
   "outputs": [],
   "source": [
    "columns = ['address', 'flat_num', 'source_id', 'source_name',  'x', 'y']\n",
    "df_homes = pd.DataFrame(list(House.objects.filter(**filter_geo).values().values_list(*columns)),columns=columns)"
   ]
  },
  {
   "cell_type": "code",
   "execution_count": 26,
   "metadata": {},
   "outputs": [],
   "source": [
    "from bayes_opt import BayesianOptimization"
   ]
  },
  {
   "cell_type": "code",
   "execution_count": 28,
   "metadata": {},
   "outputs": [
    {
     "data": {
      "application/vnd.jupyter.widget-view+json": {
       "model_id": "5e58addd76b0494eaa0f537150f28eac",
       "version_major": 2,
       "version_minor": 0
      },
      "text/plain": [
       "HBox(children=(IntProgress(value=0, max=1), HTML(value='')))"
      ]
     },
     "metadata": {},
     "output_type": "display_data"
    },
    {
     "name": "stdout",
     "output_type": "stream",
     "text": [
      "['Быстрое питание']\n"
     ]
    },
    {
     "data": {
      "application/vnd.jupyter.widget-view+json": {
       "model_id": "",
       "version_major": 2,
       "version_minor": 0
      },
      "text/plain": [
       "HBox(children=(IntProgress(value=0, max=10), HTML(value='')))"
      ]
     },
     "metadata": {},
     "output_type": "display_data"
    },
    {
     "data": {
      "application/vnd.jupyter.widget-view+json": {
       "model_id": "",
       "version_major": 2,
       "version_minor": 0
      },
      "text/plain": [
       "HBox(children=(IntProgress(value=0, max=10), HTML(value='')))"
      ]
     },
     "metadata": {},
     "output_type": "display_data"
    },
    {
     "data": {
      "application/vnd.jupyter.widget-view+json": {
       "model_id": "",
       "version_major": 2,
       "version_minor": 0
      },
      "text/plain": [
       "HBox(children=(IntProgress(value=0, max=20), HTML(value='')))"
      ]
     },
     "metadata": {},
     "output_type": "display_data"
    }
   ],
   "source": [
    "for true_nat_classes in tqdm_notebook(true_nat_classes_list):\n",
    "    print(true_nat_classes)\n",
    "    columns = ['address', 'chain_name', 'nat_class', 'source_id','source_name', 'x', 'y']\n",
    "\n",
    "    filter_dic['nat_class__in'] = true_nat_classes\n",
    "    df_orgs1 = pd.DataFrame(list(OrganizationNatClass.objects.filter(**filter_dic).values().values_list(*columns)),columns=columns)\n",
    "    df_orgs1 = df_orgs1.drop_duplicates()\n",
    "    df_orgs1['true'] = True\n",
    "\n",
    "    df_orgs2 = pd.DataFrame(\n",
    "        list(OrganizationNatClass\n",
    "             .objects.filter(**filter_geo)\n",
    "             .exclude(**{'source_id__in':df_orgs1['source_id'].values})\n",
    "             .values()\n",
    "             .values_list(*columns).order_by('?')[:10000]),columns=columns)\n",
    "    df_orgs2 = df_orgs2.drop_duplicates()\n",
    "    df_orgs2['true'] = False\n",
    "    df_orgs = pd.concat([df_orgs1, df_orgs2])\n",
    "\n",
    "    xy = ['x','y']\n",
    "    columns = ['source_id','source_name','x','y']\n",
    "    df_cities = pd.DataFrame(list(Metro.objects.filter(**filter_geo).values().values_list(*columns)),columns=columns)\n",
    "\n",
    "    df_cities_homes = calc_distance(df_cities[columns], df_homes[columns],['source_id2','source_name2'], 10)\n",
    "    df_cities_homes = df_cities_homes.rename(columns={\n",
    "        'source_id2':'source_id3',\n",
    "        'source_name2':'source_name3',\n",
    "        'distance':'direct_distance',\n",
    "    })\n",
    "\n",
    "    df_cities_orgs = calc_distance(df_cities[columns], df_orgs[columns],['source_id2','source_name2'], 10)\n",
    "    df_cities_orgs = df_cities_orgs.rename(columns={\n",
    "        'distance':'first_distance',\n",
    "\n",
    "    })\n",
    "\n",
    "    df_orgs_homes = calc_distance(df_orgs[columns], df_homes[columns],['source_id2','source_name2'], 20)\n",
    "    df_orgs_homes = df_orgs_homes.rename(columns={\n",
    "        'source_id2':'source_id3',\n",
    "        'source_name2':'source_name3',\n",
    "        'source_id1':'source_id2',\n",
    "        'source_name1':'source_name2',\n",
    "        'distance':'second_distance',\n",
    "\n",
    "    })\n",
    "\n",
    "    df12 = pd.merge(\n",
    "        df_cities_orgs[['source_id1','source_name1','source_id2','source_name2','first_distance']],\n",
    "        df_orgs_homes[['source_id2','source_name2','source_id3','source_name3','second_distance']],\n",
    "        on=['source_id2','source_name2']\n",
    "    )\n",
    "\n",
    "    df_three = pd.merge(df12, df_cities_homes,on=['source_id1','source_name1','source_id3','source_name3'])\n",
    "    df_three = df_three.drop(['source_id1','source_name1'],axis=1)\n",
    "    df_three = df_three.drop_duplicates()\n",
    "\n",
    "    df_three = df_three.rename(columns={\n",
    "        'source_id3':'source_id2',\n",
    "        'source_name3':'source_name2',\n",
    "        'source_id2':'source_id1',\n",
    "        'source_name2':'source_name1',\n",
    "\n",
    "    })\n",
    "    df_three = pd.merge(\n",
    "        df_orgs[['source_id','source_name','true']] .rename(\n",
    "            columns = {'source_id':'source_id1','source_name':'source_name1'}),\n",
    "        df_three,\n",
    "        on=['source_id1','source_name1']\n",
    "    )\n",
    "\n",
    "    df_three = pd.merge(\n",
    "        df_homes[['source_id','source_name','flat_num']] .rename(\n",
    "            columns = {'source_id':'source_id2','source_name':'source_name2'}),\n",
    "        df_three,\n",
    "        on=['source_id2','source_name2']\n",
    "    )\n",
    "    best_auc_roc = 0\n",
    "    best_params = None\n",
    "\n",
    "    ind = 0\n",
    "    break"
   ]
  },
  {
   "cell_type": "code",
   "execution_count": 48,
   "metadata": {},
   "outputs": [],
   "source": [
    "dic = {}\n",
    "dic['x1'] = (-10,0)\n",
    "dic['x2'] = (-10,0)\n",
    "dic['w'] = (0.01,0.99)"
   ]
  },
  {
   "cell_type": "code",
   "execution_count": 49,
   "metadata": {},
   "outputs": [],
   "source": [
    "def f_(x1,x2,w):\n",
    "    return f(df_three,x1,x2,w)"
   ]
  },
  {
   "cell_type": "code",
   "execution_count": 50,
   "metadata": {},
   "outputs": [],
   "source": [
    "opt = BayesianOptimization(f_,dic)"
   ]
  },
  {
   "cell_type": "code",
   "execution_count": 51,
   "metadata": {
    "scrolled": false
   },
   "outputs": [
    {
     "name": "stdout",
     "output_type": "stream",
     "text": [
      "\u001b[31mInitialization\u001b[0m\n",
      "\u001b[94m-----------------------------------------------------------------\u001b[0m\n",
      " Step |   Time |      Value |         w |        x1 |        x2 | \n",
      "    1 | 00m19s | \u001b[35m   0.67340\u001b[0m | \u001b[32m   0.4293\u001b[0m | \u001b[32m  -8.5684\u001b[0m | \u001b[32m  -3.3444\u001b[0m | \n",
      "    2 | 00m20s | \u001b[35m   0.68837\u001b[0m | \u001b[32m   0.5580\u001b[0m | \u001b[32m  -4.6836\u001b[0m | \u001b[32m  -9.5048\u001b[0m | \n",
      "    3 | 00m19s |    0.68716 |    0.8080 |   -9.5379 |   -3.8799 | \n",
      "    4 | 00m16s | \u001b[35m   0.69660\u001b[0m | \u001b[32m   0.7425\u001b[0m | \u001b[32m  -4.7235\u001b[0m | \u001b[32m  -5.5056\u001b[0m | \n",
      "    5 | 00m15s |    0.65921 |    0.3259 |   -9.4836 |   -7.5170 | \n",
      "\u001b[31mBayesian Optimization\u001b[0m\n",
      "\u001b[94m-----------------------------------------------------------------\u001b[0m\n",
      " Step |   Time |      Value |         w |        x1 |        x2 | \n",
      "    6 | 00m23s | \u001b[35m   0.77322\u001b[0m | \u001b[32m   0.9900\u001b[0m | \u001b[32m   0.0000\u001b[0m | \u001b[32m   0.0000\u001b[0m | \n",
      "    7 | 00m23s |    0.77322 |    0.9900 |    0.0000 |  -10.0000 | \n",
      "    8 | 00m20s |    0.77304 |    0.9900 |    0.0000 |   -4.7002 | \n",
      "    9 | 00m23s |    0.77304 |    0.9900 |   -0.0000 |   -6.9514 | \n"
     ]
    },
    {
     "name": "stderr",
     "output_type": "stream",
     "text": [
      "/home/tserekh/env/lib/python3.6/site-packages/sklearn/gaussian_process/gpr.py:335: UserWarning: Predicted variances smaller than 0. Setting those variances to 0.\n",
      "  warnings.warn(\"Predicted variances smaller than 0. \"\n"
     ]
    },
    {
     "name": "stdout",
     "output_type": "stream",
     "text": [
      "   10 | 00m31s |    0.77303 |    0.9900 |    0.0000 |   -1.8104 | \n",
      "   11 | 00m32s |    0.77304 |    0.9900 |    0.0000 |   -8.0558 | \n"
     ]
    },
    {
     "name": "stderr",
     "output_type": "stream",
     "text": [
      "/home/tserekh/env/lib/python3.6/site-packages/sklearn/gaussian_process/gpr.py:457: UserWarning: fmin_l_bfgs_b terminated abnormally with the  state: {'grad': array([2.09151631e-05]), 'task': b'ABNORMAL_TERMINATION_IN_LNSRCH', 'funcalls': 54, 'nit': 5, 'warnflag': 2}\n",
      "  \" state: %s\" % convergence_dict)\n",
      "/home/tserekh/env/lib/python3.6/site-packages/sklearn/gaussian_process/gpr.py:457: UserWarning: fmin_l_bfgs_b terminated abnormally with the  state: {'grad': array([-0.00031058]), 'task': b'ABNORMAL_TERMINATION_IN_LNSRCH', 'funcalls': 53, 'nit': 4, 'warnflag': 2}\n",
      "  \" state: %s\" % convergence_dict)\n"
     ]
    },
    {
     "name": "stdout",
     "output_type": "stream",
     "text": [
      "   12 | 00m30s |    0.77265 |    0.9859 |   -0.0252 |   -8.7333 | \n"
     ]
    },
    {
     "name": "stderr",
     "output_type": "stream",
     "text": [
      "/home/tserekh/env/lib/python3.6/site-packages/sklearn/gaussian_process/gpr.py:457: UserWarning: fmin_l_bfgs_b terminated abnormally with the  state: {'grad': array([-8.51661753e-05]), 'task': b'ABNORMAL_TERMINATION_IN_LNSRCH', 'funcalls': 51, 'nit': 4, 'warnflag': 2}\n",
      "  \" state: %s\" % convergence_dict)\n"
     ]
    },
    {
     "name": "stdout",
     "output_type": "stream",
     "text": [
      "   13 | 00m31s |    0.77295 |    0.9875 |   -0.0029 |   -3.0780 | \n"
     ]
    },
    {
     "name": "stderr",
     "output_type": "stream",
     "text": [
      "/home/tserekh/env/lib/python3.6/site-packages/sklearn/gaussian_process/gpr.py:457: UserWarning: fmin_l_bfgs_b terminated abnormally with the  state: {'grad': array([-0.00146344]), 'task': b'ABNORMAL_TERMINATION_IN_LNSRCH', 'funcalls': 52, 'nit': 6, 'warnflag': 2}\n",
      "  \" state: %s\" % convergence_dict)\n",
      "/home/tserekh/env/lib/python3.6/site-packages/sklearn/gaussian_process/gpr.py:457: UserWarning: fmin_l_bfgs_b terminated abnormally with the  state: {'grad': array([-2.89482996e-05]), 'task': b'ABNORMAL_TERMINATION_IN_LNSRCH', 'funcalls': 52, 'nit': 4, 'warnflag': 2}\n",
      "  \" state: %s\" % convergence_dict)\n",
      "/home/tserekh/env/lib/python3.6/site-packages/sklearn/gaussian_process/gpr.py:457: UserWarning: fmin_l_bfgs_b terminated abnormally with the  state: {'grad': array([-0.00282537]), 'task': b'ABNORMAL_TERMINATION_IN_LNSRCH', 'funcalls': 58, 'nit': 4, 'warnflag': 2}\n",
      "  \" state: %s\" % convergence_dict)\n"
     ]
    },
    {
     "name": "stdout",
     "output_type": "stream",
     "text": [
      "   14 | 00m28s |    0.77279 |    0.9852 |   -0.0120 |   -5.7023 | \n"
     ]
    },
    {
     "name": "stderr",
     "output_type": "stream",
     "text": [
      "/home/tserekh/env/lib/python3.6/site-packages/sklearn/gaussian_process/gpr.py:457: UserWarning: fmin_l_bfgs_b terminated abnormally with the  state: {'grad': array([0.00234256]), 'task': b'ABNORMAL_TERMINATION_IN_LNSRCH', 'funcalls': 50, 'nit': 4, 'warnflag': 2}\n",
      "  \" state: %s\" % convergence_dict)\n",
      "/home/tserekh/env/lib/python3.6/site-packages/sklearn/gaussian_process/gpr.py:457: UserWarning: fmin_l_bfgs_b terminated abnormally with the  state: {'grad': array([-4.36591799e-05]), 'task': b'ABNORMAL_TERMINATION_IN_LNSRCH', 'funcalls': 62, 'nit': 5, 'warnflag': 2}\n",
      "  \" state: %s\" % convergence_dict)\n"
     ]
    },
    {
     "name": "stdout",
     "output_type": "stream",
     "text": [
      "   15 | 00m27s |    0.77290 |    0.9880 |   -0.0087 |   -9.3420 | \n"
     ]
    },
    {
     "name": "stderr",
     "output_type": "stream",
     "text": [
      "/home/tserekh/env/lib/python3.6/site-packages/sklearn/gaussian_process/gpr.py:457: UserWarning: fmin_l_bfgs_b terminated abnormally with the  state: {'grad': array([-0.00012654]), 'task': b'ABNORMAL_TERMINATION_IN_LNSRCH', 'funcalls': 69, 'nit': 5, 'warnflag': 2}\n",
      "  \" state: %s\" % convergence_dict)\n",
      "/home/tserekh/env/lib/python3.6/site-packages/sklearn/gaussian_process/gpr.py:457: UserWarning: fmin_l_bfgs_b terminated abnormally with the  state: {'grad': array([-0.00415836]), 'task': b'ABNORMAL_TERMINATION_IN_LNSRCH', 'funcalls': 66, 'nit': 7, 'warnflag': 2}\n",
      "  \" state: %s\" % convergence_dict)\n",
      "/home/tserekh/env/lib/python3.6/site-packages/sklearn/gaussian_process/gpr.py:457: UserWarning: fmin_l_bfgs_b terminated abnormally with the  state: {'grad': array([-7.0459675e-05]), 'task': b'ABNORMAL_TERMINATION_IN_LNSRCH', 'funcalls': 59, 'nit': 5, 'warnflag': 2}\n",
      "  \" state: %s\" % convergence_dict)\n"
     ]
    },
    {
     "name": "stdout",
     "output_type": "stream",
     "text": [
      "   16 | 00m31s |    0.62719 |    0.1464 |   -0.0037 |   -9.8695 | \n"
     ]
    },
    {
     "name": "stderr",
     "output_type": "stream",
     "text": [
      "/home/tserekh/env/lib/python3.6/site-packages/sklearn/gaussian_process/gpr.py:457: UserWarning: fmin_l_bfgs_b terminated abnormally with the  state: {'grad': array([-8.55477022e-05]), 'task': b'ABNORMAL_TERMINATION_IN_LNSRCH', 'funcalls': 48, 'nit': 5, 'warnflag': 2}\n",
      "  \" state: %s\" % convergence_dict)\n"
     ]
    },
    {
     "name": "stdout",
     "output_type": "stream",
     "text": [
      "   17 | 00m32s |    0.69000 |    0.9900 |   -5.5623 |    0.0000 | \n",
      "   18 | 00m34s |    0.68057 |    0.9900 |  -10.0000 |  -10.0000 | \n"
     ]
    },
    {
     "name": "stderr",
     "output_type": "stream",
     "text": [
      "/home/tserekh/env/lib/python3.6/site-packages/sklearn/gaussian_process/gpr.py:457: UserWarning: fmin_l_bfgs_b terminated abnormally with the  state: {'grad': array([1.80247089e-05]), 'task': b'ABNORMAL_TERMINATION_IN_LNSRCH', 'funcalls': 52, 'nit': 4, 'warnflag': 2}\n",
      "  \" state: %s\" % convergence_dict)\n",
      "/home/tserekh/env/lib/python3.6/site-packages/sklearn/gaussian_process/gpr.py:457: UserWarning: fmin_l_bfgs_b terminated abnormally with the  state: {'grad': array([-0.00017212]), 'task': b'ABNORMAL_TERMINATION_IN_LNSRCH', 'funcalls': 51, 'nit': 3, 'warnflag': 2}\n",
      "  \" state: %s\" % convergence_dict)\n"
     ]
    },
    {
     "name": "stdout",
     "output_type": "stream",
     "text": [
      "   19 | 00m36s |    0.72667 |    0.9861 |   -1.7453 |   -9.8745 | \n",
      "   20 | 00m34s |    0.68062 |    0.9900 |  -10.0000 |   -0.0000 | \n",
      "   21 | 00m34s |    0.68524 |    0.9877 |   -7.0420 |   -8.0276 | \n"
     ]
    },
    {
     "name": "stderr",
     "output_type": "stream",
     "text": [
      "/home/tserekh/env/lib/python3.6/site-packages/sklearn/gaussian_process/gpr.py:457: UserWarning: fmin_l_bfgs_b terminated abnormally with the  state: {'grad': array([2.06627774e-05]), 'task': b'ABNORMAL_TERMINATION_IN_LNSRCH', 'funcalls': 53, 'nit': 3, 'warnflag': 2}\n",
      "  \" state: %s\" % convergence_dict)\n"
     ]
    },
    {
     "name": "stdout",
     "output_type": "stream",
     "text": [
      "   22 | 00m36s |    0.72703 |    0.9900 |   -1.7286 |   -0.0000 | \n",
      "   23 | 00m36s |    0.77322 |    0.0100 |    0.0000 |    0.0000 | \n",
      "   24 | 00m36s |    0.73922 |    0.9844 |   -1.2064 |   -4.9966 | \n",
      "   25 | 00m36s |    0.73616 |    0.5735 |   -0.0026 |   -0.6243 | \n",
      "   26 | 00m24s |    0.77304 |    0.0100 |  -10.0000 |    0.0000 | \n"
     ]
    },
    {
     "name": "stderr",
     "output_type": "stream",
     "text": [
      "/home/tserekh/env/lib/python3.6/site-packages/sklearn/gaussian_process/gpr.py:457: UserWarning: fmin_l_bfgs_b terminated abnormally with the  state: {'grad': array([2.4351594e-05]), 'task': b'ABNORMAL_TERMINATION_IN_LNSRCH', 'funcalls': 55, 'nit': 7, 'warnflag': 2}\n",
      "  \" state: %s\" % convergence_dict)\n"
     ]
    },
    {
     "name": "stdout",
     "output_type": "stream",
     "text": [
      "   27 | 00m20s |    0.77300 |    0.0100 |   -7.6716 |    0.0000 | \n"
     ]
    },
    {
     "name": "stderr",
     "output_type": "stream",
     "text": [
      "/home/tserekh/env/lib/python3.6/site-packages/sklearn/gaussian_process/gpr.py:457: UserWarning: fmin_l_bfgs_b terminated abnormally with the  state: {'grad': array([8.60859873e-05]), 'task': b'ABNORMAL_TERMINATION_IN_LNSRCH', 'funcalls': 52, 'nit': 5, 'warnflag': 2}\n",
      "  \" state: %s\" % convergence_dict)\n"
     ]
    },
    {
     "name": "stdout",
     "output_type": "stream",
     "text": [
      "   28 | 00m22s |    0.77289 |    0.0100 |   -4.1977 |    0.0000 | \n",
      "   29 | 00m23s |    0.59512 |    0.0100 |  -10.0000 |   -1.8785 | \n",
      "   30 | 00m25s |    0.69483 |    0.9860 |   -4.4671 |   -3.0389 | \n",
      "   31 | 00m25s |    0.68606 |    0.9900 |   -6.8412 |  -10.0000 | \n",
      "   32 | 00m22s |    0.68342 |    0.9900 |   -7.8955 |   -5.3571 | \n",
      "   33 | 00m25s |    0.70604 |    0.9899 |   -3.0618 |   -7.5366 | \n",
      "   34 | 00m34s |    0.60228 |    0.0100 |   -6.3093 |   -0.0000 | \n",
      "   35 | 00m32s |    0.68695 |    0.0100 |   -8.6370 |  -10.0000 | \n"
     ]
    },
    {
     "name": "stderr",
     "output_type": "stream",
     "text": [
      "/home/tserekh/env/lib/python3.6/site-packages/sklearn/gaussian_process/gpr.py:457: UserWarning: fmin_l_bfgs_b terminated abnormally with the  state: {'grad': array([2.90710868e-05]), 'task': b'ABNORMAL_TERMINATION_IN_LNSRCH', 'funcalls': 54, 'nit': 6, 'warnflag': 2}\n",
      "  \" state: %s\" % convergence_dict)\n"
     ]
    },
    {
     "name": "stdout",
     "output_type": "stream",
     "text": [
      "   36 | 00m39s |    0.77303 |    0.0100 |   -8.8921 |    0.0000 | \n",
      "   37 | 00m32s |    0.59502 |    0.0100 |   -2.5668 |   -2.4895 | \n",
      "   38 | 00m35s |    0.70135 |    0.9900 |   -3.5887 |    0.0000 | \n",
      "   39 | 00m32s |    0.68421 |    0.9900 |   -7.4813 |   -1.5968 | \n",
      "   40 | 00m31s |    0.58969 |    0.0100 |  -10.0000 |   -5.2463 | \n",
      "   41 | 00m39s |    0.77287 |    0.0100 |   -2.3888 |    0.0000 | \n",
      "   42 | 00m31s |    0.68401 |    0.9900 |   -7.8405 |    0.0000 | \n",
      "   43 | 00m34s |    0.59521 |    0.0100 |    0.0000 |   -5.1964 | \n"
     ]
    },
    {
     "name": "stderr",
     "output_type": "stream",
     "text": [
      "/home/tserekh/env/lib/python3.6/site-packages/sklearn/gaussian_process/gpr.py:457: UserWarning: fmin_l_bfgs_b terminated abnormally with the  state: {'grad': array([-1.07197266e-05]), 'task': b'ABNORMAL_TERMINATION_IN_LNSRCH', 'funcalls': 54, 'nit': 5, 'warnflag': 2}\n",
      "  \" state: %s\" % convergence_dict)\n"
     ]
    },
    {
     "name": "stdout",
     "output_type": "stream",
     "text": [
      "   44 | 00m33s |    0.58940 |    0.0100 |   -5.6572 |   -7.5001 | \n",
      "   45 | 00m34s |    0.68678 |    0.9900 |   -6.4022 |   -3.8085 | \n",
      "   46 | 00m37s |    0.68057 |    0.9900 |  -10.0000 |   -6.5169 | \n",
      "   47 | 00m32s |    0.68697 |    0.0100 |  -10.0000 |  -10.0000 | \n",
      "   48 | 00m29s |    0.70036 |    0.9900 |   -3.6970 |  -10.0000 | \n",
      "   49 | 00m31s |    0.70491 |    0.9900 |   -3.1667 |   -4.8934 | \n"
     ]
    },
    {
     "name": "stderr",
     "output_type": "stream",
     "text": [
      "/home/tserekh/env/lib/python3.6/site-packages/sklearn/gaussian_process/gpr.py:457: UserWarning: fmin_l_bfgs_b terminated abnormally with the  state: {'grad': array([5.61289999e-05]), 'task': b'ABNORMAL_TERMINATION_IN_LNSRCH', 'funcalls': 53, 'nit': 4, 'warnflag': 2}\n",
      "  \" state: %s\" % convergence_dict)\n"
     ]
    },
    {
     "name": "stdout",
     "output_type": "stream",
     "text": [
      "   50 | 00m27s |    0.73974 |    0.9900 |   -1.1848 |   -7.3724 | \n"
     ]
    },
    {
     "name": "stderr",
     "output_type": "stream",
     "text": [
      "/home/tserekh/env/lib/python3.6/site-packages/sklearn/gaussian_process/gpr.py:457: UserWarning: fmin_l_bfgs_b terminated abnormally with the  state: {'grad': array([-3.09117898e-05]), 'task': b'ABNORMAL_TERMINATION_IN_LNSRCH', 'funcalls': 50, 'nit': 5, 'warnflag': 2}\n",
      "  \" state: %s\" % convergence_dict)\n"
     ]
    },
    {
     "name": "stdout",
     "output_type": "stream",
     "text": [
      "   51 | 00m29s |    0.77297 |    0.0100 |   -1.0088 |    0.0000 | \n",
      "   52 | 00m27s |    0.73950 |    0.9900 |   -1.1944 |   -2.4535 | \n",
      "   53 | 00m27s |    0.69196 |    0.9900 |   -4.9786 |   -7.8862 | \n",
      "   54 | 00m32s |    0.68057 |    0.9900 |  -10.0000 |   -8.5894 | \n",
      "   55 | 00m28s |    0.69383 |    0.9900 |   -4.6144 |   -1.2148 | \n",
      "   56 | 00m28s |    0.68686 |    0.0100 |   -6.1226 |  -10.0000 | \n",
      "   57 | 00m30s |    0.77287 |    0.0100 |   -3.4239 |    0.0000 | \n",
      "   58 | 00m28s |    0.60187 |    0.0100 |   -8.1179 |   -0.5471 | \n",
      "   59 | 00m30s |    0.68300 |    0.9900 |   -8.1499 |   -3.0630 | \n",
      "   60 | 00m29s |    0.68671 |    0.0100 |   -3.1410 |  -10.0000 | \n",
      "   61 | 00m32s |    0.68753 |    0.9900 |   -6.1499 |   -2.2593 | \n",
      "   62 | 00m34s |    0.68762 |    0.9900 |   -6.1220 |   -6.1164 | \n",
      "   63 | 00m31s |    0.59926 |    0.0100 |    0.0000 |   -2.2396 | \n",
      "   64 | 00m33s |    0.68230 |    0.9900 |   -8.6013 |   -7.3145 | \n",
      "   65 | 00m31s |    0.71341 |    0.9900 |   -2.4835 |   -8.8361 | \n",
      "   66 | 00m36s |    0.71721 |    0.9900 |   -2.2398 |   -3.4871 | \n",
      "   67 | 00m36s |    0.71202 |    0.9900 |   -2.5816 |   -1.6947 | \n",
      "   68 | 00m36s |    0.75023 |    0.9900 |   -0.8014 |   -8.9176 | \n",
      "   69 | 00m36s |    0.75609 |    0.9900 |   -0.6292 |   -3.8176 | \n",
      "   70 | 00m39s |    0.74899 |    0.9900 |   -0.8419 |   -1.0841 | \n",
      "   71 | 00m39s |    0.75812 |    0.9900 |   -0.5729 |   -6.2555 | \n",
      "   72 | 00m40s |    0.77301 |    0.0100 |   -8.2067 |    0.0000 | \n",
      "   73 | 00m38s |    0.59111 |    0.0100 |   -2.2809 |   -7.5758 | \n",
      "   74 | 00m36s |    0.76838 |    0.5265 |   -0.4211 |    0.0000 | \n",
      "   75 | 00m34s |    0.75790 |    0.9900 |   -0.5855 |  -10.0000 | \n",
      "   76 | 00m38s |    0.69685 |    0.9900 |   -4.1190 |   -6.3325 | \n",
      "   77 | 00m39s |    0.77304 |    0.9900 |    0.0000 |   -3.8046 | \n"
     ]
    },
    {
     "name": "stderr",
     "output_type": "stream",
     "text": [
      "/home/tserekh/env/lib/python3.6/site-packages/sklearn/gaussian_process/gpr.py:457: UserWarning: fmin_l_bfgs_b terminated abnormally with the  state: {'grad': array([-6.49104295e-05]), 'task': b'ABNORMAL_TERMINATION_IN_LNSRCH', 'funcalls': 59, 'nit': 7, 'warnflag': 2}\n",
      "  \" state: %s\" % convergence_dict)\n"
     ]
    },
    {
     "name": "stdout",
     "output_type": "stream",
     "text": [
      "   78 | 00m34s |    0.69266 |    0.9900 |   -4.8338 |   -4.5558 | \n",
      "   79 | 00m39s |    0.59015 |    0.0100 |   -6.8762 |   -4.9688 | \n",
      "   80 | 00m37s |    0.68254 |    0.9900 |   -8.4408 |   -9.1558 | \n",
      "   81 | 00m42s |    0.60877 |    0.0436 |   -1.6278 |   -0.0151 | \n"
     ]
    },
    {
     "name": "stderr",
     "output_type": "stream",
     "text": [
      "/home/tserekh/env/lib/python3.6/site-packages/sklearn/gaussian_process/gpr.py:457: UserWarning: fmin_l_bfgs_b terminated abnormally with the  state: {'grad': array([-6.08976209e-05]), 'task': b'ABNORMAL_TERMINATION_IN_LNSRCH', 'funcalls': 53, 'nit': 6, 'warnflag': 2}\n",
      "  \" state: %s\" % convergence_dict)\n"
     ]
    },
    {
     "name": "stdout",
     "output_type": "stream",
     "text": [
      "   82 | 00m37s |    0.59194 |    0.0100 |   -5.0506 |   -3.3497 | \n",
      "   83 | 00m34s |    0.59135 |    0.0100 |   -2.8847 |   -5.3522 | \n",
      "   84 | 00m34s |    0.58875 |    0.0100 |   -7.6172 |   -8.7275 | \n",
      "   85 | 00m37s |    0.59437 |    0.0100 |    0.0000 |   -7.5445 | \n",
      "   86 | 00m39s |    0.68056 |    0.9900 |  -10.0000 |   -2.4774 | \n"
     ]
    },
    {
     "name": "stderr",
     "output_type": "stream",
     "text": [
      "/home/tserekh/env/lib/python3.6/site-packages/sklearn/gaussian_process/gpr.py:457: UserWarning: fmin_l_bfgs_b terminated abnormally with the  state: {'grad': array([-3.41694495e-05]), 'task': b'ABNORMAL_TERMINATION_IN_LNSRCH', 'funcalls': 51, 'nit': 4, 'warnflag': 2}\n",
      "  \" state: %s\" % convergence_dict)\n",
      "/home/tserekh/env/lib/python3.6/site-packages/sklearn/gaussian_process/gpr.py:457: UserWarning: fmin_l_bfgs_b terminated abnormally with the  state: {'grad': array([9.01699641e-05]), 'task': b'ABNORMAL_TERMINATION_IN_LNSRCH', 'funcalls': 53, 'nit': 6, 'warnflag': 2}\n",
      "  \" state: %s\" % convergence_dict)\n"
     ]
    },
    {
     "name": "stdout",
     "output_type": "stream",
     "text": [
      "   87 | 00m39s |    0.69044 |    0.9900 |   -5.4242 |  -10.0000 | \n",
      "   88 | 00m45s |    0.71724 |    0.9900 |   -2.2380 |   -6.2098 | \n"
     ]
    },
    {
     "name": "stderr",
     "output_type": "stream",
     "text": [
      "/home/tserekh/env/lib/python3.6/site-packages/sklearn/gaussian_process/gpr.py:457: UserWarning: fmin_l_bfgs_b terminated abnormally with the  state: {'grad': array([1.89948109e-05]), 'task': b'ABNORMAL_TERMINATION_IN_LNSRCH', 'funcalls': 51, 'nit': 2, 'warnflag': 2}\n",
      "  \" state: %s\" % convergence_dict)\n"
     ]
    },
    {
     "name": "stdout",
     "output_type": "stream",
     "text": [
      "   89 | 00m38s |    0.59118 |    0.0100 |  -10.0000 |   -3.4195 | \n",
      "   90 | 00m39s |    0.58944 |    0.0100 |   -8.4843 |   -6.1179 | \n",
      "   91 | 00m39s |    0.59885 |    0.0100 |   -3.9709 |   -1.3437 | \n",
      "   92 | 00m40s |    0.58973 |    0.0100 |   -3.8980 |   -8.3215 | \n",
      "   93 | 00m33s |    0.68794 |    0.9900 |   -6.0193 |   -8.9378 | \n",
      "   94 | 00m34s |    0.68144 |    0.9900 |   -9.2398 |   -5.3626 | \n",
      "   95 | 00m37s |    0.60693 |    0.0100 |   -0.4970 |   -0.4345 | \n",
      "   96 | 00m35s |    0.59235 |    0.0100 |   -7.1088 |   -2.8774 | \n",
      "   97 | 00m42s |    0.58853 |    0.0100 |  -10.0000 |   -8.7510 | \n",
      "   98 | 00m44s |    0.68669 |    0.0100 |   -1.6458 |  -10.0000 | \n",
      "   99 | 00m43s |    0.70388 |    0.9900 |   -3.2691 |   -2.6880 | \n",
      "  100 | 00m40s |    0.59416 |    0.0100 |   -1.3353 |   -3.8833 | \n",
      "  101 | 00m43s |    0.77305 |    0.9900 |    0.0000 |   -0.8964 | \n",
      "  102 | 00m43s |    0.59192 |    0.0100 |   -3.5485 |   -3.8670 | \n",
      "  103 | 00m43s |    0.68679 |    0.0100 |   -4.6378 |  -10.0000 | \n",
      "  104 | 00m40s |    0.68259 |    0.9900 |   -8.7129 |  -10.0000 | \n",
      "  105 | 00m44s |    0.68172 |    0.9900 |   -9.0107 |   -1.8629 | \n"
     ]
    },
    {
     "name": "stderr",
     "output_type": "stream",
     "text": [
      "/home/tserekh/env/lib/python3.6/site-packages/sklearn/gaussian_process/gpr.py:457: UserWarning: fmin_l_bfgs_b terminated abnormally with the  state: {'grad': array([-2.01370558e-05]), 'task': b'ABNORMAL_TERMINATION_IN_LNSRCH', 'funcalls': 52, 'nit': 4, 'warnflag': 2}\n",
      "  \" state: %s\" % convergence_dict)\n"
     ]
    },
    {
     "name": "stdout",
     "output_type": "stream",
     "text": [
      "  106 | 00m44s |    0.71158 |    0.9900 |   -2.6399 |    0.0000 | \n",
      "  107 | 00m44s |    0.68060 |    0.9900 |  -10.0000 |   -1.1194 | \n",
      "  108 | 00m43s |    0.59021 |    0.0100 |   -8.5524 |   -4.5184 | \n",
      "  109 | 00m47s |    0.68056 |    0.9900 |  -10.0000 |   -4.7531 | \n",
      "  110 | 00m49s |    0.68459 |    0.9900 |   -7.2967 |   -6.6504 | \n",
      "  111 | 00m48s |    0.69913 |    0.9900 |   -3.8062 |   -8.7452 | \n",
      "  112 | 00m47s |    0.69411 |    0.9900 |   -4.6426 |    0.0000 | \n",
      "  113 | 00m44s |    0.74982 |    0.9900 |   -0.8218 |    0.0000 | \n",
      "  114 | 00m46s |    0.68691 |    0.0100 |   -7.4315 |  -10.0000 | \n",
      "  115 | 00m43s |    0.68732 |    0.9900 |   -6.2257 |   -1.0221 | \n",
      "  116 | 00m54s |    0.59008 |    0.0100 |   -4.6318 |   -6.2044 | \n"
     ]
    },
    {
     "name": "stderr",
     "output_type": "stream",
     "text": [
      "/home/tserekh/env/lib/python3.6/site-packages/sklearn/gaussian_process/gpr.py:457: UserWarning: fmin_l_bfgs_b terminated abnormally with the  state: {'grad': array([-0.00010382]), 'task': b'ABNORMAL_TERMINATION_IN_LNSRCH', 'funcalls': 52, 'nit': 4, 'warnflag': 2}\n",
      "  \" state: %s\" % convergence_dict)\n",
      "/home/tserekh/env/lib/python3.6/site-packages/sklearn/gaussian_process/gpr.py:457: UserWarning: fmin_l_bfgs_b terminated abnormally with the  state: {'grad': array([6.0233333e-05]), 'task': b'ABNORMAL_TERMINATION_IN_LNSRCH', 'funcalls': 52, 'nit': 5, 'warnflag': 2}\n",
      "  \" state: %s\" % convergence_dict)\n"
     ]
    },
    {
     "name": "stdout",
     "output_type": "stream",
     "text": [
      "  117 | 00m45s |    0.77286 |    0.0100 |   -2.8342 |    0.0000 | \n"
     ]
    },
    {
     "name": "stderr",
     "output_type": "stream",
     "text": [
      "/home/tserekh/env/lib/python3.6/site-packages/sklearn/gaussian_process/gpr.py:457: UserWarning: fmin_l_bfgs_b terminated abnormally with the  state: {'grad': array([-0.00032611]), 'task': b'ABNORMAL_TERMINATION_IN_LNSRCH', 'funcalls': 58, 'nit': 3, 'warnflag': 2}\n",
      "  \" state: %s\" % convergence_dict)\n"
     ]
    },
    {
     "name": "stdout",
     "output_type": "stream",
     "text": [
      "  118 | 00m49s |    0.68622 |    0.9900 |   -6.8009 |    0.0000 | \n"
     ]
    },
    {
     "name": "stderr",
     "output_type": "stream",
     "text": [
      "/home/tserekh/env/lib/python3.6/site-packages/sklearn/gaussian_process/gpr.py:457: UserWarning: fmin_l_bfgs_b terminated abnormally with the  state: {'grad': array([-5.4840938e-05]), 'task': b'ABNORMAL_TERMINATION_IN_LNSRCH', 'funcalls': 54, 'nit': 6, 'warnflag': 2}\n",
      "  \" state: %s\" % convergence_dict)\n"
     ]
    },
    {
     "name": "stdout",
     "output_type": "stream",
     "text": [
      "  119 | 00m46s |    0.68763 |    0.9900 |   -6.1183 |   -4.9731 | \n",
      "  120 | 00m49s |    0.68028 |    0.3291 |    0.0000 |   -3.6365 | \n",
      "  121 | 00m49s |    0.59166 |    0.0100 |   -1.5798 |   -8.9109 | \n",
      "  122 | 00m50s |    0.68789 |    0.9900 |   -6.0356 |   -7.3702 | \n",
      "  123 | 00m52s |    0.73857 |    0.4340 |   -9.4168 |    0.0000 | \n",
      "  124 | 00m50s |    0.71945 |    0.9900 |   -2.1106 |   -4.6670 | \n"
     ]
    },
    {
     "ename": "KeyboardInterrupt",
     "evalue": "",
     "output_type": "error",
     "traceback": [
      "\u001b[0;31m---------------------------------------------------------------------------\u001b[0m",
      "\u001b[0;31mKeyboardInterrupt\u001b[0m                         Traceback (most recent call last)",
      "\u001b[0;32m<ipython-input-51-5065da1705d5>\u001b[0m in \u001b[0;36m<module>\u001b[0;34m()\u001b[0m\n\u001b[0;32m----> 1\u001b[0;31m \u001b[0mopt\u001b[0m\u001b[0;34m.\u001b[0m\u001b[0mmaximize\u001b[0m\u001b[0;34m(\u001b[0m\u001b[0mn_iter\u001b[0m\u001b[0;34m=\u001b[0m\u001b[0;36m1000\u001b[0m\u001b[0;34m)\u001b[0m\u001b[0;34m\u001b[0m\u001b[0m\n\u001b[0m",
      "\u001b[0;32m~/env/lib/python3.6/site-packages/bayes_opt/bayesian_optimization.py\u001b[0m in \u001b[0;36mmaximize\u001b[0;34m(self, init_points, n_iter, acq, kappa, xi, **gp_params)\u001b[0m\n\u001b[1;32m    282\u001b[0m \u001b[0;34m\u001b[0m\u001b[0m\n\u001b[1;32m    283\u001b[0m             \u001b[0;31m# Updating the GP.\u001b[0m\u001b[0;34m\u001b[0m\u001b[0;34m\u001b[0m\u001b[0m\n\u001b[0;32m--> 284\u001b[0;31m             \u001b[0mself\u001b[0m\u001b[0;34m.\u001b[0m\u001b[0mgp\u001b[0m\u001b[0;34m.\u001b[0m\u001b[0mfit\u001b[0m\u001b[0;34m(\u001b[0m\u001b[0mself\u001b[0m\u001b[0;34m.\u001b[0m\u001b[0mspace\u001b[0m\u001b[0;34m.\u001b[0m\u001b[0mX\u001b[0m\u001b[0;34m,\u001b[0m \u001b[0mself\u001b[0m\u001b[0;34m.\u001b[0m\u001b[0mspace\u001b[0m\u001b[0;34m.\u001b[0m\u001b[0mY\u001b[0m\u001b[0;34m)\u001b[0m\u001b[0;34m\u001b[0m\u001b[0m\n\u001b[0m\u001b[1;32m    285\u001b[0m \u001b[0;34m\u001b[0m\u001b[0m\n\u001b[1;32m    286\u001b[0m             \u001b[0;31m# Update the best params seen so far\u001b[0m\u001b[0;34m\u001b[0m\u001b[0;34m\u001b[0m\u001b[0m\n",
      "\u001b[0;32m~/env/lib/python3.6/site-packages/sklearn/gaussian_process/gpr.py\u001b[0m in \u001b[0;36mfit\u001b[0;34m(self, X, y)\u001b[0m\n\u001b[1;32m    230\u001b[0m                     optima.append(\n\u001b[1;32m    231\u001b[0m                         self._constrained_optimization(obj_func, theta_initial,\n\u001b[0;32m--> 232\u001b[0;31m                                                        bounds))\n\u001b[0m\u001b[1;32m    233\u001b[0m             \u001b[0;31m# Select result from run with minimal (negative) log-marginal\u001b[0m\u001b[0;34m\u001b[0m\u001b[0;34m\u001b[0m\u001b[0m\n\u001b[1;32m    234\u001b[0m             \u001b[0;31m# likelihood\u001b[0m\u001b[0;34m\u001b[0m\u001b[0;34m\u001b[0m\u001b[0m\n",
      "\u001b[0;32m~/env/lib/python3.6/site-packages/sklearn/gaussian_process/gpr.py\u001b[0m in \u001b[0;36m_constrained_optimization\u001b[0;34m(self, obj_func, initial_theta, bounds)\u001b[0m\n\u001b[1;32m    452\u001b[0m         \u001b[0;32mif\u001b[0m \u001b[0mself\u001b[0m\u001b[0;34m.\u001b[0m\u001b[0moptimizer\u001b[0m \u001b[0;34m==\u001b[0m \u001b[0;34m\"fmin_l_bfgs_b\"\u001b[0m\u001b[0;34m:\u001b[0m\u001b[0;34m\u001b[0m\u001b[0m\n\u001b[1;32m    453\u001b[0m             \u001b[0mtheta_opt\u001b[0m\u001b[0;34m,\u001b[0m \u001b[0mfunc_min\u001b[0m\u001b[0;34m,\u001b[0m \u001b[0mconvergence_dict\u001b[0m \u001b[0;34m=\u001b[0m\u001b[0;31m \u001b[0m\u001b[0;31m\\\u001b[0m\u001b[0;34m\u001b[0m\u001b[0m\n\u001b[0;32m--> 454\u001b[0;31m                 \u001b[0mfmin_l_bfgs_b\u001b[0m\u001b[0;34m(\u001b[0m\u001b[0mobj_func\u001b[0m\u001b[0;34m,\u001b[0m \u001b[0minitial_theta\u001b[0m\u001b[0;34m,\u001b[0m \u001b[0mbounds\u001b[0m\u001b[0;34m=\u001b[0m\u001b[0mbounds\u001b[0m\u001b[0;34m)\u001b[0m\u001b[0;34m\u001b[0m\u001b[0m\n\u001b[0m\u001b[1;32m    455\u001b[0m             \u001b[0;32mif\u001b[0m \u001b[0mconvergence_dict\u001b[0m\u001b[0;34m[\u001b[0m\u001b[0;34m\"warnflag\"\u001b[0m\u001b[0;34m]\u001b[0m \u001b[0;34m!=\u001b[0m \u001b[0;36m0\u001b[0m\u001b[0;34m:\u001b[0m\u001b[0;34m\u001b[0m\u001b[0m\n\u001b[1;32m    456\u001b[0m                 warnings.warn(\"fmin_l_bfgs_b terminated abnormally with the \"\n",
      "\u001b[0;32m~/env/lib/python3.6/site-packages/scipy/optimize/lbfgsb.py\u001b[0m in \u001b[0;36mfmin_l_bfgs_b\u001b[0;34m(func, x0, fprime, args, approx_grad, bounds, m, factr, pgtol, epsilon, iprint, maxfun, maxiter, disp, callback, maxls)\u001b[0m\n\u001b[1;32m    197\u001b[0m \u001b[0;34m\u001b[0m\u001b[0m\n\u001b[1;32m    198\u001b[0m     res = _minimize_lbfgsb(fun, x0, args=args, jac=jac, bounds=bounds,\n\u001b[0;32m--> 199\u001b[0;31m                            **opts)\n\u001b[0m\u001b[1;32m    200\u001b[0m     d = {'grad': res['jac'],\n\u001b[1;32m    201\u001b[0m          \u001b[0;34m'task'\u001b[0m\u001b[0;34m:\u001b[0m \u001b[0mres\u001b[0m\u001b[0;34m[\u001b[0m\u001b[0;34m'message'\u001b[0m\u001b[0;34m]\u001b[0m\u001b[0;34m,\u001b[0m\u001b[0;34m\u001b[0m\u001b[0m\n",
      "\u001b[0;32m~/env/lib/python3.6/site-packages/scipy/optimize/lbfgsb.py\u001b[0m in \u001b[0;36m_minimize_lbfgsb\u001b[0;34m(fun, x0, args, jac, bounds, disp, maxcor, ftol, gtol, eps, maxfun, maxiter, iprint, callback, maxls, **unknown_options)\u001b[0m\n\u001b[1;32m    333\u001b[0m             \u001b[0;31m# until the completion of the current minimization iteration.\u001b[0m\u001b[0;34m\u001b[0m\u001b[0;34m\u001b[0m\u001b[0m\n\u001b[1;32m    334\u001b[0m             \u001b[0;31m# Overwrite f and g:\u001b[0m\u001b[0;34m\u001b[0m\u001b[0;34m\u001b[0m\u001b[0m\n\u001b[0;32m--> 335\u001b[0;31m             \u001b[0mf\u001b[0m\u001b[0;34m,\u001b[0m \u001b[0mg\u001b[0m \u001b[0;34m=\u001b[0m \u001b[0mfunc_and_grad\u001b[0m\u001b[0;34m(\u001b[0m\u001b[0mx\u001b[0m\u001b[0;34m)\u001b[0m\u001b[0;34m\u001b[0m\u001b[0m\n\u001b[0m\u001b[1;32m    336\u001b[0m         \u001b[0;32melif\u001b[0m \u001b[0mtask_str\u001b[0m\u001b[0;34m.\u001b[0m\u001b[0mstartswith\u001b[0m\u001b[0;34m(\u001b[0m\u001b[0;34mb'NEW_X'\u001b[0m\u001b[0;34m)\u001b[0m\u001b[0;34m:\u001b[0m\u001b[0;34m\u001b[0m\u001b[0m\n\u001b[1;32m    337\u001b[0m             \u001b[0;31m# new iteration\u001b[0m\u001b[0;34m\u001b[0m\u001b[0;34m\u001b[0m\u001b[0m\n",
      "\u001b[0;32m~/env/lib/python3.6/site-packages/scipy/optimize/lbfgsb.py\u001b[0m in \u001b[0;36mfunc_and_grad\u001b[0;34m(x)\u001b[0m\n\u001b[1;32m    283\u001b[0m     \u001b[0;32melse\u001b[0m\u001b[0;34m:\u001b[0m\u001b[0;34m\u001b[0m\u001b[0m\n\u001b[1;32m    284\u001b[0m         \u001b[0;32mdef\u001b[0m \u001b[0mfunc_and_grad\u001b[0m\u001b[0;34m(\u001b[0m\u001b[0mx\u001b[0m\u001b[0;34m)\u001b[0m\u001b[0;34m:\u001b[0m\u001b[0;34m\u001b[0m\u001b[0m\n\u001b[0;32m--> 285\u001b[0;31m             \u001b[0mf\u001b[0m \u001b[0;34m=\u001b[0m \u001b[0mfun\u001b[0m\u001b[0;34m(\u001b[0m\u001b[0mx\u001b[0m\u001b[0;34m,\u001b[0m \u001b[0;34m*\u001b[0m\u001b[0margs\u001b[0m\u001b[0;34m)\u001b[0m\u001b[0;34m\u001b[0m\u001b[0m\n\u001b[0m\u001b[1;32m    286\u001b[0m             \u001b[0mg\u001b[0m \u001b[0;34m=\u001b[0m \u001b[0mjac\u001b[0m\u001b[0;34m(\u001b[0m\u001b[0mx\u001b[0m\u001b[0;34m,\u001b[0m \u001b[0;34m*\u001b[0m\u001b[0margs\u001b[0m\u001b[0;34m)\u001b[0m\u001b[0;34m\u001b[0m\u001b[0m\n\u001b[1;32m    287\u001b[0m             \u001b[0;32mreturn\u001b[0m \u001b[0mf\u001b[0m\u001b[0;34m,\u001b[0m \u001b[0mg\u001b[0m\u001b[0;34m\u001b[0m\u001b[0m\n",
      "\u001b[0;32m~/env/lib/python3.6/site-packages/scipy/optimize/optimize.py\u001b[0m in \u001b[0;36mfunction_wrapper\u001b[0;34m(*wrapper_args)\u001b[0m\n\u001b[1;32m    291\u001b[0m     \u001b[0;32mdef\u001b[0m \u001b[0mfunction_wrapper\u001b[0m\u001b[0;34m(\u001b[0m\u001b[0;34m*\u001b[0m\u001b[0mwrapper_args\u001b[0m\u001b[0;34m)\u001b[0m\u001b[0;34m:\u001b[0m\u001b[0;34m\u001b[0m\u001b[0m\n\u001b[1;32m    292\u001b[0m         \u001b[0mncalls\u001b[0m\u001b[0;34m[\u001b[0m\u001b[0;36m0\u001b[0m\u001b[0;34m]\u001b[0m \u001b[0;34m+=\u001b[0m \u001b[0;36m1\u001b[0m\u001b[0;34m\u001b[0m\u001b[0m\n\u001b[0;32m--> 293\u001b[0;31m         \u001b[0;32mreturn\u001b[0m \u001b[0mfunction\u001b[0m\u001b[0;34m(\u001b[0m\u001b[0;34m*\u001b[0m\u001b[0;34m(\u001b[0m\u001b[0mwrapper_args\u001b[0m \u001b[0;34m+\u001b[0m \u001b[0margs\u001b[0m\u001b[0;34m)\u001b[0m\u001b[0;34m)\u001b[0m\u001b[0;34m\u001b[0m\u001b[0m\n\u001b[0m\u001b[1;32m    294\u001b[0m \u001b[0;34m\u001b[0m\u001b[0m\n\u001b[1;32m    295\u001b[0m     \u001b[0;32mreturn\u001b[0m \u001b[0mncalls\u001b[0m\u001b[0;34m,\u001b[0m \u001b[0mfunction_wrapper\u001b[0m\u001b[0;34m\u001b[0m\u001b[0m\n",
      "\u001b[0;32m~/env/lib/python3.6/site-packages/scipy/optimize/optimize.py\u001b[0m in \u001b[0;36m__call__\u001b[0;34m(self, x, *args)\u001b[0m\n\u001b[1;32m     61\u001b[0m     \u001b[0;32mdef\u001b[0m \u001b[0m__call__\u001b[0m\u001b[0;34m(\u001b[0m\u001b[0mself\u001b[0m\u001b[0;34m,\u001b[0m \u001b[0mx\u001b[0m\u001b[0;34m,\u001b[0m \u001b[0;34m*\u001b[0m\u001b[0margs\u001b[0m\u001b[0;34m)\u001b[0m\u001b[0;34m:\u001b[0m\u001b[0;34m\u001b[0m\u001b[0m\n\u001b[1;32m     62\u001b[0m         \u001b[0mself\u001b[0m\u001b[0;34m.\u001b[0m\u001b[0mx\u001b[0m \u001b[0;34m=\u001b[0m \u001b[0mnumpy\u001b[0m\u001b[0;34m.\u001b[0m\u001b[0masarray\u001b[0m\u001b[0;34m(\u001b[0m\u001b[0mx\u001b[0m\u001b[0;34m)\u001b[0m\u001b[0;34m.\u001b[0m\u001b[0mcopy\u001b[0m\u001b[0;34m(\u001b[0m\u001b[0;34m)\u001b[0m\u001b[0;34m\u001b[0m\u001b[0m\n\u001b[0;32m---> 63\u001b[0;31m         \u001b[0mfg\u001b[0m \u001b[0;34m=\u001b[0m \u001b[0mself\u001b[0m\u001b[0;34m.\u001b[0m\u001b[0mfun\u001b[0m\u001b[0;34m(\u001b[0m\u001b[0mx\u001b[0m\u001b[0;34m,\u001b[0m \u001b[0;34m*\u001b[0m\u001b[0margs\u001b[0m\u001b[0;34m)\u001b[0m\u001b[0;34m\u001b[0m\u001b[0m\n\u001b[0m\u001b[1;32m     64\u001b[0m         \u001b[0mself\u001b[0m\u001b[0;34m.\u001b[0m\u001b[0mjac\u001b[0m \u001b[0;34m=\u001b[0m \u001b[0mfg\u001b[0m\u001b[0;34m[\u001b[0m\u001b[0;36m1\u001b[0m\u001b[0;34m]\u001b[0m\u001b[0;34m\u001b[0m\u001b[0m\n\u001b[1;32m     65\u001b[0m         \u001b[0;32mreturn\u001b[0m \u001b[0mfg\u001b[0m\u001b[0;34m[\u001b[0m\u001b[0;36m0\u001b[0m\u001b[0;34m]\u001b[0m\u001b[0;34m\u001b[0m\u001b[0m\n",
      "\u001b[0;32m~/env/lib/python3.6/site-packages/sklearn/gaussian_process/gpr.py\u001b[0m in \u001b[0;36mobj_func\u001b[0;34m(theta, eval_gradient)\u001b[0m\n\u001b[1;32m    207\u001b[0m                 \u001b[0;32mif\u001b[0m \u001b[0meval_gradient\u001b[0m\u001b[0;34m:\u001b[0m\u001b[0;34m\u001b[0m\u001b[0m\n\u001b[1;32m    208\u001b[0m                     lml, grad = self.log_marginal_likelihood(\n\u001b[0;32m--> 209\u001b[0;31m                         theta, eval_gradient=True)\n\u001b[0m\u001b[1;32m    210\u001b[0m                     \u001b[0;32mreturn\u001b[0m \u001b[0;34m-\u001b[0m\u001b[0mlml\u001b[0m\u001b[0;34m,\u001b[0m \u001b[0;34m-\u001b[0m\u001b[0mgrad\u001b[0m\u001b[0;34m\u001b[0m\u001b[0m\n\u001b[1;32m    211\u001b[0m                 \u001b[0;32melse\u001b[0m\u001b[0;34m:\u001b[0m\u001b[0;34m\u001b[0m\u001b[0m\n",
      "\u001b[0;32m~/env/lib/python3.6/site-packages/sklearn/gaussian_process/gpr.py\u001b[0m in \u001b[0;36mlog_marginal_likelihood\u001b[0;34m(self, theta, eval_gradient)\u001b[0m\n\u001b[1;32m    416\u001b[0m         \u001b[0mK\u001b[0m\u001b[0;34m[\u001b[0m\u001b[0mnp\u001b[0m\u001b[0;34m.\u001b[0m\u001b[0mdiag_indices_from\u001b[0m\u001b[0;34m(\u001b[0m\u001b[0mK\u001b[0m\u001b[0;34m)\u001b[0m\u001b[0;34m]\u001b[0m \u001b[0;34m+=\u001b[0m \u001b[0mself\u001b[0m\u001b[0;34m.\u001b[0m\u001b[0malpha\u001b[0m\u001b[0;34m\u001b[0m\u001b[0m\n\u001b[1;32m    417\u001b[0m         \u001b[0;32mtry\u001b[0m\u001b[0;34m:\u001b[0m\u001b[0;34m\u001b[0m\u001b[0m\n\u001b[0;32m--> 418\u001b[0;31m             \u001b[0mL\u001b[0m \u001b[0;34m=\u001b[0m \u001b[0mcholesky\u001b[0m\u001b[0;34m(\u001b[0m\u001b[0mK\u001b[0m\u001b[0;34m,\u001b[0m \u001b[0mlower\u001b[0m\u001b[0;34m=\u001b[0m\u001b[0;32mTrue\u001b[0m\u001b[0;34m)\u001b[0m  \u001b[0;31m# Line 2\u001b[0m\u001b[0;34m\u001b[0m\u001b[0m\n\u001b[0m\u001b[1;32m    419\u001b[0m         \u001b[0;32mexcept\u001b[0m \u001b[0mnp\u001b[0m\u001b[0;34m.\u001b[0m\u001b[0mlinalg\u001b[0m\u001b[0;34m.\u001b[0m\u001b[0mLinAlgError\u001b[0m\u001b[0;34m:\u001b[0m\u001b[0;34m\u001b[0m\u001b[0m\n\u001b[1;32m    420\u001b[0m             \u001b[0;32mreturn\u001b[0m \u001b[0;34m(\u001b[0m\u001b[0;34m-\u001b[0m\u001b[0mnp\u001b[0m\u001b[0;34m.\u001b[0m\u001b[0minf\u001b[0m\u001b[0;34m,\u001b[0m \u001b[0mnp\u001b[0m\u001b[0;34m.\u001b[0m\u001b[0mzeros_like\u001b[0m\u001b[0;34m(\u001b[0m\u001b[0mtheta\u001b[0m\u001b[0;34m)\u001b[0m\u001b[0;34m)\u001b[0m\u001b[0;31m \u001b[0m\u001b[0;31m\\\u001b[0m\u001b[0;34m\u001b[0m\u001b[0m\n",
      "\u001b[0;32m~/env/lib/python3.6/site-packages/scipy/linalg/decomp_cholesky.py\u001b[0m in \u001b[0;36mcholesky\u001b[0;34m(a, lower, overwrite_a, check_finite)\u001b[0m\n\u001b[1;32m     89\u001b[0m     \"\"\"\n\u001b[1;32m     90\u001b[0m     c, lower = _cholesky(a, lower=lower, overwrite_a=overwrite_a, clean=True,\n\u001b[0;32m---> 91\u001b[0;31m                          check_finite=check_finite)\n\u001b[0m\u001b[1;32m     92\u001b[0m     \u001b[0;32mreturn\u001b[0m \u001b[0mc\u001b[0m\u001b[0;34m\u001b[0m\u001b[0m\n\u001b[1;32m     93\u001b[0m \u001b[0;34m\u001b[0m\u001b[0m\n",
      "\u001b[0;32m~/env/lib/python3.6/site-packages/scipy/linalg/decomp_cholesky.py\u001b[0m in \u001b[0;36m_cholesky\u001b[0;34m(a, lower, overwrite_a, clean, check_finite)\u001b[0m\n\u001b[1;32m     35\u001b[0m     \u001b[0moverwrite_a\u001b[0m \u001b[0;34m=\u001b[0m \u001b[0moverwrite_a\u001b[0m \u001b[0;32mor\u001b[0m \u001b[0m_datacopied\u001b[0m\u001b[0;34m(\u001b[0m\u001b[0ma1\u001b[0m\u001b[0;34m,\u001b[0m \u001b[0ma\u001b[0m\u001b[0;34m)\u001b[0m\u001b[0;34m\u001b[0m\u001b[0m\n\u001b[1;32m     36\u001b[0m     \u001b[0mpotrf\u001b[0m\u001b[0;34m,\u001b[0m \u001b[0;34m=\u001b[0m \u001b[0mget_lapack_funcs\u001b[0m\u001b[0;34m(\u001b[0m\u001b[0;34m(\u001b[0m\u001b[0;34m'potrf'\u001b[0m\u001b[0;34m,\u001b[0m\u001b[0;34m)\u001b[0m\u001b[0;34m,\u001b[0m \u001b[0;34m(\u001b[0m\u001b[0ma1\u001b[0m\u001b[0;34m,\u001b[0m\u001b[0;34m)\u001b[0m\u001b[0;34m)\u001b[0m\u001b[0;34m\u001b[0m\u001b[0m\n\u001b[0;32m---> 37\u001b[0;31m     \u001b[0mc\u001b[0m\u001b[0;34m,\u001b[0m \u001b[0minfo\u001b[0m \u001b[0;34m=\u001b[0m \u001b[0mpotrf\u001b[0m\u001b[0;34m(\u001b[0m\u001b[0ma1\u001b[0m\u001b[0;34m,\u001b[0m \u001b[0mlower\u001b[0m\u001b[0;34m=\u001b[0m\u001b[0mlower\u001b[0m\u001b[0;34m,\u001b[0m \u001b[0moverwrite_a\u001b[0m\u001b[0;34m=\u001b[0m\u001b[0moverwrite_a\u001b[0m\u001b[0;34m,\u001b[0m \u001b[0mclean\u001b[0m\u001b[0;34m=\u001b[0m\u001b[0mclean\u001b[0m\u001b[0;34m)\u001b[0m\u001b[0;34m\u001b[0m\u001b[0m\n\u001b[0m\u001b[1;32m     38\u001b[0m     \u001b[0;32mif\u001b[0m \u001b[0minfo\u001b[0m \u001b[0;34m>\u001b[0m \u001b[0;36m0\u001b[0m\u001b[0;34m:\u001b[0m\u001b[0;34m\u001b[0m\u001b[0m\n\u001b[1;32m     39\u001b[0m         raise LinAlgError(\"%d-th leading minor of the array is not positive \"\n",
      "\u001b[0;31mKeyboardInterrupt\u001b[0m: "
     ]
    }
   ],
   "source": [
    "opt.maximize(n_iter=1000)"
   ]
  },
  {
   "cell_type": "code",
   "execution_count": 25,
   "metadata": {
    "collapsed": true
   },
   "outputs": [
    {
     "data": {
      "application/vnd.jupyter.widget-view+json": {
       "model_id": "389334701cfa469c90e43bf98c6c7f83",
       "version_major": 2,
       "version_minor": 0
      },
      "text/plain": [
       "HBox(children=(IntProgress(value=0, max=1), HTML(value='')))"
      ]
     },
     "metadata": {},
     "output_type": "display_data"
    },
    {
     "name": "stdout",
     "output_type": "stream",
     "text": [
      "['Быстрое питание']\n"
     ]
    },
    {
     "data": {
      "application/vnd.jupyter.widget-view+json": {
       "model_id": "",
       "version_major": 2,
       "version_minor": 0
      },
      "text/plain": [
       "HBox(children=(IntProgress(value=0, max=10), HTML(value='')))"
      ]
     },
     "metadata": {},
     "output_type": "display_data"
    },
    {
     "data": {
      "application/vnd.jupyter.widget-view+json": {
       "model_id": "",
       "version_major": 2,
       "version_minor": 0
      },
      "text/plain": [
       "HBox(children=(IntProgress(value=0, max=10), HTML(value='')))"
      ]
     },
     "metadata": {},
     "output_type": "display_data"
    },
    {
     "data": {
      "application/vnd.jupyter.widget-view+json": {
       "model_id": "",
       "version_major": 2,
       "version_minor": 0
      },
      "text/plain": [
       "HBox(children=(IntProgress(value=0, max=20), HTML(value='')))"
      ]
     },
     "metadata": {},
     "output_type": "display_data"
    },
    {
     "data": {
      "application/vnd.jupyter.widget-view+json": {
       "model_id": "eda0ccb72459451385734460cd32c852",
       "version_major": 2,
       "version_minor": 0
      },
      "text/plain": [
       "HBox(children=(IntProgress(value=0, max=2400), HTML(value='')))"
      ]
     },
     "metadata": {},
     "output_type": "display_data"
    },
    {
     "name": "stdout",
     "output_type": "stream",
     "text": [
      "0 ) auc_roc 0.6527883960193357 (1, -1.6131621897742732, -0.632364303855148, 0.2)\n",
      "BEST 0 ) auc_roc 0.6527883960193357 (1, -1.6131621897742732, -0.632364303855148, 0.2)\n",
      "1 ) auc_roc 0.7030302355240027 (1, -0.8399993254388091, -0.632364303855148, 0.4)\n",
      "BEST 1 ) auc_roc 0.7030302355240027 (1, -0.8399993254388091, -0.632364303855148, 0.4)\n",
      "2 ) auc_roc 0.6957689233547603 (1, -1.4590186794814382, -1.6131621897742732, 0.4)\n",
      "3 ) auc_roc 0.5895896212387075 (1, -0.9200401028096967, -0.9200401028096967, 0.0)\n",
      "4 ) auc_roc 0.6865481605975612 (1, -2.7116741103573196, -3.404670757675428, 0.4)\n",
      "5 ) auc_roc 0.7476468961085938 (1, -0.9200401028096967, -1.0070491985373635, 0.8)\n",
      "BEST 5 ) auc_roc 0.7476468961085938 (1, -0.9200401028096967, -1.0070491985373635, 0.8)\n",
      "6 ) auc_roc 0.5807225612234239 (1, -0.632364303855148, -2.7116741103573196, 0.0)\n",
      "7 ) auc_roc 0.5852081127061699 (1, -3.404670757675428, -1.6131621897742732, 0.0)\n",
      "8 ) auc_roc 0.5861240869269609 (1, -1.6131621897742732, -1.4590186794814382, 0.0)\n",
      "9 ) auc_roc 0.6541386400865483 (1, -0.5145833593732545, -1.2077138106597225, 0.2)\n",
      "10 ) auc_roc 0.5904481712099754 (1, -0.8399993254388091, -0.7658930078331804, 0.0)\n",
      "11 ) auc_roc 0.6817513793391313 (1, -11.512925464970229, -1.0070491985373635, 1.0)\n",
      "12 ) auc_roc 0.6482168829824326 (1, -2.3062591850324683, -2.0186022049167422, 0.2)\n",
      "13 ) auc_roc 0.7453404025931053 (1, -1.102356640834202, -2.7116741103573196, 1.0)\n",
      "14 ) auc_roc 0.7671169633564026 (1, -0.4605170185988091, -2.3062591850324683, 1.0)\n",
      "BEST 14 ) auc_roc 0.7671169633564026 (1, -0.4605170185988091, -2.3062591850324683, 1.0)\n",
      "15 ) auc_roc 0.7334501864365088 (1, -0.632364303855148, -11.512925464970229, 0.6000000000000001)\n",
      "16 ) auc_roc 0.6539880117347261 (1, -0.9200401028096967, -0.6969015702901241, 0.2)\n",
      "17 ) auc_roc 0.5753864182475983 (1, -3.404670757675428, -11.512925464970229, 0.0)\n",
      "18 ) auc_roc 0.7019313328516291 (1, -0.8399993254388091, -1.102356640834202, 0.4)\n",
      "19 ) auc_roc 0.6510410105708904 (1, -3.404670757675428, -0.9200401028096967, 0.2)\n",
      "20 ) auc_roc 0.7365655810070352 (1, -0.6969015702901241, -0.9200401028096967, 0.6000000000000001)\n",
      "21 ) auc_roc 0.7276298916045281 (1, -1.2077138106597225, -1.2077138106597225, 0.6000000000000001)\n",
      "22 ) auc_roc 0.7317307222598668 (1, -1.6131621897742732, -11.512925464970229, 0.8)\n",
      "23 ) auc_roc 0.6970867840745324 (1, -1.6131621897742732, -0.7658930078331804, 0.4)\n",
      "24 ) auc_roc 0.6920702455909782 (1, -2.7116741103573196, -0.5717407891305454, 0.4)\n",
      "25 ) auc_roc 0.6542054380248162 (1, -0.5717407891305454, -1.102356640834202, 0.2)\n",
      "26 ) auc_roc 0.7453404025931053 (1, -1.102356640834202, -1.4590186794814382, 1.0)\n",
      "27 ) auc_roc 0.6487459386370696 (1, -1.7954737093063908, -2.0186022049167422, 0.2)\n",
      "28 ) auc_roc 0.7609876198379488 (1, -0.4605170185988091, -0.7658930078331804, 0.8)\n",
      "29 ) auc_roc 0.7478589112994973 (1, -1.0070491985373635, -0.8399993254388091, 1.0)\n",
      "30 ) auc_roc 0.6536687235836381 (1, -0.7658930078331804, -1.0070491985373635, 0.2)\n",
      "31 ) auc_roc 0.6490209889711143 (1, -1.3254926640414657, -2.3062591850324683, 0.2)\n",
      "32 ) auc_roc 0.5819880758021405 (1, -11.512925464970229, -2.3062591850324683, 0.0)\n",
      "33 ) auc_roc 0.5913217057636065 (1, -0.7658930078331804, -0.5717407891305454, 0.0)\n",
      "34 ) auc_roc 0.5895896212387075 (1, -11.512925464970229, -0.9200401028096967, 0.0)\n",
      "35 ) auc_roc 0.6538882477152591 (1, -1.102356640834202, -0.5145833593732545, 0.2)\n",
      "36 ) auc_roc 0.7511070859192976 (1, -0.7658930078331804, -1.6131621897742732, 0.8)\n",
      "37 ) auc_roc 0.743288347286144 (1, -1.102356640834202, -1.3254926640414657, 0.8)\n",
      "38 ) auc_roc 0.650849291164321 (1, -0.8399993254388091, -2.0186022049167422, 0.2)\n",
      "39 ) auc_roc 0.5895896212387075 (1, -2.0186022049167422, -0.9200401028096967, 0.0)\n",
      "40 ) auc_roc 0.7035798367060132 (1, -0.632364303855148, -1.3254926640414657, 0.4)\n",
      "41 ) auc_roc 0.5753864182475983 (1, -1.4590186794814382, -11.512925464970229, 0.0)\n",
      "42 ) auc_roc 0.6976443104356594 (1, -1.6131621897742732, -0.4605170185988091, 0.4)\n",
      "43 ) auc_roc 0.7582153555540039 (1, -0.5145833593732545, -3.404670757675428, 0.8)\n",
      "44 ) auc_roc 0.7287156078444221 (1, -1.2077138106597225, -0.632364303855148, 0.6000000000000001)\n",
      "45 ) auc_roc 0.5831480489724123 (1, -3.404670757675428, -2.0186022049167422, 0.0)\n",
      "46 ) auc_roc 0.6985871403579524 (1, -0.632364303855148, -11.512925464970229, 0.4)\n",
      "47 ) auc_roc 0.7140609193867098 (1, -2.7116741103573196, -1.2077138106597225, 1.0)\n",
      "48 ) auc_roc 0.6538145402195682 (1, -0.5145833593732545, -1.3254926640414657, 0.2)\n",
      "49 ) auc_roc 0.7280408021519992 (1, -1.2077138106597225, -1.0070491985373635, 0.6000000000000001)\n",
      "50 ) auc_roc 0.7063661698478435 (1, -3.404670757675428, -1.3254926640414657, 1.0)\n",
      "51 ) auc_roc 0.6542994746039135 (1, -0.7658930078331804, -0.7658930078331804, 0.2)\n",
      "52 ) auc_roc 0.7284231420957643 (1, -1.0070491985373635, -2.7116741103573196, 0.6000000000000001)\n",
      "53 ) auc_roc 0.7021982415625896 (1, -0.9200401028096967, -0.6969015702901241, 0.4)\n",
      "54 ) auc_roc 0.5890472126562314 (1, -3.404670757675428, -1.0070491985373635, 0.0)\n",
      "55 ) auc_roc 0.764974168078464 (1, -0.5145833593732545, -2.7116741103573196, 1.0)\n",
      "56 ) auc_roc 0.5792727529311757 (1, -3.404670757675428, -3.404670757675428, 0.0)\n",
      "57 ) auc_roc 0.6496475110092559 (1, -11.512925464970229, -1.3254926640414657, 0.2)\n",
      "58 ) auc_roc 0.7301980159280783 (1, -1.7954737093063908, -1.102356640834202, 0.8)\n",
      "59 ) auc_roc 0.7182155779918041 (1, -2.7116741103573196, -0.4605170185988091, 0.8)\n",
      "60 ) auc_roc 0.7234955121342318 (1, -1.2077138106597225, -11.512925464970229, 0.6000000000000001)\n",
      "61 ) auc_roc 0.6503796410539862 (1, -0.5717407891305454, -3.404670757675428, 0.2)\n",
      "62 ) auc_roc 0.7248623224897236 (1, -2.0186022049167422, -1.7954737093063908, 1.0)\n",
      "63 ) auc_roc 0.7671169633564026 (1, -0.4605170185988091, -1.102356640834202, 1.0)\n",
      "64 ) auc_roc 0.74679327439997 (1, -0.9200401028096967, -2.3062591850324683, 0.8)\n",
      "65 ) auc_roc 0.735290526244214 (1, -0.6969015702901241, -1.6131621897742732, 0.6000000000000001)\n",
      "66 ) auc_roc 0.7124604993921755 (1, -2.7116741103573196, -0.5145833593732545, 0.6000000000000001)\n",
      "67 ) auc_roc 0.5895896212387075 (1, -1.6131621897742732, -0.9200401028096967, 0.0)\n",
      "68 ) auc_roc 0.6540576900427151 (1, -0.8399993254388091, -0.7658930078331804, 0.2)\n",
      "69 ) auc_roc 0.6991042582953066 (1, -1.102356640834202, -1.3254926640414657, 0.4)\n",
      "70 ) auc_roc 0.7064236440459745 (1, -0.5145833593732545, -0.632364303855148, 0.4)\n",
      "71 ) auc_roc 0.5877423219249713 (1, -2.3062591850324683, -1.2077138106597225, 0.0)\n",
      "72 ) auc_roc 0.5852081127061699 (1, -1.3254926640414657, -1.6131621897742732, 0.0)\n",
      "73 ) auc_roc 0.7118947814593565 (1, -3.404670757675428, -0.5145833593732545, 0.8)\n",
      "74 ) auc_roc 0.7023185178103583 (1, -0.9200401028096967, -0.632364303855148, 0.4)\n",
      "75 ) auc_roc 0.764974168078464 (1, -0.5145833593732545, -11.512925464970229, 1.0)\n",
      "76 ) auc_roc 0.7234576177903889 (1, -1.6131621897742732, -0.5145833593732545, 0.6000000000000001)\n",
      "77 ) auc_roc 0.7267699763713116 (1, -2.0186022049167422, -0.9200401028096967, 0.8)\n",
      "78 ) auc_roc 0.6969433816213164 (1, -1.102356640834202, -2.3062591850324683, 0.4)\n",
      "79 ) auc_roc 0.7053179983115373 (1, -3.404670757675428, -2.0186022049167422, 0.6000000000000001)\n",
      "80 ) auc_roc 0.6520124943445689 (1, -2.0186022049167422, -0.7658930078331804, 0.2)\n",
      "81 ) auc_roc 0.7388949509849316 (1, -0.5145833593732545, -1.7954737093063908, 0.6000000000000001)\n",
      "82 ) auc_roc 0.6919201666738427 (1, -11.512925464970229, -1.2077138106597225, 0.6000000000000001)\n",
      "83 ) auc_roc 0.729756253790475 (1, -1.102356640834202, -0.9200401028096967, 0.6000000000000001)\n",
      "84 ) auc_roc 0.7602066067556423 (1, -0.632364303855148, -1.2077138106597225, 1.0)\n",
      "85 ) auc_roc 0.7113554030924248 (1, -3.404670757675428, -1.2077138106597225, 0.8)\n",
      "86 ) auc_roc 0.7552434633339091 (1, -0.7658930078331804, -0.632364303855148, 1.0)\n",
      "87 ) auc_roc 0.7291715220875907 (1, -1.7954737093063908, -0.7658930078331804, 1.0)\n",
      "88 ) auc_roc 0.7367028730805542 (1, -0.6969015702901241, -0.8399993254388091, 0.6000000000000001)\n",
      "89 ) auc_roc 0.74014018642885 (1, -1.2077138106597225, -3.404670757675428, 0.8)\n",
      "90 ) auc_roc 0.6522057621579823 (1, -0.5145833593732545, -2.0186022049167422, 0.2)\n",
      "91 ) auc_roc 0.5916417764428846 (1, -1.2077138106597225, -0.4605170185988091, 0.0)\n",
      "92 ) auc_roc 0.7452592860539125 (1, -1.0070491985373635, -1.4590186794814382, 0.8)\n"
     ]
    },
    {
     "name": "stdout",
     "output_type": "stream",
     "text": [
      "93 ) auc_roc 0.7291715220875907 (1, -1.7954737093063908, -2.7116741103573196, 1.0)\n",
      "94 ) auc_roc 0.7330262060033099 (1, -1.6131621897742732, -0.5145833593732545, 1.0)\n",
      "95 ) auc_roc 0.7334736289831392 (1, -1.6131621897742732, -1.0070491985373635, 0.8)\n",
      "96 ) auc_roc 0.764974168078464 (1, -0.5145833593732545, -0.632364303855148, 1.0)\n",
      "97 ) auc_roc 0.7320579855386792 (1, -0.6969015702901241, -11.512925464970229, 0.6000000000000001)\n",
      "98 ) auc_roc 0.6508081834600378 (1, -1.0070491985373635, -1.7954737093063908, 0.2)\n",
      "99 ) auc_roc 0.6491917299623751 (1, -0.8399993254388091, -3.404670757675428, 0.2)\n",
      "100 ) auc_roc 0.7602066067556423 (1, -0.632364303855148, -2.7116741103573196, 1.0)\n",
      "101 ) auc_roc 0.6525153269800702 (1, -1.3254926640414657, -0.9200401028096967, 0.2)\n",
      "102 ) auc_roc 0.7319428872965938 (1, -0.8399993254388091, -2.0186022049167422, 0.6000000000000001)\n",
      "103 ) auc_roc 0.6548284137117987 (1, -0.6969015702901241, -0.632364303855148, 0.2)\n",
      "104 ) auc_roc 0.6495185104046447 (1, -0.9200401028096967, -2.7116741103573196, 0.2)\n",
      "105 ) auc_roc 0.7390445637150602 (1, -1.3254926640414657, -0.9200401028096967, 0.8)\n",
      "106 ) auc_roc 0.7257161606423153 (1, -2.0186022049167422, -2.3062591850324683, 0.8)\n",
      "107 ) auc_roc 0.7426430612209765 (1, -1.2077138106597225, -2.3062591850324683, 1.0)\n",
      "108 ) auc_roc 0.6558826456791941 (1, -0.4605170185988091, -0.5145833593732545, 0.2)\n",
      "109 ) auc_roc 0.6498165370983129 (1, -1.2077138106597225, -2.0186022049167422, 0.2)\n",
      "110 ) auc_roc 0.719931046279816 (1, -2.3062591850324683, -1.102356640834202, 1.0)\n",
      "111 ) auc_roc 0.6913813543911337 (1, -2.0186022049167422, -2.0186022049167422, 0.4)\n",
      "112 ) auc_roc 0.6901897471025396 (1, -11.512925464970229, -2.3062591850324683, 0.6000000000000001)\n",
      "113 ) auc_roc 0.6512547906126054 (1, -1.0070491985373635, -1.6131621897742732, 0.2)\n",
      "114 ) auc_roc 0.6497699516966993 (1, -1.7954737093063908, -1.6131621897742732, 0.2)\n",
      "115 ) auc_roc 0.5831480489724123 (1, -1.4590186794814382, -2.0186022049167422, 0.0)\n",
      "116 ) auc_roc 0.7308276680789803 (1, -1.0070491985373635, -1.102356640834202, 0.6000000000000001)\n",
      "117 ) auc_roc 0.700042809286858 (1, -0.7658930078331804, -2.3062591850324683, 0.4)\n",
      "118 ) auc_roc 0.7478589112994973 (1, -1.0070491985373635, -0.9200401028096967, 1.0)\n",
      "119 ) auc_roc 0.6929341900118968 (1, -11.512925464970229, -0.6969015702901241, 0.6000000000000001)\n",
      "120 ) auc_roc 0.7366231717519177 (1, -1.4590186794814382, -0.6969015702901241, 0.8)\n",
      "121 ) auc_roc 0.7122052287068502 (1, -2.7116741103573196, -0.6969015702901241, 0.6000000000000001)\n",
      "122 ) auc_roc 0.5869578124401136 (1, -1.7954737093063908, -1.3254926640414657, 0.0)\n",
      "123 ) auc_roc 0.6925179516129188 (1, -11.512925464970229, -0.9200401028096967, 0.6000000000000001)\n",
      "124 ) auc_roc 0.7025085889128675 (1, -0.6969015702901241, -1.4590186794814382, 0.4)\n",
      "125 ) auc_roc 0.647809102547722 (1, -1.3254926640414657, -3.404670757675428, 0.2)\n",
      "126 ) auc_roc 0.7331101862626876 (1, -0.9200401028096967, -0.5717407891305454, 0.6000000000000001)\n",
      "127 ) auc_roc 0.6527128570746892 (1, -1.4590186794814382, -0.7658930078331804, 0.2)\n",
      "128 ) auc_roc 0.6535134000626756 (1, -1.3254926640414657, -0.4605170185988091, 0.2)\n",
      "129 ) auc_roc 0.6979557733048466 (1, -1.2077138106597225, -1.4590186794814382, 0.4)\n",
      "130 ) auc_roc 0.7003270335152162 (1, -0.6969015702901241, -2.7116741103573196, 0.4)\n",
      "131 ) auc_roc 0.7306239776560562 (1, -1.0070491985373635, -1.2077138106597225, 0.6000000000000001)\n",
      "132 ) auc_roc 0.5900557915960268 (1, -2.7116741103573196, -0.8399993254388091, 0.0)\n",
      "133 ) auc_roc 0.7063661698478435 (1, -3.404670757675428, -0.5145833593732545, 1.0)\n",
      "134 ) auc_roc 0.7229524375703172 (1, -1.6131621897742732, -0.8399993254388091, 0.6000000000000001)\n",
      "135 ) auc_roc 0.7426430612209765 (1, -1.2077138106597225, -0.8399993254388091, 1.0)\n",
      "136 ) auc_roc 0.5884316127136788 (1, -0.5145833593732545, -1.102356640834202, 0.0)\n",
      "137 ) auc_roc 0.7559113261698372 (1, -0.5717407891305454, -11.512925464970229, 0.8)\n",
      "138 ) auc_roc 0.7180338316572745 (1, -1.7954737093063908, -2.3062591850324683, 0.6000000000000001)\n",
      "139 ) auc_roc 0.6514029548331055 (1, -2.7116741103573196, -0.8399993254388091, 0.2)\n",
      "140 ) auc_roc 0.7550575213163176 (1, -0.632364303855148, -1.6131621897742732, 0.8)\n",
      "141 ) auc_roc 0.5884316127136788 (1, -1.102356640834202, -1.102356640834202, 0.0)\n",
      "142 ) auc_roc 0.6520334894094133 (1, -1.4590186794814382, -1.0070491985373635, 0.2)\n",
      "143 ) auc_roc 0.7265019521414416 (1, -2.0186022049167422, -1.2077138106597225, 0.8)\n",
      "144 ) auc_roc 0.6451857850124674 (1, -1.6131621897742732, -11.512925464970229, 0.2)\n",
      "145 ) auc_roc 0.5869578124401136 (1, -0.4605170185988091, -1.3254926640414657, 0.0)\n",
      "146 ) auc_roc 0.7001753562426286 (1, -1.0070491985373635, -1.2077138106597225, 0.4)\n",
      "147 ) auc_roc 0.749336574265405 (1, -0.8399993254388091, -1.3254926640414657, 0.8)\n",
      "148 ) auc_roc 0.6463085131707985 (1, -1.102356640834202, -11.512925464970229, 0.2)\n",
      "149 ) auc_roc 0.7016118282565734 (1, -0.632364303855148, -2.3062591850324683, 0.4)\n",
      "150 ) auc_roc 0.5915028360653057 (1, -3.404670757675428, -0.5145833593732545, 0.0)\n",
      "151 ) auc_roc 0.6533892611225643 (1, -1.102356640834202, -0.7658930078331804, 0.2)\n",
      "152 ) auc_roc 0.7266004507961759 (1, -2.0186022049167422, -1.102356640834202, 0.8)\n",
      "153 ) auc_roc 0.5792727529311757 (1, -0.8399993254388091, -3.404670757675428, 0.0)\n",
      "154 ) auc_roc 0.6509102784145392 (1, -0.6969015702901241, -2.3062591850324683, 0.2)\n",
      "155 ) auc_roc 0.7291715220875907 (1, -1.7954737093063908, -1.3254926640414657, 1.0)\n",
      "156 ) auc_roc 0.6819479770597365 (1, -11.512925464970229, -0.632364303855148, 0.4)\n",
      "157 ) auc_roc 0.7064416588438822 (1, -0.4605170185988091, -0.9200401028096967, 0.4)\n",
      "158 ) auc_roc 0.5890472126562314 (1, -1.0070491985373635, -1.0070491985373635, 0.0)\n",
      "159 ) auc_roc 0.5869578124401136 (1, -1.102356640834202, -1.3254926640414657, 0.0)\n",
      "160 ) auc_roc 0.5907876885472536 (1, -2.7116741103573196, -0.6969015702901241, 0.0)\n",
      "161 ) auc_roc 0.7409868153323713 (1, -1.2077138106597225, -1.4590186794814382, 0.8)\n",
      "162 ) auc_roc 0.7005257124278164 (1, -0.7658930078331804, -2.0186022049167422, 0.4)\n",
      "163 ) auc_roc 0.6843590296610483 (1, -3.404670757675428, -3.404670757675428, 0.4)\n",
      "164 ) auc_roc 0.7346913094450453 (1, -0.6969015702901241, -2.0186022049167422, 0.6000000000000001)\n",
      "165 ) auc_roc 0.6985663117884675 (1, -1.4590186794814382, -0.5145833593732545, 0.4)\n",
      "166 ) auc_roc 0.6973737221772518 (1, -1.6131621897742732, -0.632364303855148, 0.4)\n",
      "167 ) auc_roc 0.7140609193867098 (1, -2.7116741103573196, -0.7658930078331804, 1.0)\n",
      "168 ) auc_roc 0.722697982712254 (1, -1.4590186794814382, -2.0186022049167422, 0.6000000000000001)\n",
      "169 ) auc_roc 0.6526798576944183 (1, -1.7954737093063908, -0.5717407891305454, 0.2)\n",
      "170 ) auc_roc 0.7273800320183895 (1, -1.102356640834202, -2.3062591850324683, 0.6000000000000001)\n",
      "171 ) auc_roc 0.7248623224897236 (1, -2.0186022049167422, -0.5717407891305454, 1.0)\n",
      "172 ) auc_roc 0.7415095441633437 (1, -1.2077138106597225, -0.8399993254388091, 0.8)\n",
      "173 ) auc_roc 0.6914198148191991 (1, -11.512925464970229, -0.5717407891305454, 0.8)\n",
      "174 ) auc_roc 0.5913217057636065 (1, -1.102356640834202, -0.5717407891305454, 0.0)\n",
      "175 ) auc_roc 0.7453404025931053 (1, -1.102356640834202, -1.7954737093063908, 1.0)\n",
      "176 ) auc_roc 0.719931046279816 (1, -2.3062591850324683, -11.512925464970229, 1.0)\n",
      "177 ) auc_roc 0.5792727529311757 (1, -1.102356640834202, -3.404670757675428, 0.0)\n",
      "178 ) auc_roc 0.7171556019345029 (1, -2.7116741103573196, -1.7954737093063908, 0.8)\n",
      "179 ) auc_roc 0.7002272694957491 (1, -1.102356640834202, -0.9200401028096967, 0.4)\n",
      "180 ) auc_roc 0.6525939627384052 (1, -2.0186022049167422, -0.4605170185988091, 0.2)\n",
      "181 ) auc_roc 0.7371777178461081 (1, -0.4605170185988091, -11.512925464970229, 0.6000000000000001)\n",
      "182 ) auc_roc 0.7503278876364109 (1, -0.9200401028096967, -11.512925464970229, 1.0)\n",
      "183 ) auc_roc 0.7431878839861666 (1, -1.102356640834202, -1.4590186794814382, 0.8)\n",
      "184 ) auc_roc 0.7671169633564026 (1, -0.4605170185988091, -1.4590186794814382, 1.0)\n",
      "185 ) auc_roc 0.5915028360653057 (1, -1.2077138106597225, -0.5145833593732545, 0.0)\n",
      "186 ) auc_roc 0.5916417764428846 (1, -1.0070491985373635, -0.4605170185988091, 0.0)\n",
      "187 ) auc_roc 0.7013401910774005 (1, -1.0070491985373635, -0.7658930078331804, 0.4)\n",
      "188 ) auc_roc 0.7459230697535307 (1, -1.0070491985373635, -0.5717407891305454, 0.8)\n"
     ]
    },
    {
     "name": "stdout",
     "output_type": "stream",
     "text": [
      "189 ) auc_roc 0.6953543832084501 (1, -0.9200401028096967, -11.512925464970229, 0.4)\n",
      "190 ) auc_roc 0.7333213190281852 (1, -0.7658930078331804, -2.0186022049167422, 0.6000000000000001)\n",
      "191 ) auc_roc 0.7264054847300945 (1, -1.3254926640414657, -1.0070491985373635, 0.6000000000000001)\n",
      "192 ) auc_roc 0.5890472126562314 (1, -0.5717407891305454, -1.0070491985373635, 0.0)\n",
      "193 ) auc_roc 0.755611184985102 (1, -0.632364303855148, -0.8399993254388091, 0.8)\n",
      "194 ) auc_roc 0.6521066141713459 (1, -11.512925464970229, -0.4605170185988091, 0.2)\n",
      "195 ) auc_roc 0.7575807085423141 (1, -0.5717407891305454, -0.6969015702901241, 0.8)\n",
      "196 ) auc_roc 0.7333016059776095 (1, -1.6131621897742732, -1.2077138106597225, 0.8)\n",
      "197 ) auc_roc 0.6850292067824749 (1, -3.404670757675428, -2.7116741103573196, 0.4)\n",
      "198 ) auc_roc 0.6995383283472968 (1, -0.7658930078331804, -2.7116741103573196, 0.4)\n",
      "199 ) auc_roc 0.6921817974819042 (1, -2.7116741103573196, -0.5145833593732545, 0.4)\n",
      "200 ) auc_roc 0.7365415890257181 (1, -1.4590186794814382, -0.7658930078331804, 1.0)\n",
      "201 ) auc_roc 0.5907876885472536 (1, -0.7658930078331804, -0.6969015702901241, 0.0)\n",
      "202 ) auc_roc 0.6534589727296252 (1, -0.5145833593732545, -1.4590186794814382, 0.2)\n",
      "203 ) auc_roc 0.6492702991225662 (1, -1.2077138106597225, -2.3062591850324683, 0.2)\n",
      "204 ) auc_roc 0.7140609193867098 (1, -2.7116741103573196, -0.6969015702901241, 1.0)\n",
      "205 ) auc_roc 0.6509190693695257 (1, -1.7954737093063908, -1.2077138106597225, 0.2)\n",
      "206 ) auc_roc 0.5916417764428846 (1, -2.3062591850324683, -0.4605170185988091, 0.0)\n",
      "207 ) auc_roc 0.7503278876364109 (1, -0.9200401028096967, -0.5145833593732545, 1.0)\n",
      "208 ) auc_roc 0.6524333946136154 (1, -2.0186022049167422, -0.5717407891305454, 0.2)\n",
      "209 ) auc_roc 0.6962575539360885 (1, -1.3254926640414657, -1.7954737093063908, 0.4)\n",
      "210 ) auc_roc 0.7184165045917589 (1, -1.7954737093063908, -2.0186022049167422, 0.6000000000000001)\n",
      "211 ) auc_roc 0.6536030744633513 (1, -1.0070491985373635, -0.7658930078331804, 0.2)\n",
      "212 ) auc_roc 0.7576203677369687 (1, -0.5717407891305454, -0.5717407891305454, 0.8)\n",
      "213 ) auc_roc 0.7590556576338606 (1, -0.5145833593732545, -1.2077138106597225, 0.8)\n",
      "214 ) auc_roc 0.6817513793391313 (1, -11.512925464970229, -3.404670757675428, 1.0)\n",
      "215 ) auc_roc 0.7156986842904002 (1, -2.3062591850324683, -0.632364303855148, 0.6000000000000001)\n",
      "216 ) auc_roc 0.739738233331725 (1, -1.3254926640414657, -2.3062591850324683, 1.0)\n",
      "217 ) auc_roc 0.7291531909484997 (1, -1.7954737093063908, -2.7116741103573196, 0.8)\n",
      "218 ) auc_roc 0.7286734678689096 (1, -1.102356640834202, -1.4590186794814382, 0.6000000000000001)\n",
      "219 ) auc_roc 0.6795851415145624 (1, -11.512925464970229, -1.4590186794814382, 0.4)\n",
      "220 ) auc_roc 0.7286089509170681 (1, -1.2077138106597225, -0.6969015702901241, 0.6000000000000001)\n",
      "221 ) auc_roc 0.6908629211404385 (1, -11.512925464970229, -1.7954737093063908, 0.6000000000000001)\n",
      "222 ) auc_roc 0.7503278876364109 (1, -0.9200401028096967, -0.7658930078331804, 1.0)\n",
      "223 ) auc_roc 0.7249622197054784 (1, -1.4590186794814382, -0.8399993254388091, 0.6000000000000001)\n",
      "224 ) auc_roc 0.5913217057636065 (1, -0.9200401028096967, -0.5717407891305454, 0.0)\n",
      "225 ) auc_roc 0.692681549953253 (1, -1.6131621897742732, -2.7116741103573196, 0.4)\n",
      "226 ) auc_roc 0.7360112846558844 (1, -0.6969015702901241, -1.2077138106597225, 0.6000000000000001)\n",
      "227 ) auc_roc 0.5907876885472536 (1, -0.632364303855148, -0.6969015702901241, 0.0)\n",
      "228 ) auc_roc 0.6519027905521342 (1, -0.9200401028096967, -1.4590186794814382, 0.2)\n",
      "229 ) auc_roc 0.6984820984355863 (1, -1.4590186794814382, -0.5717407891305454, 0.4)\n",
      "230 ) auc_roc 0.6912573153482381 (1, -2.7116741103573196, -0.9200401028096967, 0.4)\n",
      "231 ) auc_roc 0.6536604987128743 (1, -0.632364303855148, -1.2077138106597225, 0.2)\n",
      "232 ) auc_roc 0.6966886936697498 (1, -1.6131621897742732, -0.9200401028096967, 0.4)\n",
      "233 ) auc_roc 0.7626593164959241 (1, -0.5717407891305454, -0.9200401028096967, 1.0)\n",
      "234 ) auc_roc 0.7396584654049448 (1, -0.5145833593732545, -1.3254926640414657, 0.6000000000000001)\n",
      "235 ) auc_roc 0.7305286091140825 (1, -1.7954737093063908, -0.6969015702901241, 0.8)\n",
      "236 ) auc_roc 0.6550755094749678 (1, -0.632364303855148, -0.632364303855148, 0.2)\n",
      "237 ) auc_roc 0.6940803773663944 (1, -2.0186022049167422, -1.0070491985373635, 0.4)\n",
      "238 ) auc_roc 0.5910693154480022 (1, -1.2077138106597225, -0.632364303855148, 0.0)\n",
      "239 ) auc_roc 0.652319511787655 (1, -2.0186022049167422, -0.632364303855148, 0.2)\n",
      "240 ) auc_roc 0.6953280769416348 (1, -1.7954737093063908, -1.0070491985373635, 0.4)\n",
      "241 ) auc_roc 0.6516732600494018 (1, -1.3254926640414657, -1.2077138106597225, 0.2)\n",
      "242 ) auc_roc 0.5910693154480022 (1, -1.6131621897742732, -0.632364303855148, 0.0)\n",
      "243 ) auc_roc 0.654461707682299 (1, -0.7658930078331804, -0.6969015702901241, 0.2)\n",
      "244 ) auc_roc 0.6910677437318077 (1, -11.512925464970229, -1.102356640834202, 0.8)\n",
      "245 ) auc_roc 0.5890472126562314 (1, -1.2077138106597225, -1.0070491985373635, 0.0)\n",
      "246 ) auc_roc 0.6483546079438866 (1, -1.102356640834202, -3.404670757675428, 0.2)\n",
      "247 ) auc_roc 0.7330262060033099 (1, -1.6131621897742732, -0.9200401028096967, 1.0)\n",
      "248 ) auc_roc 0.7533943492207534 (1, -0.6969015702901241, -1.2077138106597225, 0.8)\n",
      "249 ) auc_roc 0.7556502447964621 (1, -0.632364303855148, -0.7658930078331804, 0.8)\n",
      "250 ) auc_roc 0.7503278876364109 (1, -0.9200401028096967, -1.102356640834202, 1.0)\n",
      "251 ) auc_roc 0.5913217057636065 (1, -0.5145833593732545, -0.5717407891305454, 0.0)\n",
      "252 ) auc_roc 0.6499234770677783 (1, -2.0186022049167422, -1.4590186794814382, 0.2)\n",
      "253 ) auc_roc 0.7577059796508705 (1, -0.6969015702901241, -0.9200401028096967, 1.0)\n",
      "254 ) auc_roc 0.5852081127061699 (1, -1.102356640834202, -1.6131621897742732, 0.0)\n",
      "255 ) auc_roc 0.7577059796508705 (1, -0.6969015702901241, -0.6969015702901241, 1.0)\n",
      "256 ) auc_roc 0.7065298847349295 (1, -3.404670757675428, -1.3254926640414657, 0.6000000000000001)\n",
      "257 ) auc_roc 0.7213985530287886 (1, -1.4590186794814382, -3.404670757675428, 0.6000000000000001)\n",
      "258 ) auc_roc 0.6981008573611944 (1, -1.3254926640414657, -1.102356640834202, 0.4)\n",
      "259 ) auc_roc 0.5900557915960268 (1, -1.4590186794814382, -0.8399993254388091, 0.0)\n",
      "260 ) auc_roc 0.7077712075378976 (1, -3.404670757675428, -0.6969015702901241, 0.6000000000000001)\n",
      "261 ) auc_roc 0.6534154175435561 (1, -0.7658930078331804, -1.102356640834202, 0.2)\n",
      "262 ) auc_roc 0.6947519696983774 (1, -1.7954737093063908, -1.2077138106597225, 0.4)\n",
      "263 ) auc_roc 0.7515698431217455 (1, -0.7658930078331804, -1.0070491985373635, 0.8)\n",
      "264 ) auc_roc 0.7271012688378261 (1, -2.0186022049167422, -0.4605170185988091, 0.8)\n",
      "265 ) auc_roc 0.734159972803982 (1, -0.8399993254388091, -0.7658930078331804, 0.6000000000000001)\n",
      "266 ) auc_roc 0.7414116282423682 (1, -0.4605170185988091, -0.9200401028096967, 0.6000000000000001)\n",
      "267 ) auc_roc 0.6931144378881902 (1, -11.512925464970229, -0.5717407891305454, 0.6000000000000001)\n",
      "268 ) auc_roc 0.5792727529311757 (1, -1.7954737093063908, -3.404670757675428, 0.0)\n",
      "269 ) auc_roc 0.6510693813801647 (1, -0.9200401028096967, -1.7954737093063908, 0.2)\n",
      "270 ) auc_roc 0.5884316127136788 (1, -11.512925464970229, -1.102356640834202, 0.0)\n",
      "271 ) auc_roc 0.7010116124852472 (1, -0.8399993254388091, -1.4590186794814382, 0.4)\n",
      "272 ) auc_roc 0.6490106829083555 (1, -2.0186022049167422, -1.7954737093063908, 0.2)\n",
      "273 ) auc_roc 0.5792727529311757 (1, -0.9200401028096967, -3.404670757675428, 0.0)\n",
      "274 ) auc_roc 0.7453404025931053 (1, -1.102356640834202, -0.6969015702901241, 1.0)\n",
      "275 ) auc_roc 0.7063661698478435 (1, -3.404670757675428, -1.2077138106597225, 1.0)\n",
      "276 ) auc_roc 0.7600342341098576 (1, -0.4605170185988091, -2.7116741103573196, 0.8)\n",
      "277 ) auc_roc 0.5792727529311757 (1, -0.7658930078331804, -3.404670757675428, 0.0)\n",
      "278 ) auc_roc 0.7594220306726409 (1, -0.4605170185988091, -11.512925464970229, 0.8)\n",
      "279 ) auc_roc 0.5792727529311757 (1, -1.6131621897742732, -3.404670757675428, 0.0)\n",
      "280 ) auc_roc 0.646470879445472 (1, -11.512925464970229, -2.7116741103573196, 0.2)\n",
      "281 ) auc_roc 0.6986957452810136 (1, -1.0070491985373635, -1.7954737093063908, 0.4)\n",
      "282 ) auc_roc 0.7412833435678031 (1, -1.2077138106597225, -1.102356640834202, 0.8)\n",
      "283 ) auc_roc 0.6522242930915048 (1, -1.2077138106597225, -1.102356640834202, 0.2)\n",
      "284 ) auc_roc 0.7317401292476838 (1, -1.0070491985373635, -0.5717407891305454, 0.6000000000000001)\n"
     ]
    },
    {
     "name": "stdout",
     "output_type": "stream",
     "text": [
      "285 ) auc_roc 0.7418187759947124 (1, -0.4605170185988091, -0.632364303855148, 0.6000000000000001)\n",
      "286 ) auc_roc 0.7063661698478435 (1, -3.404670757675428, -2.0186022049167422, 1.0)\n",
      "287 ) auc_roc 0.5819880758021405 (1, -1.0070491985373635, -2.3062591850324683, 0.0)\n",
      "288 ) auc_roc 0.7311989194317967 (1, -0.8399993254388091, -2.7116741103573196, 0.6000000000000001)\n",
      "289 ) auc_roc 0.5916417764428846 (1, -0.9200401028096967, -0.4605170185988091, 0.0)\n",
      "290 ) auc_roc 0.7248623224897236 (1, -2.0186022049167422, -0.5145833593732545, 1.0)\n",
      "291 ) auc_roc 0.6817513793391313 (1, -11.512925464970229, -0.5717407891305454, 1.0)\n",
      "292 ) auc_roc 0.7504670777570291 (1, -0.7658930078331804, -3.404670757675428, 0.8)\n",
      "293 ) auc_roc 0.7411159990818781 (1, -0.4605170185988091, -1.102356640834202, 0.6000000000000001)\n",
      "294 ) auc_roc 0.6533697811654922 (1, -1.3254926640414657, -0.5717407891305454, 0.2)\n",
      "295 ) auc_roc 0.7413716194074583 (1, -1.2077138106597225, -1.0070491985373635, 0.8)\n",
      "296 ) auc_roc 0.7408686868747414 (1, -0.5145833593732545, -0.5145833593732545, 0.6000000000000001)\n",
      "297 ) auc_roc 0.7060005127391094 (1, -0.5717407891305454, -0.4605170185988091, 0.4)\n",
      "298 ) auc_roc 0.6952348062411917 (1, -1.3254926640414657, -2.3062591850324683, 0.4)\n",
      "299 ) auc_roc 0.6517745891252491 (1, -11.512925464970229, -0.632364303855148, 0.2)\n",
      "300 ) auc_roc 0.7499298971288442 (1, -0.8399993254388091, -0.4605170185988091, 0.8)\n",
      "301 ) auc_roc 0.6460477148395349 (1, -1.2077138106597225, -11.512925464970229, 0.2)\n",
      "302 ) auc_roc 0.6943990661341879 (1, -1.7954737093063908, -1.3254926640414657, 0.4)\n",
      "303 ) auc_roc 0.6522192149830373 (1, -2.7116741103573196, -0.4605170185988091, 0.2)\n",
      "304 ) auc_roc 0.7552434633339091 (1, -0.7658930078331804, -1.2077138106597225, 1.0)\n",
      "305 ) auc_roc 0.758792761461066 (1, -0.5145833593732545, -1.6131621897742732, 0.8)\n",
      "306 ) auc_roc 0.72351249466091 (1, -1.6131621897742732, -0.4605170185988091, 0.6000000000000001)\n",
      "307 ) auc_roc 0.7626593164959241 (1, -0.5717407891305454, -1.7954737093063908, 1.0)\n",
      "308 ) auc_roc 0.7313389753282848 (1, -1.0070491985373635, -0.8399993254388091, 0.6000000000000001)\n",
      "309 ) auc_roc 0.734356237533868 (1, -0.8399993254388091, -0.632364303855148, 0.6000000000000001)\n",
      "310 ) auc_roc 0.7446249054347981 (1, -1.0070491985373635, -2.7116741103573196, 0.8)\n",
      "311 ) auc_roc 0.716841575036778 (1, -2.0186022049167422, -1.4590186794814382, 0.6000000000000001)\n",
      "312 ) auc_roc 0.7052217806432295 (1, -0.5145833593732545, -1.2077138106597225, 0.4)\n",
      "313 ) auc_roc 0.7363967547124097 (1, -0.6969015702901241, -1.0070491985373635, 0.6000000000000001)\n",
      "314 ) auc_roc 0.764974168078464 (1, -0.5145833593732545, -1.6131621897742732, 1.0)\n",
      "315 ) auc_roc 0.7063661698478435 (1, -3.404670757675428, -2.3062591850324683, 1.0)\n",
      "316 ) auc_roc 0.5852081127061699 (1, -0.5145833593732545, -1.6131621897742732, 0.0)\n",
      "317 ) auc_roc 0.6955371118656014 (1, -1.6131621897742732, -1.3254926640414657, 0.4)\n",
      "318 ) auc_roc 0.6436312677885724 (1, -11.512925464970229, -11.512925464970229, 0.2)\n",
      "319 ) auc_roc 0.6550944233478174 (1, -0.5145833593732545, -0.8399993254388091, 0.2)\n",
      "320 ) auc_roc 0.7426739794092525 (1, -1.102356640834202, -2.3062591850324683, 0.8)\n",
      "321 ) auc_roc 0.729906532502042 (1, -1.102356640834202, -0.8399993254388091, 0.6000000000000001)\n",
      "322 ) auc_roc 0.7475667452424866 (1, -0.9200401028096967, -1.102356640834202, 0.8)\n",
      "323 ) auc_roc 0.738027743254965 (1, -0.632364303855148, -0.8399993254388091, 0.6000000000000001)\n",
      "324 ) auc_roc 0.7346032167502856 (1, -1.4590186794814382, -11.512925464970229, 0.8)\n",
      "325 ) auc_roc 0.6948238956937206 (1, -1.4590186794814382, -2.0186022049167422, 0.4)\n",
      "326 ) auc_roc 0.6457706998602472 (1, -1.3254926640414657, -11.512925464970229, 0.2)\n",
      "327 ) auc_roc 0.7004890168505624 (1, -0.632364303855148, -3.404670757675428, 0.4)\n",
      "328 ) auc_roc 0.5852081127061699 (1, -0.7658930078331804, -1.6131621897742732, 0.0)\n",
      "329 ) auc_roc 0.719931046279816 (1, -2.3062591850324683, -1.3254926640414657, 1.0)\n",
      "330 ) auc_roc 0.6993642075002364 (1, -0.5717407891305454, -11.512925464970229, 0.4)\n",
      "331 ) auc_roc 0.5895896212387075 (1, -1.0070491985373635, -0.9200401028096967, 0.0)\n",
      "332 ) auc_roc 0.5842145016992016 (1, -1.0070491985373635, -1.7954737093063908, 0.0)\n",
      "333 ) auc_roc 0.6460141493750413 (1, -3.404670757675428, -3.404670757675428, 0.2)\n",
      "334 ) auc_roc 0.7555674300046017 (1, -0.632364303855148, -0.9200401028096967, 0.8)\n",
      "335 ) auc_roc 0.7577059796508705 (1, -0.6969015702901241, -1.4590186794814382, 1.0)\n",
      "336 ) auc_roc 0.7385904642713113 (1, -1.3254926640414657, -1.4590186794814382, 0.8)\n",
      "337 ) auc_roc 0.7602066067556423 (1, -0.632364303855148, -0.6969015702901241, 1.0)\n",
      "338 ) auc_roc 0.6488952516755511 (1, -0.9200401028096967, -3.404670757675428, 0.2)\n",
      "339 ) auc_roc 0.6490098504315577 (1, -1.6131621897742732, -2.0186022049167422, 0.2)\n",
      "340 ) auc_roc 0.5807225612234239 (1, -0.5145833593732545, -2.7116741103573196, 0.0)\n",
      "341 ) auc_roc 0.7020882047794359 (1, -0.632364303855148, -2.0186022049167422, 0.4)\n",
      "342 ) auc_roc 0.6522154355383745 (1, -2.3062591850324683, -0.5717407891305454, 0.2)\n",
      "343 ) auc_roc 0.5831480489724123 (1, -0.7658930078331804, -2.0186022049167422, 0.0)\n",
      "344 ) auc_roc 0.7395845081662145 (1, -0.5717407891305454, -0.632364303855148, 0.6000000000000001)\n",
      "345 ) auc_roc 0.7337936663633454 (1, -1.6131621897742732, -0.632364303855148, 0.8)\n",
      "346 ) auc_roc 0.7159258505590265 (1, -2.3062591850324683, -0.4605170185988091, 0.6000000000000001)\n",
      "347 ) auc_roc 0.7253889972607185 (1, -2.0186022049167422, -3.404670757675428, 0.8)\n",
      "348 ) auc_roc 0.6503266955296362 (1, -0.8399993254388091, -2.3062591850324683, 0.2)\n",
      "349 ) auc_roc 0.7150644701666455 (1, -2.0186022049167422, -2.7116741103573196, 0.6000000000000001)\n",
      "350 ) auc_roc 0.6951575357448054 (1, -1.6131621897742732, -1.4590186794814382, 0.4)\n",
      "351 ) auc_roc 0.706610751531083 (1, -0.4605170185988091, -0.8399993254388091, 0.4)\n",
      "352 ) auc_roc 0.6988095615088302 (1, -1.3254926640414657, -0.8399993254388091, 0.4)\n",
      "353 ) auc_roc 0.6534569248367021 (1, -1.3254926640414657, -0.5145833593732545, 0.2)\n",
      "354 ) auc_roc 0.5900557915960268 (1, -0.632364303855148, -0.8399993254388091, 0.0)\n",
      "355 ) auc_roc 0.7311771418387621 (1, -1.0070491985373635, -0.9200401028096967, 0.6000000000000001)\n",
      "356 ) auc_roc 0.739218185076042 (1, -1.3254926640414657, -0.6969015702901241, 0.8)\n",
      "357 ) auc_roc 0.5807225612234239 (1, -0.7658930078331804, -2.7116741103573196, 0.0)\n",
      "358 ) auc_roc 0.6943296875178463 (1, -2.0186022049167422, -0.9200401028096967, 0.4)\n",
      "359 ) auc_roc 0.7338851222643689 (1, -0.8399993254388091, -0.9200401028096967, 0.6000000000000001)\n",
      "360 ) auc_roc 0.6528684136891553 (1, -0.4605170185988091, -1.7954737093063908, 0.2)\n",
      "361 ) auc_roc 0.6538327714614434 (1, -0.9200401028096967, -0.7658930078331804, 0.2)\n",
      "362 ) auc_roc 0.7456203145916499 (1, -1.0070491985373635, -1.0070491985373635, 0.8)\n",
      "363 ) auc_roc 0.7023978528492034 (1, -0.8399993254388091, -0.9200401028096967, 0.4)\n",
      "364 ) auc_roc 0.7473742100086553 (1, -0.9200401028096967, -1.3254926640414657, 0.8)\n",
      "365 ) auc_roc 0.6923440971584337 (1, -11.512925464970229, -1.0070491985373635, 0.6000000000000001)\n",
      "366 ) auc_roc 0.5884316127136788 (1, -0.6969015702901241, -1.102356640834202, 0.0)\n",
      "367 ) auc_roc 0.7388058426684785 (1, -1.3254926640414657, -1.2077138106597225, 0.8)\n",
      "368 ) auc_roc 0.7626593164959241 (1, -0.5717407891305454, -1.102356640834202, 1.0)\n",
      "369 ) auc_roc 0.7478589112994973 (1, -1.0070491985373635, -2.3062591850324683, 1.0)\n",
      "370 ) auc_roc 0.7379689370939574 (1, -0.5717407891305454, -1.6131621897742732, 0.6000000000000001)\n",
      "371 ) auc_roc 0.6963781631745763 (1, -1.7954737093063908, -0.5717407891305454, 0.4)\n",
      "372 ) auc_roc 0.6516995496666813 (1, -0.632364303855148, -2.0186022049167422, 0.2)\n",
      "373 ) auc_roc 0.5861240869269609 (1, -0.4605170185988091, -1.4590186794814382, 0.0)\n",
      "374 ) auc_roc 0.5900557915960268 (1, -0.6969015702901241, -0.8399993254388091, 0.0)\n",
      "375 ) auc_roc 0.6908748755072573 (1, -11.512925464970229, -1.3254926640414657, 0.8)\n",
      "376 ) auc_roc 0.7357468567257814 (1, -0.7658930078331804, -0.5717407891305454, 0.6000000000000001)\n",
      "377 ) auc_roc 0.6557591394214493 (1, -0.5145833593732545, -0.4605170185988091, 0.2)\n",
      "378 ) auc_roc 0.7527527427030329 (1, -0.6969015702901241, -2.3062591850324683, 0.8)\n",
      "379 ) auc_roc 0.7453404025931053 (1, -1.102356640834202, -1.6131621897742732, 1.0)\n"
     ]
    },
    {
     "name": "stdout",
     "output_type": "stream",
     "text": [
      "380 ) auc_roc 0.6540175147124456 (1, -1.0070491985373635, -0.5717407891305454, 0.2)\n",
      "381 ) auc_roc 0.7063661698478435 (1, -3.404670757675428, -1.6131621897742732, 1.0)\n",
      "382 ) auc_roc 0.7592071684110885 (1, -0.5145833593732545, -1.0070491985373635, 0.8)\n",
      "383 ) auc_roc 0.735357757070417 (1, -0.632364303855148, -2.7116741103573196, 0.6000000000000001)\n",
      "384 ) auc_roc 0.6498065307272015 (1, -0.8399993254388091, -2.7116741103573196, 0.2)\n",
      "385 ) auc_roc 0.7113943297074973 (1, -2.7116741103573196, -1.102356640834202, 0.6000000000000001)\n",
      "386 ) auc_roc 0.6906716179722683 (1, -11.512925464970229, -1.6131621897742732, 0.8)\n",
      "387 ) auc_roc 0.7429479974720676 (1, -1.102356640834202, -1.7954737093063908, 0.8)\n",
      "388 ) auc_roc 0.5913217057636065 (1, -0.4605170185988091, -0.5717407891305454, 0.0)\n",
      "389 ) auc_roc 0.6555406309115218 (1, -0.5717407891305454, -0.4605170185988091, 0.2)\n",
      "390 ) auc_roc 0.764974168078464 (1, -0.5145833593732545, -0.7658930078331804, 1.0)\n",
      "391 ) auc_roc 0.7063661698478435 (1, -3.404670757675428, -0.4605170185988091, 1.0)\n",
      "392 ) auc_roc 0.6536670086814345 (1, -1.2077138106597225, -0.5145833593732545, 0.2)\n",
      "393 ) auc_roc 0.719931046279816 (1, -2.3062591850324683, -0.5145833593732545, 1.0)\n",
      "394 ) auc_roc 0.7262775829948566 (1, -2.0186022049167422, -1.4590186794814382, 0.8)\n",
      "395 ) auc_roc 0.7342704258255348 (1, -0.8399993254388091, -0.6969015702901241, 0.6000000000000001)\n",
      "396 ) auc_roc 0.7298268977715494 (1, -0.9200401028096967, -2.7116741103573196, 0.6000000000000001)\n",
      "397 ) auc_roc 0.7373775788757615 (1, -0.5717407891305454, -2.0186022049167422, 0.6000000000000001)\n",
      "398 ) auc_roc 0.5913217057636065 (1, -1.3254926640414657, -0.5717407891305454, 0.0)\n",
      "399 ) auc_roc 0.7322068656892258 (1, -1.6131621897742732, -3.404670757675428, 0.8)\n",
      "400 ) auc_roc 0.7386584276770962 (1, -0.5717407891305454, -1.2077138106597225, 0.6000000000000001)\n",
      "401 ) auc_roc 0.5890472126562314 (1, -0.5145833593732545, -1.0070491985373635, 0.0)\n",
      "402 ) auc_roc 0.5907876885472536 (1, -11.512925464970229, -0.6969015702901241, 0.0)\n",
      "403 ) auc_roc 0.5792727529311757 (1, -2.7116741103573196, -3.404670757675428, 0.0)\n",
      "404 ) auc_roc 0.7391437949493767 (1, -0.5717407891305454, -0.9200401028096967, 0.6000000000000001)\n",
      "405 ) auc_roc 0.652618054616938 (1, -0.9200401028096967, -1.2077138106597225, 0.2)\n",
      "406 ) auc_roc 0.6917178581624033 (1, -2.3062591850324683, -1.3254926640414657, 0.4)\n",
      "407 ) auc_roc 0.7020876386952133 (1, -0.7658930078331804, -1.3254926640414657, 0.4)\n",
      "408 ) auc_roc 0.5869578124401136 (1, -1.0070491985373635, -1.3254926640414657, 0.0)\n",
      "409 ) auc_roc 0.6982409132576826 (1, -1.4590186794814382, -0.6969015702901241, 0.4)\n",
      "410 ) auc_roc 0.7577484692666382 (1, -0.5145833593732545, -11.512925464970229, 0.8)\n",
      "411 ) auc_roc 0.6969064363010232 (1, -1.6131621897742732, -0.8399993254388091, 0.4)\n",
      "412 ) auc_roc 0.7036330819220105 (1, -0.4605170185988091, -2.3062591850324683, 0.4)\n",
      "413 ) auc_roc 0.5753864182475983 (1, -0.7658930078331804, -11.512925464970229, 0.0)\n",
      "414 ) auc_roc 0.5913217057636065 (1, -1.2077138106597225, -0.5717407891305454, 0.0)\n",
      "415 ) auc_roc 0.7158540910590427 (1, -2.0186022049167422, -2.0186022049167422, 0.6000000000000001)\n",
      "416 ) auc_roc 0.739738233331725 (1, -1.3254926640414657, -2.0186022049167422, 1.0)\n",
      "417 ) auc_roc 0.7315702706818288 (1, -1.0070491985373635, -0.6969015702901241, 0.6000000000000001)\n",
      "418 ) auc_roc 0.7406124338667944 (1, -1.2077138106597225, -2.0186022049167422, 0.8)\n",
      "419 ) auc_roc 0.6527498190445183 (1, -1.2077138106597225, -0.9200401028096967, 0.2)\n",
      "420 ) auc_roc 0.5807225612234239 (1, -2.0186022049167422, -2.7116741103573196, 0.0)\n",
      "421 ) auc_roc 0.7594285406412009 (1, -0.5145833593732545, -0.5717407891305454, 0.8)\n",
      "422 ) auc_roc 0.6530020428647632 (1, -1.6131621897742732, -0.5145833593732545, 0.2)\n",
      "423 ) auc_roc 0.7516892535936441 (1, -0.7658930078331804, -0.8399993254388091, 0.8)\n",
      "424 ) auc_roc 0.6531661406911762 (1, -0.8399993254388091, -1.102356640834202, 0.2)\n",
      "425 ) auc_roc 0.7291715220875907 (1, -1.7954737093063908, -0.4605170185988091, 1.0)\n",
      "426 ) auc_roc 0.6485617448207539 (1, -2.7116741103573196, -1.7954737093063908, 0.2)\n",
      "427 ) auc_roc 0.5910693154480022 (1, -1.3254926640414657, -0.632364303855148, 0.0)\n",
      "428 ) auc_roc 0.6772441168614945 (1, -11.512925464970229, -2.7116741103573196, 0.4)\n",
      "429 ) auc_roc 0.5910693154480022 (1, -0.5717407891305454, -0.632364303855148, 0.0)\n",
      "430 ) auc_roc 0.7388407733949207 (1, -0.5717407891305454, -1.102356640834202, 0.6000000000000001)\n",
      "431 ) auc_roc 0.6997177936954002 (1, -1.102356640834202, -1.102356640834202, 0.4)\n",
      "432 ) auc_roc 0.7052339348044797 (1, -0.632364303855148, -0.5717407891305454, 0.4)\n",
      "433 ) auc_roc 0.6517564577805895 (1, -0.8399993254388091, -1.6131621897742732, 0.2)\n",
      "434 ) auc_roc 0.7140609193867098 (1, -2.7116741103573196, -0.632364303855148, 1.0)\n",
      "435 ) auc_roc 0.7426430612209765 (1, -1.2077138106597225, -1.4590186794814382, 1.0)\n",
      "436 ) auc_roc 0.6932431388011542 (1, -1.6131621897742732, -2.3062591850324683, 0.4)\n",
      "437 ) auc_roc 0.7332234364062815 (1, -0.9200401028096967, -0.4605170185988091, 0.6000000000000001)\n",
      "438 ) auc_roc 0.7092639216843123 (1, -2.7116741103573196, -2.3062591850324683, 0.6000000000000001)\n",
      "439 ) auc_roc 0.6931809694338829 (1, -11.512925464970229, -0.5145833593732545, 0.6000000000000001)\n",
      "440 ) auc_roc 0.7026679416215322 (1, -0.7658930078331804, -1.102356640834202, 0.4)\n",
      "441 ) auc_roc 0.5884316127136788 (1, -3.404670757675428, -1.102356640834202, 0.0)\n",
      "442 ) auc_roc 0.6484059051641766 (1, -0.5717407891305454, -11.512925464970229, 0.2)\n",
      "443 ) auc_roc 0.6511984652324557 (1, -0.632364303855148, -2.3062591850324683, 0.2)\n",
      "444 ) auc_roc 0.6557088578228527 (1, -0.4605170185988091, -0.632364303855148, 0.2)\n",
      "445 ) auc_roc 0.6510650192017433 (1, -2.3062591850324683, -1.0070491985373635, 0.2)\n",
      "446 ) auc_roc 0.5753864182475983 (1, -2.0186022049167422, -11.512925464970229, 0.0)\n",
      "447 ) auc_roc 0.6509694508653381 (1, -11.512925464970229, -0.9200401028096967, 0.2)\n",
      "448 ) auc_roc 0.6907244635994026 (1, -2.7116741103573196, -1.102356640834202, 0.4)\n",
      "449 ) auc_roc 0.6791874506986428 (1, -11.512925464970229, -1.6131621897742732, 0.4)\n",
      "450 ) auc_roc 0.5895896212387075 (1, -0.5717407891305454, -0.9200401028096967, 0.0)\n",
      "451 ) auc_roc 0.7224075648565191 (1, -1.6131621897742732, -1.102356640834202, 0.6000000000000001)\n",
      "452 ) auc_roc 0.5913217057636065 (1, -1.0070491985373635, -0.5717407891305454, 0.0)\n",
      "453 ) auc_roc 0.6765989806421506 (1, -11.512925464970229, -3.404670757675428, 0.4)\n",
      "454 ) auc_roc 0.7546094490045859 (1, -0.632364303855148, -2.7116741103573196, 0.8)\n",
      "455 ) auc_roc 0.7571872800076003 (1, -0.5717407891305454, -1.3254926640414657, 0.8)\n",
      "456 ) auc_roc 0.7310092146190785 (1, -1.0070491985373635, -1.0070491985373635, 0.6000000000000001)\n",
      "457 ) auc_roc 0.7577059796508705 (1, -0.6969015702901241, -0.4605170185988091, 1.0)\n",
      "458 ) auc_roc 0.7271616400552139 (1, -1.3254926640414657, -0.5717407891305454, 0.6000000000000001)\n",
      "459 ) auc_roc 0.7626593164959241 (1, -0.5717407891305454, -1.3254926640414657, 1.0)\n",
      "460 ) auc_roc 0.7453404025931053 (1, -1.102356640834202, -0.5717407891305454, 1.0)\n",
      "461 ) auc_roc 0.6498583773821782 (1, -2.7116741103573196, -1.3254926640414657, 0.2)\n",
      "462 ) auc_roc 0.7001969506907676 (1, -0.8399993254388091, -1.7954737093063908, 0.4)\n",
      "463 ) auc_roc 0.7433845483049157 (1, -1.102356640834202, -1.2077138106597225, 0.8)\n",
      "464 ) auc_roc 0.5915028360653057 (1, -1.6131621897742732, -0.5145833593732545, 0.0)\n",
      "465 ) auc_roc 0.7610183215822575 (1, -0.4605170185988091, -0.6969015702901241, 0.8)\n",
      "466 ) auc_roc 0.7227948330629282 (1, -1.6131621897742732, -0.9200401028096967, 0.6000000000000001)\n",
      "467 ) auc_roc 0.69130300167491 (1, -11.512925464970229, -0.7658930078331804, 0.8)\n",
      "468 ) auc_roc 0.7478979711108574 (1, -0.9200401028096967, -0.632364303855148, 0.8)\n",
      "469 ) auc_roc 0.7453404025931053 (1, -1.102356640834202, -0.8399993254388091, 1.0)\n",
      "470 ) auc_roc 0.5890472126562314 (1, -1.6131621897742732, -1.0070491985373635, 0.0)\n",
      "471 ) auc_roc 0.7330262060033099 (1, -1.6131621897742732, -3.404670757675428, 1.0)\n",
      "472 ) auc_roc 0.6901978387770157 (1, -11.512925464970229, -2.7116741103573196, 0.8)\n",
      "473 ) auc_roc 0.745990134084374 (1, -0.9200401028096967, -11.512925464970229, 0.8)\n",
      "474 ) auc_roc 0.7577059796508705 (1, -0.6969015702901241, -1.0070491985373635, 1.0)\n"
     ]
    },
    {
     "name": "stdout",
     "output_type": "stream",
     "text": [
      "475 ) auc_roc 0.6533269585590054 (1, -1.2077138106597225, -0.6969015702901241, 0.2)\n",
      "476 ) auc_roc 0.5831480489724123 (1, -0.9200401028096967, -2.0186022049167422, 0.0)\n",
      "477 ) auc_roc 0.7477129614672796 (1, -0.9200401028096967, -0.9200401028096967, 0.8)\n",
      "478 ) auc_roc 0.7426430612209765 (1, -1.2077138106597225, -1.3254926640414657, 1.0)\n",
      "479 ) auc_roc 0.764974168078464 (1, -0.5145833593732545, -1.0070491985373635, 1.0)\n",
      "480 ) auc_roc 0.7503278876364109 (1, -0.9200401028096967, -0.9200401028096967, 1.0)\n",
      "481 ) auc_roc 0.7537570094130149 (1, -0.6969015702901241, -0.6969015702901241, 0.8)\n",
      "482 ) auc_roc 0.6550942568524578 (1, -0.4605170185988091, -0.9200401028096967, 0.2)\n",
      "483 ) auc_roc 0.7042994296501662 (1, -0.5717407891305454, -1.3254926640414657, 0.4)\n",
      "484 ) auc_roc 0.737463623677598 (1, -0.5145833593732545, -3.404670757675428, 0.6000000000000001)\n",
      "485 ) auc_roc 0.5915028360653057 (1, -0.4605170185988091, -0.5145833593732545, 0.0)\n",
      "486 ) auc_roc 0.709639968103485 (1, -2.7116741103573196, -2.0186022049167422, 0.6000000000000001)\n",
      "487 ) auc_roc 0.7205484110731801 (1, -1.7954737093063908, -0.9200401028096967, 0.6000000000000001)\n",
      "488 ) auc_roc 0.7425306935027883 (1, -1.102356640834202, -2.7116741103573196, 0.8)\n",
      "489 ) auc_roc 0.7177310764953939 (1, -2.7116741103573196, -1.102356640834202, 0.8)\n",
      "490 ) auc_roc 0.7011678017820797 (1, -1.102356640834202, -0.4605170185988091, 0.4)\n",
      "491 ) auc_roc 0.6509956738844737 (1, -2.0186022049167422, -1.102356640834202, 0.2)\n",
      "492 ) auc_roc 0.7577059796508705 (1, -0.6969015702901241, -2.3062591850324683, 1.0)\n",
      "493 ) auc_roc 0.7361064700529625 (1, -1.4590186794814382, -1.3254926640414657, 0.8)\n",
      "494 ) auc_roc 0.7337521757197353 (1, -1.6131621897742732, -0.6969015702901241, 0.8)\n",
      "495 ) auc_roc 0.6999822882236466 (1, -1.102356640834202, -1.0070491985373635, 0.4)\n",
      "496 ) auc_roc 0.6948888288839614 (1, -1.2077138106597225, -3.404670757675428, 0.4)\n",
      "497 ) auc_roc 0.7451525292293425 (1, -1.0070491985373635, -1.6131621897742732, 0.8)\n",
      "498 ) auc_roc 0.5913217057636065 (1, -1.4590186794814382, -0.5717407891305454, 0.0)\n",
      "499 ) auc_roc 0.7010193212203965 (1, -1.102356640834202, -0.5717407891305454, 0.4)\n",
      "500 ) auc_roc 0.5877423219249713 (1, -0.8399993254388091, -1.2077138106597225, 0.0)\n",
      "501 ) auc_roc 0.5915028360653057 (1, -0.8399993254388091, -0.5145833593732545, 0.0)\n",
      "502 ) auc_roc 0.7032640616070125 (1, -0.8399993254388091, -0.4605170185988091, 0.4)\n",
      "503 ) auc_roc 0.740942877206975 (1, -0.4605170185988091, -1.2077138106597225, 0.6000000000000001)\n",
      "504 ) auc_roc 0.7426430612209765 (1, -1.2077138106597225, -0.7658930078331804, 1.0)\n",
      "505 ) auc_roc 0.7498543082355897 (1, -0.8399993254388091, -0.632364303855148, 0.8)\n",
      "506 ) auc_roc 0.6900906823635828 (1, -2.7116741103573196, -1.3254926640414657, 0.4)\n",
      "507 ) auc_roc 0.5792727529311757 (1, -0.4605170185988091, -3.404670757675428, 0.0)\n",
      "508 ) auc_roc 0.7365415890257181 (1, -1.4590186794814382, -2.7116741103573196, 1.0)\n",
      "509 ) auc_roc 0.7478589112994973 (1, -1.0070491985373635, -0.5717407891305454, 1.0)\n",
      "510 ) auc_roc 0.7402639757287061 (1, -0.4605170185988091, -1.6131621897742732, 0.6000000000000001)\n",
      "511 ) auc_roc 0.6514183889529397 (1, -1.102356640834202, -1.4590186794814382, 0.2)\n",
      "512 ) auc_roc 0.7408981565533889 (1, -0.5145833593732545, -0.4605170185988091, 0.6000000000000001)\n",
      "513 ) auc_roc 0.752474928546019 (1, -0.6969015702901241, -3.404670757675428, 0.8)\n",
      "514 ) auc_roc 0.730426181168862 (1, -1.7954737093063908, -0.8399993254388091, 0.8)\n",
      "515 ) auc_roc 0.6817513793391313 (1, -11.512925464970229, -1.6131621897742732, 1.0)\n",
      "516 ) auc_roc 0.5895896212387075 (1, -1.2077138106597225, -0.9200401028096967, 0.0)\n",
      "517 ) auc_roc 0.7527756857635846 (1, -0.8399993254388091, -1.102356640834202, 1.0)\n",
      "518 ) auc_roc 0.5877423219249713 (1, -0.5717407891305454, -1.2077138106597225, 0.0)\n",
      "519 ) auc_roc 0.6898635826931003 (1, -11.512925464970229, -11.512925464970229, 0.8)\n",
      "520 ) auc_roc 0.7527756857635846 (1, -0.8399993254388091, -0.5145833593732545, 1.0)\n",
      "521 ) auc_roc 0.7330783689994698 (1, -1.6131621897742732, -1.4590186794814382, 0.8)\n",
      "522 ) auc_roc 0.6525237682948015 (1, -2.0186022049167422, -0.5145833593732545, 0.2)\n",
      "523 ) auc_roc 0.7391828547607368 (1, -0.5145833593732545, -1.6131621897742732, 0.6000000000000001)\n",
      "524 ) auc_roc 0.7330262060033099 (1, -1.6131621897742732, -11.512925464970229, 1.0)\n",
      "525 ) auc_roc 0.7671169633564026 (1, -0.4605170185988091, -1.6131621897742732, 1.0)\n",
      "526 ) auc_roc 0.6994731121149449 (1, -1.3254926640414657, -0.5145833593732545, 0.4)\n",
      "527 ) auc_roc 0.7626593164959241 (1, -0.5717407891305454, -1.0070491985373635, 1.0)\n",
      "528 ) auc_roc 0.6979131837918632 (1, -1.102356640834202, -1.7954737093063908, 0.4)\n",
      "529 ) auc_roc 0.6524205744709268 (1, -0.7658930078331804, -1.4590186794814382, 0.2)\n",
      "530 ) auc_roc 0.7063661698478435 (1, -3.404670757675428, -2.7116741103573196, 1.0)\n",
      "531 ) auc_roc 0.7210755686807178 (1, -1.7954737093063908, -0.632364303855148, 0.6000000000000001)\n",
      "532 ) auc_roc 0.7393306360419098 (1, -1.3254926640414657, -0.5145833593732545, 0.8)\n",
      "533 ) auc_roc 0.6920932718992096 (1, -1.7954737093063908, -2.3062591850324683, 0.4)\n",
      "534 ) auc_roc 0.7671169633564026 (1, -0.4605170185988091, -0.5145833593732545, 1.0)\n",
      "535 ) auc_roc 0.6500118528046492 (1, -1.6131621897742732, -1.6131621897742732, 0.2)\n",
      "536 ) auc_roc 0.5869578124401136 (1, -0.6969015702901241, -1.3254926640414657, 0.0)\n",
      "537 ) auc_roc 0.6481836505086582 (1, -1.4590186794814382, -2.7116741103573196, 0.2)\n",
      "538 ) auc_roc 0.6492269770300005 (1, -11.512925464970229, -1.4590186794814382, 0.2)\n",
      "539 ) auc_roc 0.6898218589559868 (1, -11.512925464970229, -2.7116741103573196, 0.6000000000000001)\n",
      "540 ) auc_roc 0.7052451232926442 (1, -0.5717407891305454, -0.9200401028096967, 0.4)\n",
      "541 ) auc_roc 0.7050328750082374 (1, -0.632364303855148, -0.6969015702901241, 0.4)\n",
      "542 ) auc_roc 0.7184535831083398 (1, -2.0186022049167422, -0.6969015702901241, 0.6000000000000001)\n",
      "543 ) auc_roc 0.7608470311563098 (1, -0.4605170185988091, -1.0070491985373635, 0.8)\n",
      "544 ) auc_roc 0.7381410932957747 (1, -0.632364303855148, -0.7658930078331804, 0.6000000000000001)\n",
      "545 ) auc_roc 0.5895896212387075 (1, -0.7658930078331804, -0.9200401028096967, 0.0)\n",
      "546 ) auc_roc 0.719931046279816 (1, -2.3062591850324683, -2.3062591850324683, 1.0)\n",
      "547 ) auc_roc 0.5753864182475983 (1, -0.4605170185988091, -11.512925464970229, 0.0)\n",
      "548 ) auc_roc 0.6997658276066422 (1, -0.8399993254388091, -2.0186022049167422, 0.4)\n",
      "549 ) auc_roc 0.6555275110771861 (1, -0.5145833593732545, -0.632364303855148, 0.2)\n",
      "550 ) auc_roc 0.7140609193867098 (1, -2.7116741103573196, -0.9200401028096967, 1.0)\n",
      "551 ) auc_roc 0.7626593164959241 (1, -0.5717407891305454, -1.6131621897742732, 1.0)\n",
      "552 ) auc_roc 0.6926845468697257 (1, -11.512925464970229, -0.8399993254388091, 0.6000000000000001)\n",
      "553 ) auc_roc 0.7291715220875907 (1, -1.7954737093063908, -2.0186022049167422, 1.0)\n",
      "554 ) auc_roc 0.7478589112994973 (1, -1.0070491985373635, -2.0186022049167422, 1.0)\n",
      "555 ) auc_roc 0.7526417235972575 (1, -0.6969015702901241, -2.7116741103573196, 0.8)\n",
      "556 ) auc_roc 0.5753864182475983 (1, -1.6131621897742732, -11.512925464970229, 0.0)\n",
      "557 ) auc_roc 0.7263942962419301 (1, -2.0186022049167422, -1.3254926640414657, 0.8)\n",
      "558 ) auc_roc 0.5807225612234239 (1, -1.4590186794814382, -2.7116741103573196, 0.0)\n",
      "559 ) auc_roc 0.7572628689008546 (1, -0.5717407891305454, -1.2077138106597225, 0.8)\n",
      "560 ) auc_roc 0.733863061629223 (1, -1.6131621897742732, -0.5145833593732545, 0.8)\n",
      "561 ) auc_roc 0.6816038644505334 (1, -11.512925464970229, -0.7658930078331804, 0.4)\n",
      "562 ) auc_roc 0.5910693154480022 (1, -1.4590186794814382, -0.632364303855148, 0.0)\n",
      "563 ) auc_roc 0.5904481712099754 (1, -1.2077138106597225, -0.7658930078331804, 0.0)\n",
      "564 ) auc_roc 0.7385741810251432 (1, -0.4605170185988091, -3.404670757675428, 0.6000000000000001)\n",
      "565 ) auc_roc 0.7527756857635846 (1, -0.8399993254388091, -2.3062591850324683, 1.0)\n",
      "566 ) auc_roc 0.7426430612209765 (1, -1.2077138106597225, -0.4605170185988091, 1.0)\n",
      "567 ) auc_roc 0.7426430612209765 (1, -1.2077138106597225, -0.5145833593732545, 1.0)\n",
      "568 ) auc_roc 0.7317431927623003 (1, -0.9200401028096967, -1.3254926640414657, 0.6000000000000001)\n",
      "569 ) auc_roc 0.7453604486344001 (1, -1.0070491985373635, -1.3254926640414657, 0.8)\n",
      "570 ) auc_roc 0.764974168078464 (1, -0.5145833593732545, -0.6969015702901241, 1.0)\n"
     ]
    },
    {
     "name": "stdout",
     "output_type": "stream",
     "text": [
      "571 ) auc_roc 0.6557000335687944 (1, -0.5145833593732545, -0.5145833593732545, 0.2)\n",
      "572 ) auc_roc 0.652594029336549 (1, -0.632364303855148, -1.6131621897742732, 0.2)\n",
      "573 ) auc_roc 0.5842145016992016 (1, -0.5145833593732545, -1.7954737093063908, 0.0)\n",
      "574 ) auc_roc 0.7162116231942288 (1, -2.0186022049167422, -1.7954737093063908, 0.6000000000000001)\n",
      "575 ) auc_roc 0.6495044082476873 (1, -2.0186022049167422, -1.6131621897742732, 0.2)\n",
      "576 ) auc_roc 0.5890472126562314 (1, -2.7116741103573196, -1.0070491985373635, 0.0)\n",
      "577 ) auc_roc 0.7045466253105512 (1, -3.404670757675428, -2.7116741103573196, 0.6000000000000001)\n",
      "578 ) auc_roc 0.7464770997121063 (1, -0.9200401028096967, -3.404670757675428, 0.8)\n",
      "579 ) auc_roc 0.7626593164959241 (1, -0.5717407891305454, -2.0186022049167422, 1.0)\n",
      "580 ) auc_roc 0.7058008848029595 (1, -0.4605170185988091, -1.2077138106597225, 0.4)\n",
      "581 ) auc_roc 0.5852081127061699 (1, -0.8399993254388091, -1.6131621897742732, 0.0)\n",
      "582 ) auc_roc 0.7547208344001524 (1, -0.632364303855148, -2.3062591850324683, 0.8)\n",
      "583 ) auc_roc 0.5852081127061699 (1, -0.4605170185988091, -1.6131621897742732, 0.0)\n",
      "584 ) auc_roc 0.7609503248774002 (1, -0.4605170185988091, -0.8399993254388091, 0.8)\n",
      "585 ) auc_roc 0.7009680739487143 (1, -1.0070491985373635, -0.9200401028096967, 0.4)\n",
      "586 ) auc_roc 0.6532417129348946 (1, -1.4590186794814382, -0.5145833593732545, 0.2)\n",
      "587 ) auc_roc 0.6510147043040748 (1, -1.102356640834202, -1.6131621897742732, 0.2)\n",
      "588 ) auc_roc 0.5890472126562314 (1, -0.8399993254388091, -1.0070491985373635, 0.0)\n",
      "589 ) auc_roc 0.6809356186752784 (1, -11.512925464970229, -1.0070491985373635, 0.4)\n",
      "590 ) auc_roc 0.7365415890257181 (1, -1.4590186794814382, -1.0070491985373635, 1.0)\n",
      "591 ) auc_roc 0.5792727529311757 (1, -1.2077138106597225, -3.404670757675428, 0.0)\n",
      "592 ) auc_roc 0.7333983397815321 (1, -1.6131621897742732, -1.102356640834202, 0.8)\n",
      "593 ) auc_roc 0.6505869277766773 (1, -2.7116741103573196, -1.102356640834202, 0.2)\n",
      "594 ) auc_roc 0.7594377644841223 (1, -0.5145833593732545, -0.5145833593732545, 0.8)\n",
      "595 ) auc_roc 0.7671169633564026 (1, -0.4605170185988091, -1.7954737093063908, 1.0)\n",
      "596 ) auc_roc 0.7503278876364109 (1, -0.9200401028096967, -0.632364303855148, 1.0)\n",
      "597 ) auc_roc 0.739738233331725 (1, -1.3254926640414657, -1.0070491985373635, 1.0)\n",
      "598 ) auc_roc 0.7527756857635846 (1, -0.8399993254388091, -11.512925464970229, 1.0)\n",
      "599 ) auc_roc 0.6468630925640608 (1, -2.7116741103573196, -2.7116741103573196, 0.2)\n",
      "600 ) auc_roc 0.6532893472572736 (1, -0.4605170185988091, -1.6131621897742732, 0.2)\n",
      "601 ) auc_roc 0.7527756857635846 (1, -0.8399993254388091, -0.632364303855148, 1.0)\n",
      "602 ) auc_roc 0.5861240869269609 (1, -1.4590186794814382, -1.4590186794814382, 0.0)\n",
      "603 ) auc_roc 0.5852081127061699 (1, -1.0070491985373635, -1.6131621897742732, 0.0)\n",
      "604 ) auc_roc 0.5895896212387075 (1, -1.102356640834202, -0.9200401028096967, 0.0)\n",
      "605 ) auc_roc 0.7269630277407575 (1, -1.102356640834202, -2.7116741103573196, 0.6000000000000001)\n",
      "606 ) auc_roc 0.7607801000217543 (1, -0.4605170185988091, -1.102356640834202, 0.8)\n",
      "607 ) auc_roc 0.6463599602369122 (1, -2.3062591850324683, -3.404670757675428, 0.2)\n",
      "608 ) auc_roc 0.7410977678400026 (1, -1.2077138106597225, -1.3254926640414657, 0.8)\n",
      "609 ) auc_roc 0.7352229624272919 (1, -0.7658930078331804, -0.9200401028096967, 0.6000000000000001)\n",
      "610 ) auc_roc 0.7206845709782538 (1, -1.6131621897742732, -2.0186022049167422, 0.6000000000000001)\n",
      "611 ) auc_roc 0.5907876885472536 (1, -0.6969015702901241, -0.6969015702901241, 0.0)\n",
      "612 ) auc_roc 0.5831480489724123 (1, -0.5717407891305454, -2.0186022049167422, 0.0)\n",
      "613 ) auc_roc 0.5852081127061699 (1, -1.6131621897742732, -1.6131621897742732, 0.0)\n",
      "614 ) auc_roc 0.719931046279816 (1, -2.3062591850324683, -1.7954737093063908, 1.0)\n",
      "615 ) auc_roc 0.6513328436371817 (1, -2.3062591850324683, -0.9200401028096967, 0.2)\n",
      "616 ) auc_roc 0.6476567925927681 (1, -2.3062591850324683, -2.3062591850324683, 0.2)\n",
      "617 ) auc_roc 0.5807225612234239 (1, -2.7116741103573196, -2.7116741103573196, 0.0)\n",
      "618 ) auc_roc 0.6520863683356195 (1, -3.404670757675428, -0.4605170185988091, 0.2)\n",
      "619 ) auc_roc 0.6484764991966432 (1, -2.0186022049167422, -2.0186022049167422, 0.2)\n",
      "620 ) auc_roc 0.6817513793391313 (1, -11.512925464970229, -0.5145833593732545, 1.0)\n",
      "621 ) auc_roc 0.6878749454686074 (1, -3.404670757675428, -1.3254926640414657, 0.4)\n",
      "622 ) auc_roc 0.7248623224897236 (1, -2.0186022049167422, -1.2077138106597225, 1.0)\n",
      "623 ) auc_roc 0.740196378612712 (1, -0.5145833593732545, -1.0070491985373635, 0.6000000000000001)\n",
      "624 ) auc_roc 0.5842145016992016 (1, -0.9200401028096967, -1.7954737093063908, 0.0)\n",
      "625 ) auc_roc 0.7223316429725456 (1, -2.3062591850324683, -1.3254926640414657, 0.8)\n",
      "626 ) auc_roc 0.7403232980253285 (1, -1.2077138106597225, -2.7116741103573196, 0.8)\n",
      "627 ) auc_roc 0.7444434254928437 (1, -1.0070491985373635, -3.404670757675428, 0.8)\n",
      "628 ) auc_roc 0.5753864182475983 (1, -1.3254926640414657, -11.512925464970229, 0.0)\n",
      "629 ) auc_roc 0.7330262060033099 (1, -1.6131621897742732, -1.7954737093063908, 1.0)\n",
      "630 ) auc_roc 0.7007344643096718 (1, -0.4605170185988091, -11.512925464970229, 0.4)\n",
      "631 ) auc_roc 0.6556240783857489 (1, -0.5145833593732545, -0.5717407891305454, 0.2)\n",
      "632 ) auc_roc 0.5916417764428846 (1, -11.512925464970229, -0.4605170185988091, 0.0)\n",
      "633 ) auc_roc 0.6525245674725275 (1, -0.8399993254388091, -1.3254926640414657, 0.2)\n",
      "634 ) auc_roc 0.7111641332233266 (1, -2.7116741103573196, -1.2077138106597225, 0.6000000000000001)\n",
      "635 ) auc_roc 0.7438335862897331 (1, -1.102356640834202, -0.632364303855148, 0.8)\n",
      "636 ) auc_roc 0.6965492538060923 (1, -1.4590186794814382, -1.3254926640414657, 0.4)\n",
      "637 ) auc_roc 0.7373616619193846 (1, -0.632364303855148, -1.2077138106597225, 0.6000000000000001)\n",
      "638 ) auc_roc 0.6971916928006108 (1, -1.0070491985373635, -2.7116741103573196, 0.4)\n",
      "639 ) auc_roc 0.7416080428180778 (1, -1.2077138106597225, -0.6969015702901241, 0.8)\n",
      "640 ) auc_roc 0.6519350906518949 (1, -3.404670757675428, -0.5717407891305454, 0.2)\n",
      "641 ) auc_roc 0.7227886394355515 (1, -2.3062591850324683, -0.8399993254388091, 0.8)\n",
      "642 ) auc_roc 0.6533379639022743 (1, -0.632364303855148, -1.3254926640414657, 0.2)\n",
      "643 ) auc_roc 0.7474708106162902 (1, -0.9200401028096967, -1.2077138106597225, 0.8)\n",
      "644 ) auc_roc 0.5869578124401136 (1, -1.4590186794814382, -1.3254926640414657, 0.0)\n",
      "645 ) auc_roc 0.722605094951138 (1, -1.6131621897742732, -1.0070491985373635, 0.6000000000000001)\n",
      "646 ) auc_roc 0.7610591462444292 (1, -0.4605170185988091, -0.5717407891305454, 0.8)\n",
      "647 ) auc_roc 0.5877423219249713 (1, -0.9200401028096967, -1.2077138106597225, 0.0)\n",
      "648 ) auc_roc 0.6516040146293479 (1, -2.7116741103573196, -0.7658930078331804, 0.2)\n",
      "649 ) auc_roc 0.721355214286687 (1, -1.6131621897742732, -1.6131621897742732, 0.6000000000000001)\n",
      "650 ) auc_roc 0.6899840753848366 (1, -2.3062591850324683, -2.0186022049167422, 0.4)\n",
      "651 ) auc_roc 0.7344831069978766 (1, -0.8399993254388091, -0.5145833593732545, 0.6000000000000001)\n",
      "652 ) auc_roc 0.7271231463280764 (1, -1.2077138106597225, -1.4590186794814382, 0.6000000000000001)\n",
      "653 ) auc_roc 0.6811983150536414 (1, -11.512925464970229, -0.9200401028096967, 0.4)\n",
      "654 ) auc_roc 0.6522743748956699 (1, -0.9200401028096967, -1.3254926640414657, 0.2)\n",
      "655 ) auc_roc 0.7343653781291096 (1, -0.6969015702901241, -2.3062591850324683, 0.6000000000000001)\n",
      "656 ) auc_roc 0.6937841488226097 (1, -1.6131621897742732, -2.0186022049167422, 0.4)\n",
      "657 ) auc_roc 0.6484592336278536 (1, -3.404670757675428, -1.7954737093063908, 0.2)\n",
      "658 ) auc_roc 0.7527756857635846 (1, -0.8399993254388091, -2.7116741103573196, 1.0)\n",
      "659 ) auc_roc 0.6520354207555846 (1, -3.404670757675428, -0.5145833593732545, 0.2)\n",
      "660 ) auc_roc 0.7306773227692693 (1, -1.7954737093063908, -0.4605170185988091, 0.8)\n",
      "661 ) auc_roc 0.7365415890257181 (1, -1.4590186794814382, -1.3254926640414657, 1.0)\n",
      "662 ) auc_roc 0.7434765536406258 (1, -1.102356640834202, -1.102356640834202, 0.8)\n",
      "663 ) auc_roc 0.739111861139407 (1, -1.3254926640414657, -0.8399993254388091, 0.8)\n",
      "664 ) auc_roc 0.7478589112994973 (1, -1.0070491985373635, -1.0070491985373635, 1.0)\n",
      "665 ) auc_roc 0.7408306260355387 (1, -0.5145833593732545, -0.5717407891305454, 0.6000000000000001)\n",
      "666 ) auc_roc 0.6480735304778248 (1, -1.2077138106597225, -3.404670757675428, 0.2)\n"
     ]
    },
    {
     "name": "stdout",
     "output_type": "stream",
     "text": [
      "667 ) auc_roc 0.7295969010818102 (1, -1.7954737093063908, -1.7954737093063908, 0.8)\n",
      "668 ) auc_roc 0.6525678396164852 (1, -1.7954737093063908, -0.632364303855148, 0.2)\n",
      "669 ) auc_roc 0.5869578124401136 (1, -0.9200401028096967, -1.3254926640414657, 0.0)\n",
      "670 ) auc_roc 0.5907876885472536 (1, -0.5145833593732545, -0.6969015702901241, 0.0)\n",
      "671 ) auc_roc 0.5831480489724123 (1, -1.2077138106597225, -2.0186022049167422, 0.0)\n",
      "672 ) auc_roc 0.7606276235714406 (1, -0.4605170185988091, -1.3254926640414657, 0.8)\n",
      "673 ) auc_roc 0.7602066067556423 (1, -0.632364303855148, -1.0070491985373635, 1.0)\n",
      "674 ) auc_roc 0.7428131695298708 (1, -1.102356640834202, -2.0186022049167422, 0.8)\n",
      "675 ) auc_roc 0.5842145016992016 (1, -1.102356640834202, -1.7954737093063908, 0.0)\n",
      "676 ) auc_roc 0.7017375822016728 (1, -0.6969015702901241, -1.7954737093063908, 0.4)\n",
      "677 ) auc_roc 0.7226392597989263 (1, -2.3062591850324683, -1.0070491985373635, 0.8)\n",
      "678 ) auc_roc 0.739738233331725 (1, -1.3254926640414657, -11.512925464970229, 1.0)\n",
      "679 ) auc_roc 0.5877423219249713 (1, -1.3254926640414657, -1.2077138106597225, 0.0)\n",
      "680 ) auc_roc 0.6987419643928362 (1, -1.102356640834202, -1.4590186794814382, 0.4)\n",
      "681 ) auc_roc 0.5904481712099754 (1, -0.6969015702901241, -0.7658930078331804, 0.0)\n",
      "682 ) auc_roc 0.700605313859237 (1, -0.9200401028096967, -1.3254926640414657, 0.4)\n",
      "683 ) auc_roc 0.6937465708199501 (1, -1.102356640834202, -11.512925464970229, 0.4)\n",
      "684 ) auc_roc 0.7626593164959241 (1, -0.5717407891305454, -0.7658930078331804, 1.0)\n",
      "685 ) auc_roc 0.6547883715778169 (1, -0.7658930078331804, -0.5145833593732545, 0.2)\n",
      "686 ) auc_roc 0.5831480489724123 (1, -2.0186022049167422, -2.0186022049167422, 0.0)\n",
      "687 ) auc_roc 0.7268388388520385 (1, -2.0186022049167422, -0.8399993254388091, 0.8)\n",
      "688 ) auc_roc 0.7602066067556423 (1, -0.632364303855148, -0.632364303855148, 1.0)\n",
      "689 ) auc_roc 0.6817513793391313 (1, -11.512925464970229, -0.7658930078331804, 1.0)\n",
      "690 ) auc_roc 0.7180210781127299 (1, -2.7116741103573196, -0.7658930078331804, 0.8)\n",
      "691 ) auc_roc 0.6511550432426743 (1, -2.7116741103573196, -0.9200401028096967, 0.2)\n",
      "692 ) auc_roc 0.739738233331725 (1, -1.3254926640414657, -0.6969015702901241, 1.0)\n",
      "693 ) auc_roc 0.6949153515947442 (1, -2.0186022049167422, -0.6969015702901241, 0.4)\n",
      "694 ) auc_roc 0.6987521372593073 (1, -0.8399993254388091, -2.7116741103573196, 0.4)\n",
      "695 ) auc_roc 0.6817513793391313 (1, -11.512925464970229, -0.9200401028096967, 1.0)\n",
      "696 ) auc_roc 0.7453404025931053 (1, -1.102356640834202, -1.0070491985373635, 1.0)\n",
      "697 ) auc_roc 0.7370376619496201 (1, -0.5717407891305454, -2.3062591850324683, 0.6000000000000001)\n",
      "698 ) auc_roc 0.7211665084461265 (1, -1.7954737093063908, -0.5717407891305454, 0.6000000000000001)\n",
      "699 ) auc_roc 0.6500228581479183 (1, -11.512925464970229, -1.2077138106597225, 0.2)\n",
      "700 ) auc_roc 0.7288019856369782 (1, -1.2077138106597225, -0.5717407891305454, 0.6000000000000001)\n",
      "701 ) auc_roc 0.6482666650949505 (1, -11.512925464970229, -1.7954737093063908, 0.2)\n",
      "702 ) auc_roc 0.7553661371148559 (1, -0.632364303855148, -1.2077138106597225, 0.8)\n",
      "703 ) auc_roc 0.7176304467000569 (1, -2.7116741103573196, -1.2077138106597225, 0.8)\n",
      "704 ) auc_roc 0.6520335227084852 (1, -1.7954737093063908, -0.8399993254388091, 0.2)\n",
      "705 ) auc_roc 0.6885089597979306 (1, -3.404670757675428, -1.102356640834202, 0.4)\n",
      "706 ) auc_roc 0.6515036678761222 (1, -0.9200401028096967, -1.6131621897742732, 0.2)\n",
      "707 ) auc_roc 0.7439109400337993 (1, -1.102356640834202, -0.4605170185988091, 0.8)\n",
      "708 ) auc_roc 0.7503278876364109 (1, -0.9200401028096967, -1.0070491985373635, 1.0)\n",
      "709 ) auc_roc 0.5819880758021405 (1, -1.2077138106597225, -2.3062591850324683, 0.0)\n",
      "710 ) auc_roc 0.729190569156728 (1, -1.102356640834202, -1.2077138106597225, 0.6000000000000001)\n",
      "711 ) auc_roc 0.7602066067556423 (1, -0.632364303855148, -0.8399993254388091, 1.0)\n",
      "712 ) auc_roc 0.718065399177453 (1, -2.7116741103573196, -0.6969015702901241, 0.8)\n",
      "713 ) auc_roc 0.7365763865558727 (1, -1.4590186794814382, -0.7658930078331804, 0.8)\n",
      "714 ) auc_roc 0.6909201122964582 (1, -2.3062591850324683, -1.6131621897742732, 0.4)\n",
      "715 ) auc_roc 0.5890472126562314 (1, -1.3254926640414657, -1.0070491985373635, 0.0)\n",
      "716 ) auc_roc 0.6927409887966272 (1, -2.0186022049167422, -1.4590186794814382, 0.4)\n",
      "717 ) auc_roc 0.7453404025931053 (1, -1.102356640834202, -11.512925464970229, 1.0)\n",
      "718 ) auc_roc 0.5861240869269609 (1, -1.7954737093063908, -1.4590186794814382, 0.0)\n",
      "719 ) auc_roc 0.7115905278392396 (1, -2.7116741103573196, -1.0070491985373635, 0.6000000000000001)\n",
      "720 ) auc_roc 0.7602066067556423 (1, -0.632364303855148, -2.0186022049167422, 1.0)\n",
      "721 ) auc_roc 0.764974168078464 (1, -0.5145833593732545, -2.0186022049167422, 1.0)\n",
      "722 ) auc_roc 0.717115243459338 (1, -1.7954737093063908, -3.404670757675428, 0.6000000000000001)\n",
      "723 ) auc_roc 0.7248623224897236 (1, -2.0186022049167422, -1.3254926640414657, 1.0)\n",
      "724 ) auc_roc 0.7593403313996895 (1, -0.5145833593732545, -0.7658930078331804, 0.8)\n",
      "725 ) auc_roc 0.7218123772450526 (1, -2.3062591850324683, -2.0186022049167422, 0.8)\n",
      "726 ) auc_roc 0.6454872581600791 (1, -1.4590186794814382, -11.512925464970229, 0.2)\n",
      "727 ) auc_roc 0.6913895459628254 (1, -11.512925464970229, -0.632364303855148, 0.8)\n",
      "728 ) auc_roc 0.652418110339605 (1, -0.5717407891305454, -1.7954737093063908, 0.2)\n",
      "729 ) auc_roc 0.5819880758021405 (1, -1.102356640834202, -2.3062591850324683, 0.0)\n",
      "730 ) auc_roc 0.730478760403421 (1, -1.7954737093063908, -0.7658930078331804, 0.8)\n",
      "731 ) auc_roc 0.5753864182475983 (1, -0.9200401028096967, -11.512925464970229, 0.0)\n",
      "732 ) auc_roc 0.5884316127136788 (1, -0.7658930078331804, -1.102356640834202, 0.0)\n",
      "733 ) auc_roc 0.7604421144417841 (1, -0.4605170185988091, -1.6131621897742732, 0.8)\n",
      "734 ) auc_roc 0.6938470674189993 (1, -2.3062591850324683, -0.5145833593732545, 0.4)\n",
      "735 ) auc_roc 0.652099188478308 (1, -2.3062591850324683, -0.632364303855148, 0.2)\n",
      "736 ) auc_roc 0.5819880758021405 (1, -0.7658930078331804, -2.3062591850324683, 0.0)\n",
      "737 ) auc_roc 0.5807225612234239 (1, -0.8399993254388091, -2.7116741103573196, 0.0)\n",
      "738 ) auc_roc 0.6536620304701826 (1, -0.8399993254388091, -0.9200401028096967, 0.2)\n",
      "739 ) auc_roc 0.761073065256491 (1, -0.4605170185988091, -0.5145833593732545, 0.8)\n",
      "740 ) auc_roc 0.759437498091547 (1, -0.5145833593732545, -0.4605170185988091, 0.8)\n",
      "741 ) auc_roc 0.697199784475087 (1, -1.4590186794814382, -1.102356640834202, 0.4)\n",
      "742 ) auc_roc 0.5842145016992016 (1, -0.5717407891305454, -1.7954737093063908, 0.0)\n",
      "743 ) auc_roc 0.6914416923094495 (1, -11.512925464970229, -0.5145833593732545, 0.8)\n",
      "744 ) auc_roc 0.7436971599920842 (1, -1.102356640834202, -0.8399993254388091, 0.8)\n",
      "745 ) auc_roc 0.7426430612209765 (1, -1.2077138106597225, -0.632364303855148, 1.0)\n",
      "746 ) auc_roc 0.704072696269475 (1, -0.4605170185988091, -2.0186022049167422, 0.4)\n",
      "747 ) auc_roc 0.7080885476932784 (1, -3.404670757675428, -0.4605170185988091, 0.6000000000000001)\n",
      "748 ) auc_roc 0.7176374228556238 (1, -2.0186022049167422, -1.102356640834202, 0.6000000000000001)\n",
      "749 ) auc_roc 0.7369070962886286 (1, -0.632364303855148, -1.4590186794814382, 0.6000000000000001)\n",
      "750 ) auc_roc 0.6475239292958141 (1, -1.4590186794814382, -3.404670757675428, 0.2)\n",
      "751 ) auc_roc 0.6964781935866188 (1, -1.7954737093063908, -0.5145833593732545, 0.4)\n",
      "752 ) auc_roc 0.6937634534494127 (1, -2.3062591850324683, -0.5717407891305454, 0.4)\n",
      "753 ) auc_roc 0.6506805481173754 (1, -1.4590186794814382, -1.4590186794814382, 0.2)\n",
      "754 ) auc_roc 0.730436786923268 (1, -1.102356640834202, -0.4605170185988091, 0.6000000000000001)\n",
      "755 ) auc_roc 0.5807225612234239 (1, -1.3254926640414657, -2.7116741103573196, 0.0)\n",
      "756 ) auc_roc 0.7063661698478435 (1, -3.404670757675428, -11.512925464970229, 1.0)\n",
      "757 ) auc_roc 0.6503146412656019 (1, -2.0186022049167422, -1.3254926640414657, 0.2)\n",
      "758 ) auc_roc 0.5877423219249713 (1, -0.6969015702901241, -1.2077138106597225, 0.0)\n",
      "759 ) auc_roc 0.7567753704879716 (1, -0.5717407891305454, -2.0186022049167422, 0.8)\n",
      "760 ) auc_roc 0.5916417764428846 (1, -0.5145833593732545, -0.4605170185988091, 0.0)\n",
      "761 ) auc_roc 0.7426430612209765 (1, -1.2077138106597225, -3.404670757675428, 1.0)\n",
      "762 ) auc_roc 0.5792727529311757 (1, -2.0186022049167422, -3.404670757675428, 0.0)\n",
      "763 ) auc_roc 0.7291715220875907 (1, -1.7954737093063908, -3.404670757675428, 1.0)\n"
     ]
    },
    {
     "name": "stdout",
     "output_type": "stream",
     "text": [
      "764 ) auc_roc 0.7025069572583436 (1, -0.9200401028096967, -0.5145833593732545, 0.4)\n",
      "765 ) auc_roc 0.5819880758021405 (1, -3.404670757675428, -2.3062591850324683, 0.0)\n",
      "766 ) auc_roc 0.5869578124401136 (1, -0.5145833593732545, -1.3254926640414657, 0.0)\n",
      "767 ) auc_roc 0.7552434633339091 (1, -0.7658930078331804, -0.6969015702901241, 1.0)\n",
      "768 ) auc_roc 0.7024218781295924 (1, -0.9200401028096967, -0.5717407891305454, 0.4)\n",
      "769 ) auc_roc 0.649281387713515 (1, -1.7954737093063908, -1.7954737093063908, 0.2)\n",
      "770 ) auc_roc 0.5895896212387075 (1, -0.4605170185988091, -0.9200401028096967, 0.0)\n",
      "771 ) auc_roc 0.690787831733263 (1, -11.512925464970229, -1.4590186794814382, 0.8)\n",
      "772 ) auc_roc 0.7610783931079979 (1, -0.4605170185988091, -0.4605170185988091, 0.8)\n",
      "773 ) auc_roc 0.7503278876364109 (1, -0.9200401028096967, -1.3254926640414657, 1.0)\n",
      "774 ) auc_roc 0.7157824314562746 (1, -2.3062591850324683, -0.5717407891305454, 0.6000000000000001)\n",
      "775 ) auc_roc 0.7049619479850515 (1, -0.5145833593732545, -1.3254926640414657, 0.4)\n",
      "776 ) auc_roc 0.7426430612209765 (1, -1.2077138106597225, -1.6131621897742732, 1.0)\n",
      "777 ) auc_roc 0.6978121877067353 (1, -1.3254926640414657, -1.2077138106597225, 0.4)\n",
      "778 ) auc_roc 0.5877423219249713 (1, -2.7116741103573196, -1.2077138106597225, 0.0)\n",
      "779 ) auc_roc 0.5852081127061699 (1, -11.512925464970229, -1.6131621897742732, 0.0)\n",
      "780 ) auc_roc 0.6955494824708192 (1, -1.2077138106597225, -2.7116741103573196, 0.4)\n",
      "781 ) auc_roc 0.7231009181320007 (1, -1.6131621897742732, -0.7658930078331804, 0.6000000000000001)\n",
      "782 ) auc_roc 0.5819880758021405 (1, -0.5145833593732545, -2.3062591850324683, 0.0)\n",
      "783 ) auc_roc 0.5831480489724123 (1, -0.6969015702901241, -2.0186022049167422, 0.0)\n",
      "784 ) auc_roc 0.7671169633564026 (1, -0.4605170185988091, -2.0186022049167422, 1.0)\n",
      "785 ) auc_roc 0.7330262060033099 (1, -1.6131621897742732, -1.4590186794814382, 1.0)\n",
      "786 ) auc_roc 0.6500614850713434 (1, -2.3062591850324683, -1.3254926640414657, 0.2)\n",
      "787 ) auc_roc 0.7671169633564026 (1, -0.4605170185988091, -1.2077138106597225, 1.0)\n",
      "788 ) auc_roc 0.7393657998618556 (1, -0.4605170185988091, -2.3062591850324683, 0.6000000000000001)\n",
      "789 ) auc_roc 0.758485277830973 (1, -0.5145833593732545, -2.3062591850324683, 0.8)\n",
      "790 ) auc_roc 0.7527756857635846 (1, -0.8399993254388091, -2.0186022049167422, 1.0)\n",
      "791 ) auc_roc 0.6542369555963868 (1, -0.9200401028096967, -0.5717407891305454, 0.2)\n",
      "792 ) auc_roc 0.5904481712099754 (1, -0.9200401028096967, -0.7658930078331804, 0.0)\n",
      "793 ) auc_roc 0.7173933406584632 (1, -2.0186022049167422, -1.2077138106597225, 0.6000000000000001)\n",
      "794 ) auc_roc 0.6519958614581457 (1, -1.3254926640414657, -1.102356640834202, 0.2)\n",
      "795 ) auc_roc 0.7484571124769726 (1, -0.8399993254388091, -3.404670757675428, 0.8)\n",
      "796 ) auc_roc 0.649528133836429 (1, -1.102356640834202, -2.3062591850324683, 0.2)\n",
      "797 ) auc_roc 0.7552434633339091 (1, -0.7658930078331804, -0.7658930078331804, 1.0)\n",
      "798 ) auc_roc 0.7494371041635262 (1, -0.8399993254388091, -1.2077138106597225, 0.8)\n",
      "799 ) auc_roc 0.6466285672005407 (1, -2.0186022049167422, -3.404670757675428, 0.2)\n",
      "800 ) auc_roc 0.5907876885472536 (1, -0.5717407891305454, -0.6969015702901241, 0.0)\n",
      "801 ) auc_roc 0.5831480489724123 (1, -11.512925464970229, -2.0186022049167422, 0.0)\n",
      "802 ) auc_roc 0.6913509856375442 (1, -11.512925464970229, -0.6969015702901241, 0.8)\n",
      "803 ) auc_roc 0.6511342979208693 (1, -0.7658930078331804, -2.0186022049167422, 0.2)\n",
      "804 ) auc_roc 0.7021862039480913 (1, -0.8399993254388091, -1.0070491985373635, 0.4)\n",
      "805 ) auc_roc 0.7371163143574909 (1, -0.6969015702901241, -0.5145833593732545, 0.6000000000000001)\n",
      "806 ) auc_roc 0.719931046279816 (1, -2.3062591850324683, -0.9200401028096967, 1.0)\n",
      "807 ) auc_roc 0.6510667174544112 (1, -1.4590186794814382, -1.3254926640414657, 0.2)\n",
      "808 ) auc_roc 0.7000936902687491 (1, -0.5145833593732545, -11.512925464970229, 0.4)\n",
      "809 ) auc_roc 0.5884316127136788 (1, -0.4605170185988091, -1.102356640834202, 0.0)\n",
      "810 ) auc_roc 0.5831480489724123 (1, -0.4605170185988091, -2.0186022049167422, 0.0)\n",
      "811 ) auc_roc 0.7012329847153597 (1, -0.5717407891305454, -3.404670757675428, 0.4)\n",
      "812 ) auc_roc 0.6461477286020413 (1, -2.7116741103573196, -3.404670757675428, 0.2)\n",
      "813 ) auc_roc 0.7055837415549807 (1, -0.5717407891305454, -0.7658930078331804, 0.4)\n",
      "814 ) auc_roc 0.5877423219249713 (1, -3.404670757675428, -1.2077138106597225, 0.0)\n",
      "815 ) auc_roc 0.7330262060033099 (1, -1.6131621897742732, -1.102356640834202, 1.0)\n",
      "816 ) auc_roc 0.5807225612234239 (1, -2.3062591850324683, -2.7116741103573196, 0.0)\n",
      "817 ) auc_roc 0.7478220159278118 (1, -0.9200401028096967, -0.7658930078331804, 0.8)\n",
      "818 ) auc_roc 0.7602066067556423 (1, -0.632364303855148, -1.4590186794814382, 1.0)\n",
      "819 ) auc_roc 0.7008843933809836 (1, -1.102356640834202, -0.632364303855148, 0.4)\n",
      "820 ) auc_roc 0.7426430612209765 (1, -1.2077138106597225, -0.9200401028096967, 1.0)\n",
      "821 ) auc_roc 0.7018034810649989 (1, -1.0070491985373635, -0.5145833593732545, 0.4)\n",
      "822 ) auc_roc 0.7530892964229103 (1, -0.6969015702901241, -1.6131621897742732, 0.8)\n"
     ]
    },
    {
     "ename": "KeyboardInterrupt",
     "evalue": "",
     "output_type": "error",
     "traceback": [
      "\u001b[0;31m---------------------------------------------------------------------------\u001b[0m",
      "\u001b[0;31mKeyboardInterrupt\u001b[0m                         Traceback (most recent call last)",
      "\u001b[0;32m<ipython-input-25-3dc6d5193082>\u001b[0m in \u001b[0;36m<module>\u001b[0;34m()\u001b[0m\n\u001b[1;32m     81\u001b[0m \u001b[0;34m\u001b[0m\u001b[0m\n\u001b[1;32m     82\u001b[0m     \u001b[0;32mfor\u001b[0m \u001b[0mcomb\u001b[0m \u001b[0;32min\u001b[0m \u001b[0mtqdm_notebook\u001b[0m\u001b[0;34m(\u001b[0m\u001b[0mcombs\u001b[0m\u001b[0;34m,\u001b[0m \u001b[0mleave\u001b[0m\u001b[0;34m=\u001b[0m\u001b[0;32mFalse\u001b[0m\u001b[0;34m)\u001b[0m\u001b[0;34m:\u001b[0m\u001b[0;34m\u001b[0m\u001b[0m\n\u001b[0;32m---> 83\u001b[0;31m         \u001b[0mauc_roc\u001b[0m \u001b[0;34m=\u001b[0m \u001b[0mf\u001b[0m\u001b[0;34m(\u001b[0m\u001b[0mdf_three\u001b[0m\u001b[0;34m,\u001b[0m\u001b[0;34m*\u001b[0m\u001b[0mcomb\u001b[0m\u001b[0;34m)\u001b[0m\u001b[0;34m\u001b[0m\u001b[0m\n\u001b[0m\u001b[1;32m     84\u001b[0m         \u001b[0mprint\u001b[0m\u001b[0;34m(\u001b[0m\u001b[0mind\u001b[0m\u001b[0;34m,\u001b[0m\u001b[0;34m')'\u001b[0m\u001b[0;34m,\u001b[0m \u001b[0;34m'auc_roc'\u001b[0m\u001b[0;34m,\u001b[0m\u001b[0mauc_roc\u001b[0m\u001b[0;34m,\u001b[0m\u001b[0mcomb\u001b[0m\u001b[0;34m)\u001b[0m\u001b[0;34m\u001b[0m\u001b[0m\n\u001b[1;32m     85\u001b[0m         \u001b[0;32mif\u001b[0m \u001b[0mauc_roc\u001b[0m\u001b[0;34m>\u001b[0m\u001b[0mbest_auc_roc\u001b[0m\u001b[0;34m:\u001b[0m\u001b[0;34m\u001b[0m\u001b[0m\n",
      "\u001b[0;32m<ipython-input-6-27555f51cb72>\u001b[0m in \u001b[0;36mf\u001b[0;34m(df_three, x1, x2, x3, w)\u001b[0m\n\u001b[1;32m      9\u001b[0m \u001b[0;34m\u001b[0m\u001b[0m\n\u001b[1;32m     10\u001b[0m     \u001b[0mdf_result_two\u001b[0m \u001b[0;34m=\u001b[0m \u001b[0mget_result\u001b[0m\u001b[0;34m(\u001b[0m\u001b[0mdf_three\u001b[0m\u001b[0;34m,\u001b[0m \u001b[0;34m'two_score'\u001b[0m\u001b[0;34m)\u001b[0m\u001b[0;34m\u001b[0m\u001b[0m\n\u001b[0;32m---> 11\u001b[0;31m     \u001b[0mdf_result_three\u001b[0m \u001b[0;34m=\u001b[0m \u001b[0mget_result\u001b[0m\u001b[0;34m(\u001b[0m\u001b[0mdf_three\u001b[0m\u001b[0;34m,\u001b[0m \u001b[0;34m'three_score'\u001b[0m\u001b[0;34m)\u001b[0m\u001b[0;34m\u001b[0m\u001b[0m\n\u001b[0m\u001b[1;32m     12\u001b[0m     \u001b[0mpred\u001b[0m \u001b[0;34m=\u001b[0m \u001b[0mdf_result_two\u001b[0m\u001b[0;34m[\u001b[0m\u001b[0;34m'our_flats'\u001b[0m\u001b[0;34m]\u001b[0m\u001b[0;34m*\u001b[0m\u001b[0mw\u001b[0m \u001b[0;34m+\u001b[0m \u001b[0;34m(\u001b[0m\u001b[0;36m1\u001b[0m \u001b[0;34m-\u001b[0m \u001b[0mw\u001b[0m\u001b[0;34m)\u001b[0m\u001b[0;34m*\u001b[0m\u001b[0mdf_result_three\u001b[0m\u001b[0;34m[\u001b[0m\u001b[0;34m'our_flats'\u001b[0m\u001b[0;34m]\u001b[0m\u001b[0;34m\u001b[0m\u001b[0m\n\u001b[1;32m     13\u001b[0m     \u001b[0mfact\u001b[0m \u001b[0;34m=\u001b[0m \u001b[0mdf_result_two\u001b[0m\u001b[0;34m[\u001b[0m\u001b[0;34m'true'\u001b[0m\u001b[0;34m]\u001b[0m\u001b[0;34m.\u001b[0m\u001b[0mvalues\u001b[0m\u001b[0;34m\u001b[0m\u001b[0m\n",
      "\u001b[0;32m<ipython-input-4-30491545f958>\u001b[0m in \u001b[0;36mget_result\u001b[0;34m(df_three, score_name)\u001b[0m\n\u001b[1;32m     34\u001b[0m     \u001b[0magg\u001b[0m\u001b[0;34m[\u001b[0m\u001b[0;34m'our_flats'\u001b[0m\u001b[0;34m]\u001b[0m \u001b[0;34m=\u001b[0m \u001b[0msum\u001b[0m\u001b[0;34m\u001b[0m\u001b[0m\n\u001b[1;32m     35\u001b[0m     \u001b[0magg\u001b[0m\u001b[0;34m[\u001b[0m\u001b[0;34m'true'\u001b[0m\u001b[0;34m]\u001b[0m \u001b[0;34m=\u001b[0m \u001b[0;32mlambda\u001b[0m \u001b[0mx\u001b[0m\u001b[0;34m:\u001b[0m \u001b[0mlist\u001b[0m\u001b[0;34m(\u001b[0m\u001b[0mx\u001b[0m\u001b[0;34m)\u001b[0m\u001b[0;34m[\u001b[0m\u001b[0;36m0\u001b[0m\u001b[0;34m]\u001b[0m\u001b[0;34m\u001b[0m\u001b[0m\n\u001b[0;32m---> 36\u001b[0;31m     \u001b[0mdf_result\u001b[0m \u001b[0;34m=\u001b[0m \u001b[0mdf\u001b[0m\u001b[0;34m.\u001b[0m\u001b[0mgroupby\u001b[0m\u001b[0;34m(\u001b[0m\u001b[0;34m[\u001b[0m\u001b[0;34m'source_id1'\u001b[0m\u001b[0;34m,\u001b[0m\u001b[0;34m'source_name1'\u001b[0m\u001b[0;34m]\u001b[0m\u001b[0;34m,\u001b[0m\u001b[0mas_index\u001b[0m\u001b[0;34m=\u001b[0m\u001b[0;32mFalse\u001b[0m\u001b[0;34m)\u001b[0m\u001b[0;34m.\u001b[0m\u001b[0magg\u001b[0m\u001b[0;34m(\u001b[0m\u001b[0magg\u001b[0m\u001b[0;34m)\u001b[0m\u001b[0;34m\u001b[0m\u001b[0m\n\u001b[0m\u001b[1;32m     37\u001b[0m     \u001b[0;32mreturn\u001b[0m \u001b[0mdf_result\u001b[0m\u001b[0;34m\u001b[0m\u001b[0m\n",
      "\u001b[0;32m~/env/lib/python3.6/site-packages/pandas/core/groupby/groupby.py\u001b[0m in \u001b[0;36maggregate\u001b[0;34m(self, arg, *args, **kwargs)\u001b[0m\n\u001b[1;32m   4654\u001b[0m         axis=''))\n\u001b[1;32m   4655\u001b[0m     \u001b[0;32mdef\u001b[0m \u001b[0maggregate\u001b[0m\u001b[0;34m(\u001b[0m\u001b[0mself\u001b[0m\u001b[0;34m,\u001b[0m \u001b[0marg\u001b[0m\u001b[0;34m,\u001b[0m \u001b[0;34m*\u001b[0m\u001b[0margs\u001b[0m\u001b[0;34m,\u001b[0m \u001b[0;34m**\u001b[0m\u001b[0mkwargs\u001b[0m\u001b[0;34m)\u001b[0m\u001b[0;34m:\u001b[0m\u001b[0;34m\u001b[0m\u001b[0m\n\u001b[0;32m-> 4656\u001b[0;31m         \u001b[0;32mreturn\u001b[0m \u001b[0msuper\u001b[0m\u001b[0;34m(\u001b[0m\u001b[0mDataFrameGroupBy\u001b[0m\u001b[0;34m,\u001b[0m \u001b[0mself\u001b[0m\u001b[0;34m)\u001b[0m\u001b[0;34m.\u001b[0m\u001b[0maggregate\u001b[0m\u001b[0;34m(\u001b[0m\u001b[0marg\u001b[0m\u001b[0;34m,\u001b[0m \u001b[0;34m*\u001b[0m\u001b[0margs\u001b[0m\u001b[0;34m,\u001b[0m \u001b[0;34m**\u001b[0m\u001b[0mkwargs\u001b[0m\u001b[0;34m)\u001b[0m\u001b[0;34m\u001b[0m\u001b[0m\n\u001b[0m\u001b[1;32m   4657\u001b[0m \u001b[0;34m\u001b[0m\u001b[0m\n\u001b[1;32m   4658\u001b[0m     \u001b[0magg\u001b[0m \u001b[0;34m=\u001b[0m \u001b[0maggregate\u001b[0m\u001b[0;34m\u001b[0m\u001b[0m\n",
      "\u001b[0;32m~/env/lib/python3.6/site-packages/pandas/core/groupby/groupby.py\u001b[0m in \u001b[0;36maggregate\u001b[0;34m(self, arg, *args, **kwargs)\u001b[0m\n\u001b[1;32m   4085\u001b[0m \u001b[0;34m\u001b[0m\u001b[0m\n\u001b[1;32m   4086\u001b[0m         \u001b[0m_level\u001b[0m \u001b[0;34m=\u001b[0m \u001b[0mkwargs\u001b[0m\u001b[0;34m.\u001b[0m\u001b[0mpop\u001b[0m\u001b[0;34m(\u001b[0m\u001b[0;34m'_level'\u001b[0m\u001b[0;34m,\u001b[0m \u001b[0;32mNone\u001b[0m\u001b[0;34m)\u001b[0m\u001b[0;34m\u001b[0m\u001b[0m\n\u001b[0;32m-> 4087\u001b[0;31m         \u001b[0mresult\u001b[0m\u001b[0;34m,\u001b[0m \u001b[0mhow\u001b[0m \u001b[0;34m=\u001b[0m \u001b[0mself\u001b[0m\u001b[0;34m.\u001b[0m\u001b[0m_aggregate\u001b[0m\u001b[0;34m(\u001b[0m\u001b[0marg\u001b[0m\u001b[0;34m,\u001b[0m \u001b[0m_level\u001b[0m\u001b[0;34m=\u001b[0m\u001b[0m_level\u001b[0m\u001b[0;34m,\u001b[0m \u001b[0;34m*\u001b[0m\u001b[0margs\u001b[0m\u001b[0;34m,\u001b[0m \u001b[0;34m**\u001b[0m\u001b[0mkwargs\u001b[0m\u001b[0;34m)\u001b[0m\u001b[0;34m\u001b[0m\u001b[0m\n\u001b[0m\u001b[1;32m   4088\u001b[0m         \u001b[0;32mif\u001b[0m \u001b[0mhow\u001b[0m \u001b[0;32mis\u001b[0m \u001b[0;32mNone\u001b[0m\u001b[0;34m:\u001b[0m\u001b[0;34m\u001b[0m\u001b[0m\n\u001b[1;32m   4089\u001b[0m             \u001b[0;32mreturn\u001b[0m \u001b[0mresult\u001b[0m\u001b[0;34m\u001b[0m\u001b[0m\n",
      "\u001b[0;32m~/env/lib/python3.6/site-packages/pandas/core/base.py\u001b[0m in \u001b[0;36m_aggregate\u001b[0;34m(self, arg, *args, **kwargs)\u001b[0m\n\u001b[1;32m    488\u001b[0m \u001b[0;34m\u001b[0m\u001b[0m\n\u001b[1;32m    489\u001b[0m                 \u001b[0;32mtry\u001b[0m\u001b[0;34m:\u001b[0m\u001b[0;34m\u001b[0m\u001b[0m\n\u001b[0;32m--> 490\u001b[0;31m                     \u001b[0mresult\u001b[0m \u001b[0;34m=\u001b[0m \u001b[0m_agg\u001b[0m\u001b[0;34m(\u001b[0m\u001b[0marg\u001b[0m\u001b[0;34m,\u001b[0m \u001b[0m_agg_1dim\u001b[0m\u001b[0;34m)\u001b[0m\u001b[0;34m\u001b[0m\u001b[0m\n\u001b[0m\u001b[1;32m    491\u001b[0m                 \u001b[0;32mexcept\u001b[0m \u001b[0mSpecificationError\u001b[0m\u001b[0;34m:\u001b[0m\u001b[0;34m\u001b[0m\u001b[0m\n\u001b[1;32m    492\u001b[0m \u001b[0;34m\u001b[0m\u001b[0m\n",
      "\u001b[0;32m~/env/lib/python3.6/site-packages/pandas/core/base.py\u001b[0m in \u001b[0;36m_agg\u001b[0;34m(arg, func)\u001b[0m\n\u001b[1;32m    439\u001b[0m                 \u001b[0mresult\u001b[0m \u001b[0;34m=\u001b[0m \u001b[0mcompat\u001b[0m\u001b[0;34m.\u001b[0m\u001b[0mOrderedDict\u001b[0m\u001b[0;34m(\u001b[0m\u001b[0;34m)\u001b[0m\u001b[0;34m\u001b[0m\u001b[0m\n\u001b[1;32m    440\u001b[0m                 \u001b[0;32mfor\u001b[0m \u001b[0mfname\u001b[0m\u001b[0;34m,\u001b[0m \u001b[0magg_how\u001b[0m \u001b[0;32min\u001b[0m \u001b[0mcompat\u001b[0m\u001b[0;34m.\u001b[0m\u001b[0miteritems\u001b[0m\u001b[0;34m(\u001b[0m\u001b[0marg\u001b[0m\u001b[0;34m)\u001b[0m\u001b[0;34m:\u001b[0m\u001b[0;34m\u001b[0m\u001b[0m\n\u001b[0;32m--> 441\u001b[0;31m                     \u001b[0mresult\u001b[0m\u001b[0;34m[\u001b[0m\u001b[0mfname\u001b[0m\u001b[0;34m]\u001b[0m \u001b[0;34m=\u001b[0m \u001b[0mfunc\u001b[0m\u001b[0;34m(\u001b[0m\u001b[0mfname\u001b[0m\u001b[0;34m,\u001b[0m \u001b[0magg_how\u001b[0m\u001b[0;34m)\u001b[0m\u001b[0;34m\u001b[0m\u001b[0m\n\u001b[0m\u001b[1;32m    442\u001b[0m                 \u001b[0;32mreturn\u001b[0m \u001b[0mresult\u001b[0m\u001b[0;34m\u001b[0m\u001b[0m\n\u001b[1;32m    443\u001b[0m \u001b[0;34m\u001b[0m\u001b[0m\n",
      "\u001b[0;32m~/env/lib/python3.6/site-packages/pandas/core/base.py\u001b[0m in \u001b[0;36m_agg_1dim\u001b[0;34m(name, how, subset)\u001b[0m\n\u001b[1;32m    422\u001b[0m                     raise SpecificationError(\"nested dictionary is ambiguous \"\n\u001b[1;32m    423\u001b[0m                                              \"in aggregation\")\n\u001b[0;32m--> 424\u001b[0;31m                 \u001b[0;32mreturn\u001b[0m \u001b[0mcolg\u001b[0m\u001b[0;34m.\u001b[0m\u001b[0maggregate\u001b[0m\u001b[0;34m(\u001b[0m\u001b[0mhow\u001b[0m\u001b[0;34m,\u001b[0m \u001b[0m_level\u001b[0m\u001b[0;34m=\u001b[0m\u001b[0;34m(\u001b[0m\u001b[0m_level\u001b[0m \u001b[0;32mor\u001b[0m \u001b[0;36m0\u001b[0m\u001b[0;34m)\u001b[0m \u001b[0;34m+\u001b[0m \u001b[0;36m1\u001b[0m\u001b[0;34m)\u001b[0m\u001b[0;34m\u001b[0m\u001b[0m\n\u001b[0m\u001b[1;32m    425\u001b[0m \u001b[0;34m\u001b[0m\u001b[0m\n\u001b[1;32m    426\u001b[0m             \u001b[0;32mdef\u001b[0m \u001b[0m_agg_2dim\u001b[0m\u001b[0;34m(\u001b[0m\u001b[0mname\u001b[0m\u001b[0;34m,\u001b[0m \u001b[0mhow\u001b[0m\u001b[0;34m)\u001b[0m\u001b[0;34m:\u001b[0m\u001b[0;34m\u001b[0m\u001b[0m\n",
      "\u001b[0;32m~/env/lib/python3.6/site-packages/pandas/core/groupby/groupby.py\u001b[0m in \u001b[0;36maggregate\u001b[0;34m(self, func_or_funcs, *args, **kwargs)\u001b[0m\n\u001b[1;32m   3487\u001b[0m             \u001b[0mcyfunc\u001b[0m \u001b[0;34m=\u001b[0m \u001b[0mself\u001b[0m\u001b[0;34m.\u001b[0m\u001b[0m_is_cython_func\u001b[0m\u001b[0;34m(\u001b[0m\u001b[0mfunc_or_funcs\u001b[0m\u001b[0;34m)\u001b[0m\u001b[0;34m\u001b[0m\u001b[0m\n\u001b[1;32m   3488\u001b[0m             \u001b[0;32mif\u001b[0m \u001b[0mcyfunc\u001b[0m \u001b[0;32mand\u001b[0m \u001b[0;32mnot\u001b[0m \u001b[0margs\u001b[0m \u001b[0;32mand\u001b[0m \u001b[0;32mnot\u001b[0m \u001b[0mkwargs\u001b[0m\u001b[0;34m:\u001b[0m\u001b[0;34m\u001b[0m\u001b[0m\n\u001b[0;32m-> 3489\u001b[0;31m                 \u001b[0;32mreturn\u001b[0m \u001b[0mgetattr\u001b[0m\u001b[0;34m(\u001b[0m\u001b[0mself\u001b[0m\u001b[0;34m,\u001b[0m \u001b[0mcyfunc\u001b[0m\u001b[0;34m)\u001b[0m\u001b[0;34m(\u001b[0m\u001b[0;34m)\u001b[0m\u001b[0;34m\u001b[0m\u001b[0m\n\u001b[0m\u001b[1;32m   3490\u001b[0m \u001b[0;34m\u001b[0m\u001b[0m\n\u001b[1;32m   3491\u001b[0m             \u001b[0;32mif\u001b[0m \u001b[0mself\u001b[0m\u001b[0;34m.\u001b[0m\u001b[0mgrouper\u001b[0m\u001b[0;34m.\u001b[0m\u001b[0mnkeys\u001b[0m \u001b[0;34m>\u001b[0m \u001b[0;36m1\u001b[0m\u001b[0;34m:\u001b[0m\u001b[0;34m\u001b[0m\u001b[0m\n",
      "\u001b[0;32m~/env/lib/python3.6/site-packages/pandas/core/groupby/groupby.py\u001b[0m in \u001b[0;36mf\u001b[0;34m(self, **kwargs)\u001b[0m\n\u001b[1;32m   1420\u001b[0m                 \u001b[0;32mtry\u001b[0m\u001b[0;34m:\u001b[0m\u001b[0;34m\u001b[0m\u001b[0m\n\u001b[1;32m   1421\u001b[0m                     return self._cython_agg_general(\n\u001b[0;32m-> 1422\u001b[0;31m                         alias, alt=npfunc, **kwargs)\n\u001b[0m\u001b[1;32m   1423\u001b[0m                 \u001b[0;32mexcept\u001b[0m \u001b[0mAssertionError\u001b[0m \u001b[0;32mas\u001b[0m \u001b[0me\u001b[0m\u001b[0;34m:\u001b[0m\u001b[0;34m\u001b[0m\u001b[0m\n\u001b[1;32m   1424\u001b[0m                     \u001b[0;32mraise\u001b[0m \u001b[0mSpecificationError\u001b[0m\u001b[0;34m(\u001b[0m\u001b[0mstr\u001b[0m\u001b[0;34m(\u001b[0m\u001b[0me\u001b[0m\u001b[0;34m)\u001b[0m\u001b[0;34m)\u001b[0m\u001b[0;34m\u001b[0m\u001b[0m\n",
      "\u001b[0;32m~/env/lib/python3.6/site-packages/pandas/core/groupby/groupby.py\u001b[0m in \u001b[0;36m_cython_agg_general\u001b[0;34m(self, how, alt, numeric_only, min_count)\u001b[0m\n\u001b[1;32m   1048\u001b[0m             \u001b[0;32mtry\u001b[0m\u001b[0;34m:\u001b[0m\u001b[0;34m\u001b[0m\u001b[0m\n\u001b[1;32m   1049\u001b[0m                 result, names = self.grouper.aggregate(obj.values, how,\n\u001b[0;32m-> 1050\u001b[0;31m                                                        min_count=min_count)\n\u001b[0m\u001b[1;32m   1051\u001b[0m             \u001b[0;32mexcept\u001b[0m \u001b[0mAssertionError\u001b[0m \u001b[0;32mas\u001b[0m \u001b[0me\u001b[0m\u001b[0;34m:\u001b[0m\u001b[0;34m\u001b[0m\u001b[0m\n\u001b[1;32m   1052\u001b[0m                 \u001b[0;32mraise\u001b[0m \u001b[0mGroupByError\u001b[0m\u001b[0;34m(\u001b[0m\u001b[0mstr\u001b[0m\u001b[0;34m(\u001b[0m\u001b[0me\u001b[0m\u001b[0;34m)\u001b[0m\u001b[0;34m)\u001b[0m\u001b[0;34m\u001b[0m\u001b[0m\n",
      "\u001b[0;32m~/env/lib/python3.6/site-packages/pandas/core/groupby/groupby.py\u001b[0m in \u001b[0;36maggregate\u001b[0;34m(self, values, how, axis, min_count)\u001b[0m\n\u001b[1;32m   2625\u001b[0m     \u001b[0;32mdef\u001b[0m \u001b[0maggregate\u001b[0m\u001b[0;34m(\u001b[0m\u001b[0mself\u001b[0m\u001b[0;34m,\u001b[0m \u001b[0mvalues\u001b[0m\u001b[0;34m,\u001b[0m \u001b[0mhow\u001b[0m\u001b[0;34m,\u001b[0m \u001b[0maxis\u001b[0m\u001b[0;34m=\u001b[0m\u001b[0;36m0\u001b[0m\u001b[0;34m,\u001b[0m \u001b[0mmin_count\u001b[0m\u001b[0;34m=\u001b[0m\u001b[0;34m-\u001b[0m\u001b[0;36m1\u001b[0m\u001b[0;34m)\u001b[0m\u001b[0;34m:\u001b[0m\u001b[0;34m\u001b[0m\u001b[0m\n\u001b[1;32m   2626\u001b[0m         return self._cython_operation('aggregate', values, how, axis,\n\u001b[0;32m-> 2627\u001b[0;31m                                       min_count=min_count)\n\u001b[0m\u001b[1;32m   2628\u001b[0m \u001b[0;34m\u001b[0m\u001b[0m\n\u001b[1;32m   2629\u001b[0m     \u001b[0;32mdef\u001b[0m \u001b[0mtransform\u001b[0m\u001b[0;34m(\u001b[0m\u001b[0mself\u001b[0m\u001b[0;34m,\u001b[0m \u001b[0mvalues\u001b[0m\u001b[0;34m,\u001b[0m \u001b[0mhow\u001b[0m\u001b[0;34m,\u001b[0m \u001b[0maxis\u001b[0m\u001b[0;34m=\u001b[0m\u001b[0;36m0\u001b[0m\u001b[0;34m,\u001b[0m \u001b[0;34m**\u001b[0m\u001b[0mkwargs\u001b[0m\u001b[0;34m)\u001b[0m\u001b[0;34m:\u001b[0m\u001b[0;34m\u001b[0m\u001b[0m\n",
      "\u001b[0;32m~/env/lib/python3.6/site-packages/pandas/core/groupby/groupby.py\u001b[0m in \u001b[0;36m_cython_operation\u001b[0;34m(self, kind, values, how, axis, min_count, **kwargs)\u001b[0m\n\u001b[1;32m   2523\u001b[0m         \u001b[0;32mif\u001b[0m \u001b[0mvdim\u001b[0m \u001b[0;34m==\u001b[0m \u001b[0;36m1\u001b[0m\u001b[0;34m:\u001b[0m\u001b[0;34m\u001b[0m\u001b[0m\n\u001b[1;32m   2524\u001b[0m             \u001b[0mvalues\u001b[0m \u001b[0;34m=\u001b[0m \u001b[0mvalues\u001b[0m\u001b[0;34m[\u001b[0m\u001b[0;34m:\u001b[0m\u001b[0;34m,\u001b[0m \u001b[0;32mNone\u001b[0m\u001b[0;34m]\u001b[0m\u001b[0;34m\u001b[0m\u001b[0m\n\u001b[0;32m-> 2525\u001b[0;31m             \u001b[0mout_shape\u001b[0m \u001b[0;34m=\u001b[0m \u001b[0;34m(\u001b[0m\u001b[0mself\u001b[0m\u001b[0;34m.\u001b[0m\u001b[0mngroups\u001b[0m\u001b[0;34m,\u001b[0m \u001b[0marity\u001b[0m\u001b[0;34m)\u001b[0m\u001b[0;34m\u001b[0m\u001b[0m\n\u001b[0m\u001b[1;32m   2526\u001b[0m         \u001b[0;32melse\u001b[0m\u001b[0;34m:\u001b[0m\u001b[0;34m\u001b[0m\u001b[0m\n\u001b[1;32m   2527\u001b[0m             \u001b[0;32mif\u001b[0m \u001b[0maxis\u001b[0m \u001b[0;34m>\u001b[0m \u001b[0;36m0\u001b[0m\u001b[0;34m:\u001b[0m\u001b[0;34m\u001b[0m\u001b[0m\n",
      "\u001b[0;32mpandas/_libs/properties.pyx\u001b[0m in \u001b[0;36mpandas._libs.properties.CachedProperty.__get__\u001b[0;34m()\u001b[0m\n",
      "\u001b[0;32m~/env/lib/python3.6/site-packages/pandas/core/groupby/groupby.py\u001b[0m in \u001b[0;36mngroups\u001b[0;34m(self)\u001b[0m\n\u001b[1;32m   2360\u001b[0m     \u001b[0;34m@\u001b[0m\u001b[0mcache_readonly\u001b[0m\u001b[0;34m\u001b[0m\u001b[0m\n\u001b[1;32m   2361\u001b[0m     \u001b[0;32mdef\u001b[0m \u001b[0mngroups\u001b[0m\u001b[0;34m(\u001b[0m\u001b[0mself\u001b[0m\u001b[0;34m)\u001b[0m\u001b[0;34m:\u001b[0m\u001b[0;34m\u001b[0m\u001b[0m\n\u001b[0;32m-> 2362\u001b[0;31m         \u001b[0;32mreturn\u001b[0m \u001b[0mlen\u001b[0m\u001b[0;34m(\u001b[0m\u001b[0mself\u001b[0m\u001b[0;34m.\u001b[0m\u001b[0mresult_index\u001b[0m\u001b[0;34m)\u001b[0m\u001b[0;34m\u001b[0m\u001b[0m\n\u001b[0m\u001b[1;32m   2363\u001b[0m \u001b[0;34m\u001b[0m\u001b[0m\n\u001b[1;32m   2364\u001b[0m     \u001b[0;34m@\u001b[0m\u001b[0mproperty\u001b[0m\u001b[0;34m\u001b[0m\u001b[0m\n",
      "\u001b[0;32mpandas/_libs/properties.pyx\u001b[0m in \u001b[0;36mpandas._libs.properties.CachedProperty.__get__\u001b[0;34m()\u001b[0m\n",
      "\u001b[0;32m~/env/lib/python3.6/site-packages/pandas/core/groupby/groupby.py\u001b[0m in \u001b[0;36mresult_index\u001b[0;34m(self)\u001b[0m\n\u001b[1;32m   2374\u001b[0m             \u001b[0;32mreturn\u001b[0m \u001b[0mself\u001b[0m\u001b[0;34m.\u001b[0m\u001b[0mgroupings\u001b[0m\u001b[0;34m[\u001b[0m\u001b[0;36m0\u001b[0m\u001b[0;34m]\u001b[0m\u001b[0;34m.\u001b[0m\u001b[0mresult_index\u001b[0m\u001b[0;34m.\u001b[0m\u001b[0mrename\u001b[0m\u001b[0;34m(\u001b[0m\u001b[0mself\u001b[0m\u001b[0;34m.\u001b[0m\u001b[0mnames\u001b[0m\u001b[0;34m[\u001b[0m\u001b[0;36m0\u001b[0m\u001b[0;34m]\u001b[0m\u001b[0;34m)\u001b[0m\u001b[0;34m\u001b[0m\u001b[0m\n\u001b[1;32m   2375\u001b[0m \u001b[0;34m\u001b[0m\u001b[0m\n\u001b[0;32m-> 2376\u001b[0;31m         \u001b[0mlabels\u001b[0m \u001b[0;34m=\u001b[0m \u001b[0mself\u001b[0m\u001b[0;34m.\u001b[0m\u001b[0mrecons_labels\u001b[0m\u001b[0;34m\u001b[0m\u001b[0m\n\u001b[0m\u001b[1;32m   2377\u001b[0m         \u001b[0mlevels\u001b[0m \u001b[0;34m=\u001b[0m \u001b[0;34m[\u001b[0m\u001b[0mping\u001b[0m\u001b[0;34m.\u001b[0m\u001b[0mresult_index\u001b[0m \u001b[0;32mfor\u001b[0m \u001b[0mping\u001b[0m \u001b[0;32min\u001b[0m \u001b[0mself\u001b[0m\u001b[0;34m.\u001b[0m\u001b[0mgroupings\u001b[0m\u001b[0;34m]\u001b[0m\u001b[0;34m\u001b[0m\u001b[0m\n\u001b[1;32m   2378\u001b[0m         result = MultiIndex(levels=levels,\n",
      "\u001b[0;32m~/env/lib/python3.6/site-packages/pandas/core/groupby/groupby.py\u001b[0m in \u001b[0;36mrecons_labels\u001b[0;34m(self)\u001b[0m\n\u001b[1;32m   2364\u001b[0m     \u001b[0;34m@\u001b[0m\u001b[0mproperty\u001b[0m\u001b[0;34m\u001b[0m\u001b[0m\n\u001b[1;32m   2365\u001b[0m     \u001b[0;32mdef\u001b[0m \u001b[0mrecons_labels\u001b[0m\u001b[0;34m(\u001b[0m\u001b[0mself\u001b[0m\u001b[0;34m)\u001b[0m\u001b[0;34m:\u001b[0m\u001b[0;34m\u001b[0m\u001b[0m\n\u001b[0;32m-> 2366\u001b[0;31m         \u001b[0mcomp_ids\u001b[0m\u001b[0;34m,\u001b[0m \u001b[0mobs_ids\u001b[0m\u001b[0;34m,\u001b[0m \u001b[0m_\u001b[0m \u001b[0;34m=\u001b[0m \u001b[0mself\u001b[0m\u001b[0;34m.\u001b[0m\u001b[0mgroup_info\u001b[0m\u001b[0;34m\u001b[0m\u001b[0m\n\u001b[0m\u001b[1;32m   2367\u001b[0m         \u001b[0mlabels\u001b[0m \u001b[0;34m=\u001b[0m \u001b[0;34m(\u001b[0m\u001b[0mping\u001b[0m\u001b[0;34m.\u001b[0m\u001b[0mlabels\u001b[0m \u001b[0;32mfor\u001b[0m \u001b[0mping\u001b[0m \u001b[0;32min\u001b[0m \u001b[0mself\u001b[0m\u001b[0;34m.\u001b[0m\u001b[0mgroupings\u001b[0m\u001b[0;34m)\u001b[0m\u001b[0;34m\u001b[0m\u001b[0m\n\u001b[1;32m   2368\u001b[0m         return decons_obs_group_ids(\n",
      "\u001b[0;32mpandas/_libs/properties.pyx\u001b[0m in \u001b[0;36mpandas._libs.properties.CachedProperty.__get__\u001b[0;34m()\u001b[0m\n",
      "\u001b[0;32m~/env/lib/python3.6/site-packages/pandas/core/groupby/groupby.py\u001b[0m in \u001b[0;36mgroup_info\u001b[0;34m(self)\u001b[0m\n\u001b[1;32m   2333\u001b[0m     \u001b[0;34m@\u001b[0m\u001b[0mcache_readonly\u001b[0m\u001b[0;34m\u001b[0m\u001b[0m\n\u001b[1;32m   2334\u001b[0m     \u001b[0;32mdef\u001b[0m \u001b[0mgroup_info\u001b[0m\u001b[0;34m(\u001b[0m\u001b[0mself\u001b[0m\u001b[0;34m)\u001b[0m\u001b[0;34m:\u001b[0m\u001b[0;34m\u001b[0m\u001b[0m\n\u001b[0;32m-> 2335\u001b[0;31m         \u001b[0mcomp_ids\u001b[0m\u001b[0;34m,\u001b[0m \u001b[0mobs_group_ids\u001b[0m \u001b[0;34m=\u001b[0m \u001b[0mself\u001b[0m\u001b[0;34m.\u001b[0m\u001b[0m_get_compressed_labels\u001b[0m\u001b[0;34m(\u001b[0m\u001b[0;34m)\u001b[0m\u001b[0;34m\u001b[0m\u001b[0m\n\u001b[0m\u001b[1;32m   2336\u001b[0m \u001b[0;34m\u001b[0m\u001b[0m\n\u001b[1;32m   2337\u001b[0m         \u001b[0mngroups\u001b[0m \u001b[0;34m=\u001b[0m \u001b[0mlen\u001b[0m\u001b[0;34m(\u001b[0m\u001b[0mobs_group_ids\u001b[0m\u001b[0;34m)\u001b[0m\u001b[0;34m\u001b[0m\u001b[0m\n",
      "\u001b[0;32m~/env/lib/python3.6/site-packages/pandas/core/groupby/groupby.py\u001b[0m in \u001b[0;36m_get_compressed_labels\u001b[0;34m(self)\u001b[0m\n\u001b[1;32m   2349\u001b[0m \u001b[0;34m\u001b[0m\u001b[0m\n\u001b[1;32m   2350\u001b[0m     \u001b[0;32mdef\u001b[0m \u001b[0m_get_compressed_labels\u001b[0m\u001b[0;34m(\u001b[0m\u001b[0mself\u001b[0m\u001b[0;34m)\u001b[0m\u001b[0;34m:\u001b[0m\u001b[0;34m\u001b[0m\u001b[0m\n\u001b[0;32m-> 2351\u001b[0;31m         \u001b[0mall_labels\u001b[0m \u001b[0;34m=\u001b[0m \u001b[0;34m[\u001b[0m\u001b[0mping\u001b[0m\u001b[0;34m.\u001b[0m\u001b[0mlabels\u001b[0m \u001b[0;32mfor\u001b[0m \u001b[0mping\u001b[0m \u001b[0;32min\u001b[0m \u001b[0mself\u001b[0m\u001b[0;34m.\u001b[0m\u001b[0mgroupings\u001b[0m\u001b[0;34m]\u001b[0m\u001b[0;34m\u001b[0m\u001b[0m\n\u001b[0m\u001b[1;32m   2352\u001b[0m         \u001b[0;32mif\u001b[0m \u001b[0mlen\u001b[0m\u001b[0;34m(\u001b[0m\u001b[0mall_labels\u001b[0m\u001b[0;34m)\u001b[0m \u001b[0;34m>\u001b[0m \u001b[0;36m1\u001b[0m\u001b[0;34m:\u001b[0m\u001b[0;34m\u001b[0m\u001b[0m\n\u001b[1;32m   2353\u001b[0m             group_index = get_group_index(all_labels, self.shape,\n",
      "\u001b[0;32m~/env/lib/python3.6/site-packages/pandas/core/groupby/groupby.py\u001b[0m in \u001b[0;36m<listcomp>\u001b[0;34m(.0)\u001b[0m\n\u001b[1;32m   2349\u001b[0m \u001b[0;34m\u001b[0m\u001b[0m\n\u001b[1;32m   2350\u001b[0m     \u001b[0;32mdef\u001b[0m \u001b[0m_get_compressed_labels\u001b[0m\u001b[0;34m(\u001b[0m\u001b[0mself\u001b[0m\u001b[0;34m)\u001b[0m\u001b[0;34m:\u001b[0m\u001b[0;34m\u001b[0m\u001b[0m\n\u001b[0;32m-> 2351\u001b[0;31m         \u001b[0mall_labels\u001b[0m \u001b[0;34m=\u001b[0m \u001b[0;34m[\u001b[0m\u001b[0mping\u001b[0m\u001b[0;34m.\u001b[0m\u001b[0mlabels\u001b[0m \u001b[0;32mfor\u001b[0m \u001b[0mping\u001b[0m \u001b[0;32min\u001b[0m \u001b[0mself\u001b[0m\u001b[0;34m.\u001b[0m\u001b[0mgroupings\u001b[0m\u001b[0;34m]\u001b[0m\u001b[0;34m\u001b[0m\u001b[0m\n\u001b[0m\u001b[1;32m   2352\u001b[0m         \u001b[0;32mif\u001b[0m \u001b[0mlen\u001b[0m\u001b[0;34m(\u001b[0m\u001b[0mall_labels\u001b[0m\u001b[0;34m)\u001b[0m \u001b[0;34m>\u001b[0m \u001b[0;36m1\u001b[0m\u001b[0;34m:\u001b[0m\u001b[0;34m\u001b[0m\u001b[0m\n\u001b[1;32m   2353\u001b[0m             group_index = get_group_index(all_labels, self.shape,\n",
      "\u001b[0;32m~/env/lib/python3.6/site-packages/pandas/core/groupby/groupby.py\u001b[0m in \u001b[0;36mlabels\u001b[0;34m(self)\u001b[0m\n\u001b[1;32m   3068\u001b[0m     \u001b[0;32mdef\u001b[0m \u001b[0mlabels\u001b[0m\u001b[0;34m(\u001b[0m\u001b[0mself\u001b[0m\u001b[0;34m)\u001b[0m\u001b[0;34m:\u001b[0m\u001b[0;34m\u001b[0m\u001b[0m\n\u001b[1;32m   3069\u001b[0m         \u001b[0;32mif\u001b[0m \u001b[0mself\u001b[0m\u001b[0;34m.\u001b[0m\u001b[0m_labels\u001b[0m \u001b[0;32mis\u001b[0m \u001b[0;32mNone\u001b[0m\u001b[0;34m:\u001b[0m\u001b[0;34m\u001b[0m\u001b[0m\n\u001b[0;32m-> 3070\u001b[0;31m             \u001b[0mself\u001b[0m\u001b[0;34m.\u001b[0m\u001b[0m_make_labels\u001b[0m\u001b[0;34m(\u001b[0m\u001b[0;34m)\u001b[0m\u001b[0;34m\u001b[0m\u001b[0m\n\u001b[0m\u001b[1;32m   3071\u001b[0m         \u001b[0;32mreturn\u001b[0m \u001b[0mself\u001b[0m\u001b[0;34m.\u001b[0m\u001b[0m_labels\u001b[0m\u001b[0;34m\u001b[0m\u001b[0m\n\u001b[1;32m   3072\u001b[0m \u001b[0;34m\u001b[0m\u001b[0m\n",
      "\u001b[0;32m~/env/lib/python3.6/site-packages/pandas/core/groupby/groupby.py\u001b[0m in \u001b[0;36m_make_labels\u001b[0;34m(self)\u001b[0m\n\u001b[1;32m   3101\u001b[0m             \u001b[0;32melse\u001b[0m\u001b[0;34m:\u001b[0m\u001b[0;34m\u001b[0m\u001b[0m\n\u001b[1;32m   3102\u001b[0m                 labels, uniques = algorithms.factorize(\n\u001b[0;32m-> 3103\u001b[0;31m                     self.grouper, sort=self.sort)\n\u001b[0m\u001b[1;32m   3104\u001b[0m                 \u001b[0muniques\u001b[0m \u001b[0;34m=\u001b[0m \u001b[0mIndex\u001b[0m\u001b[0;34m(\u001b[0m\u001b[0muniques\u001b[0m\u001b[0;34m,\u001b[0m \u001b[0mname\u001b[0m\u001b[0;34m=\u001b[0m\u001b[0mself\u001b[0m\u001b[0;34m.\u001b[0m\u001b[0mname\u001b[0m\u001b[0;34m)\u001b[0m\u001b[0;34m\u001b[0m\u001b[0m\n\u001b[1;32m   3105\u001b[0m             \u001b[0mself\u001b[0m\u001b[0;34m.\u001b[0m\u001b[0m_labels\u001b[0m \u001b[0;34m=\u001b[0m \u001b[0mlabels\u001b[0m\u001b[0;34m\u001b[0m\u001b[0m\n",
      "\u001b[0;32m~/env/lib/python3.6/site-packages/pandas/util/_decorators.py\u001b[0m in \u001b[0;36mwrapper\u001b[0;34m(*args, **kwargs)\u001b[0m\n\u001b[1;32m    176\u001b[0m                 \u001b[0;32melse\u001b[0m\u001b[0;34m:\u001b[0m\u001b[0;34m\u001b[0m\u001b[0m\n\u001b[1;32m    177\u001b[0m                     \u001b[0mkwargs\u001b[0m\u001b[0;34m[\u001b[0m\u001b[0mnew_arg_name\u001b[0m\u001b[0;34m]\u001b[0m \u001b[0;34m=\u001b[0m \u001b[0mnew_arg_value\u001b[0m\u001b[0;34m\u001b[0m\u001b[0m\n\u001b[0;32m--> 178\u001b[0;31m             \u001b[0;32mreturn\u001b[0m \u001b[0mfunc\u001b[0m\u001b[0;34m(\u001b[0m\u001b[0;34m*\u001b[0m\u001b[0margs\u001b[0m\u001b[0;34m,\u001b[0m \u001b[0;34m**\u001b[0m\u001b[0mkwargs\u001b[0m\u001b[0;34m)\u001b[0m\u001b[0;34m\u001b[0m\u001b[0m\n\u001b[0m\u001b[1;32m    179\u001b[0m         \u001b[0;32mreturn\u001b[0m \u001b[0mwrapper\u001b[0m\u001b[0;34m\u001b[0m\u001b[0m\n\u001b[1;32m    180\u001b[0m     \u001b[0;32mreturn\u001b[0m \u001b[0m_deprecate_kwarg\u001b[0m\u001b[0;34m\u001b[0m\u001b[0m\n",
      "\u001b[0;32m~/env/lib/python3.6/site-packages/pandas/core/algorithms.py\u001b[0m in \u001b[0;36mfactorize\u001b[0;34m(values, sort, order, na_sentinel, size_hint)\u001b[0m\n\u001b[1;32m    628\u001b[0m                                            \u001b[0mna_sentinel\u001b[0m\u001b[0;34m=\u001b[0m\u001b[0mna_sentinel\u001b[0m\u001b[0;34m,\u001b[0m\u001b[0;34m\u001b[0m\u001b[0m\n\u001b[1;32m    629\u001b[0m                                            \u001b[0msize_hint\u001b[0m\u001b[0;34m=\u001b[0m\u001b[0msize_hint\u001b[0m\u001b[0;34m,\u001b[0m\u001b[0;34m\u001b[0m\u001b[0m\n\u001b[0;32m--> 630\u001b[0;31m                                            na_value=na_value)\n\u001b[0m\u001b[1;32m    631\u001b[0m \u001b[0;34m\u001b[0m\u001b[0m\n\u001b[1;32m    632\u001b[0m     \u001b[0;32mif\u001b[0m \u001b[0msort\u001b[0m \u001b[0;32mand\u001b[0m \u001b[0mlen\u001b[0m\u001b[0;34m(\u001b[0m\u001b[0muniques\u001b[0m\u001b[0;34m)\u001b[0m \u001b[0;34m>\u001b[0m \u001b[0;36m0\u001b[0m\u001b[0;34m:\u001b[0m\u001b[0;34m\u001b[0m\u001b[0m\n",
      "\u001b[0;32m~/env/lib/python3.6/site-packages/pandas/core/algorithms.py\u001b[0m in \u001b[0;36m_factorize_array\u001b[0;34m(values, na_sentinel, size_hint, na_value)\u001b[0m\n\u001b[1;32m    469\u001b[0m     \u001b[0mlabels\u001b[0m\u001b[0;34m,\u001b[0m \u001b[0muniques\u001b[0m \u001b[0;34m:\u001b[0m \u001b[0mndarray\u001b[0m\u001b[0;34m\u001b[0m\u001b[0m\n\u001b[1;32m    470\u001b[0m     \"\"\"\n\u001b[0;32m--> 471\u001b[0;31m     \u001b[0;34m(\u001b[0m\u001b[0mhash_klass\u001b[0m\u001b[0;34m,\u001b[0m \u001b[0mvec_klass\u001b[0m\u001b[0;34m)\u001b[0m\u001b[0;34m,\u001b[0m \u001b[0mvalues\u001b[0m \u001b[0;34m=\u001b[0m \u001b[0m_get_data_algo\u001b[0m\u001b[0;34m(\u001b[0m\u001b[0mvalues\u001b[0m\u001b[0;34m,\u001b[0m \u001b[0m_hashtables\u001b[0m\u001b[0;34m)\u001b[0m\u001b[0;34m\u001b[0m\u001b[0m\n\u001b[0m\u001b[1;32m    472\u001b[0m \u001b[0;34m\u001b[0m\u001b[0m\n\u001b[1;32m    473\u001b[0m     \u001b[0mtable\u001b[0m \u001b[0;34m=\u001b[0m \u001b[0mhash_klass\u001b[0m\u001b[0;34m(\u001b[0m\u001b[0msize_hint\u001b[0m \u001b[0;32mor\u001b[0m \u001b[0mlen\u001b[0m\u001b[0;34m(\u001b[0m\u001b[0mvalues\u001b[0m\u001b[0;34m)\u001b[0m\u001b[0;34m)\u001b[0m\u001b[0;34m\u001b[0m\u001b[0m\n",
      "\u001b[0;32m~/env/lib/python3.6/site-packages/pandas/core/algorithms.py\u001b[0m in \u001b[0;36m_get_data_algo\u001b[0;34m(values, func_map)\u001b[0m\n\u001b[1;32m    231\u001b[0m \u001b[0;34m\u001b[0m\u001b[0m\n\u001b[1;32m    232\u001b[0m         \u001b[0;31m# its cheaper to use a String Hash Table than Object\u001b[0m\u001b[0;34m\u001b[0m\u001b[0;34m\u001b[0m\u001b[0m\n\u001b[0;32m--> 233\u001b[0;31m         \u001b[0;32mif\u001b[0m \u001b[0mlib\u001b[0m\u001b[0;34m.\u001b[0m\u001b[0minfer_dtype\u001b[0m\u001b[0;34m(\u001b[0m\u001b[0mvalues\u001b[0m\u001b[0;34m)\u001b[0m \u001b[0;32min\u001b[0m \u001b[0;34m[\u001b[0m\u001b[0;34m'string'\u001b[0m\u001b[0;34m]\u001b[0m\u001b[0;34m:\u001b[0m\u001b[0;34m\u001b[0m\u001b[0m\n\u001b[0m\u001b[1;32m    234\u001b[0m             \u001b[0mndtype\u001b[0m \u001b[0;34m=\u001b[0m \u001b[0;34m'string'\u001b[0m\u001b[0;34m\u001b[0m\u001b[0m\n\u001b[1;32m    235\u001b[0m \u001b[0;34m\u001b[0m\u001b[0m\n",
      "\u001b[0;31mKeyboardInterrupt\u001b[0m: "
     ]
    }
   ],
   "source": [
    "    for comb in tqdm_notebook(combs, leave=False):\n",
    "        auc_roc = f(df_three,*comb)\n",
    "        print(ind,')', 'auc_roc',auc_roc,comb)\n",
    "        if auc_roc>best_auc_roc:\n",
    "            best_auc_roc = auc_roc\n",
    "            best_params = comb\n",
    "            print('BEST',ind,')', 'auc_roc',best_auc_roc,best_params)\n",
    "        ind+=1"
   ]
  },
  {
   "cell_type": "code",
   "execution_count": null,
   "metadata": {},
   "outputs": [],
   "source": []
  }
 ],
 "metadata": {
  "kernelspec": {
   "display_name": "Python 3",
   "language": "python",
   "name": "python3"
  },
  "language_info": {
   "codemirror_mode": {
    "name": "ipython",
    "version": 3
   },
   "file_extension": ".py",
   "mimetype": "text/x-python",
   "name": "python",
   "nbconvert_exporter": "python",
   "pygments_lexer": "ipython3",
   "version": "3.6.5"
  }
 },
 "nbformat": 4,
 "nbformat_minor": 2
}
