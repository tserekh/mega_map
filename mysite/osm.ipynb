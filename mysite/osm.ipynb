{
 "cells": [
  {
   "cell_type": "code",
   "execution_count": 29,
   "metadata": {},
   "outputs": [],
   "source": [
    "import sys\n",
    "sys.path.append('/usr/lib/python3/dist-packages')\n",
    "import os\n",
    "import pandas as pd\n",
    "import datetime\n",
    "import pandas as pd\n",
    "import numpy as np\n",
    "\n",
    "import json\n",
    "#import shapefile\n",
    "#from shapely.geometry  import Point, LineString, Polygon, MultiPolygon\n",
    "\n",
    "from django.conf import settings\n",
    "#from sqlalchemy import create_engine\n",
    "os.environ[\"DJANGO_SETTINGS_MODULE\"] = \"mysite.settings\"\n",
    "import django\n",
    "django.setup()\n",
    "from tqdm import tqdm_notebook, tqdm\n",
    "import glob\n",
    "\n",
    "from django.db.models import Q, Sum, Avg\n",
    "\n",
    "from pyproj import Proj, transform\n",
    "\n",
    "PROJ3857  = Proj(\"+init=EPSG:3857\")\n",
    "PROJ4326 = Proj(\"+init=EPSG:4326\")"
   ]
  },
  {
   "cell_type": "code",
   "execution_count": 30,
   "metadata": {},
   "outputs": [],
   "source": [
    "import requests"
   ]
  },
  {
   "cell_type": "code",
   "execution_count": 31,
   "metadata": {},
   "outputs": [],
   "source": [
    "from main_map.models import OrganizationNatClass, TimeSquare\n",
    "import itertools"
   ]
  },
  {
   "cell_type": "code",
   "execution_count": 32,
   "metadata": {},
   "outputs": [],
   "source": [
    "SERVER_URL = 'http://178.62.250.186'\n",
    "#SERVER_URL = 'http://127.0.0.1'"
   ]
  },
  {
   "cell_type": "code",
   "execution_count": 33,
   "metadata": {},
   "outputs": [],
   "source": [
    "SERVER_URL_MSK_DRIVING = SERVER_URL + ':5000/table/v1/driving/'\n",
    "SERVER_URL_MSK_FOOT =  'http://0.0.0.0:5001/table/v1/foot/'\n",
    "SERVER_URL_PETER_DRIVING = SERVER_URL + ':5002/table/v1/driving/'\n",
    "SERVER_URL_PETER_FOOT = SERVER_URL + ':5003/table/v1/foot/'\n",
    "SERVER_URL_MSK_DRIVING = 'http://0.0.0.0:6000/table/v1/driving/'"
   ]
  },
  {
   "cell_type": "code",
   "execution_count": 34,
   "metadata": {},
   "outputs": [],
   "source": [
    "# def get_time_3000(lon, lat, coords, root_url):\n",
    "#     page_url = root_url + '{},{};'.format(lon, lat)\n",
    "    \n",
    "#     times = []\n",
    "#     for coord in coords:\n",
    "#         page_url = page_url + '{},{};'.format(coord[0], coord[1])\n",
    "#     page_url = page_url[:-1] + '?sources=0'\n",
    "#     print(page_url)\n",
    "#     page = requests.get(page_url)\n",
    "#     data = page.json()\n",
    "#     if 'durations' in data:\n",
    "#         times.extend(data['durations'][0][1:])\n",
    "#     else:\n",
    "#         print('no key name duration in data from osrm')\n",
    "#         times.extend([0]*len(coords))\n",
    "#     return times\n",
    "def get_time(lon, lat, coords, mode):\n",
    "\n",
    "    root_url = {\n",
    "        'driving': SERVER_URL_MSK_DRIVING,\n",
    "        'foot': SERVER_URL_MSK_FOOT,\n",
    "        }[mode]\n",
    "\n",
    "    times = []\n",
    "    if len(coords) < 3000:\n",
    "        times.extend(get_time_3000(lon,lat, coords, root_url))\n",
    "    else:\n",
    "        for coord_chunk in tqdm_notebook(np.array_split(coords, len(coords) / 3000)):\n",
    "            times.extend(get_time_3000(lon, lat, coord_chunk, root_url))\n",
    "\n",
    "    # Заменить все None на нули\n",
    "    times = [0 if i is None else i for i in times]\n",
    "    return times\n",
    "\n",
    "def get_time_3000(lon, lat, coords, root_url):\n",
    "    page_url = root_url + '{},{};'.format(lat, lon)\n",
    "    times = []\n",
    "    for coord in coords:\n",
    "        page_url = page_url + '{},{};'.format(coord[0], coord[1])\n",
    "    page_url = page_url[:-1] + '?sources=0'\n",
    "    #print(page_url)\n",
    "    page = requests.get(page_url)\n",
    "    #print(page)\n",
    "    data = page.json()\n",
    "    #print(data)\n",
    "    if 'durations' in data:\n",
    "        times.extend(data['durations'][0][1:])\n",
    "    else:\n",
    "        print('no key name duration in data from osrm')\n",
    "        times.extend([0]*len(coords))\n",
    "    return times\n",
    "\n",
    "\n",
    "def get_time(lon, lat, coords, mode):\n",
    "    try:\n",
    "        # Проверка на Питер\n",
    "        if lat > 58 and lat > 58:\n",
    "            root_url = {\n",
    "                'driving': SERVER_URL_PETER_DRIVING,\n",
    "                'foot': SERVER_URL_PETER_FOOT,\n",
    "                }[mode]\n",
    "        else:\n",
    "            root_url = {\n",
    "                'driving': SERVER_URL_MSK_DRIVING,\n",
    "                'foot': SERVER_URL_MSK_FOOT,\n",
    "                }[mode]\n",
    "    except KeyError as e:\n",
    "        raise ValueError('Undefined mode: {}'.format())\n",
    "    times = []\n",
    "    if len(coords) < 3000:\n",
    "        times.extend(get_time_3000(lon,lat, coords, root_url))\n",
    "    else:\n",
    "        for coord_chunk in tqdm_notebook(np.array_split(coords, len(coords) / 3000)):\n",
    "            times.extend(get_time_3000(lon, lat, coord_chunk, root_url))\n",
    "\n",
    "    # Заменить все None на нули\n",
    "    times = [0 if i is None else i for i in times]\n",
    "    return times\n",
    "\n",
    "def get_coord_time(x, y, step, rmax, mode):\n",
    "    coords = get_coords(x, y, step, rmax)\n",
    "    lat, lon = transform(PROJ3857, PROJ4326, x, y)\n",
    "    times = get_time(lon, lat, coords, mode)\n",
    "    return coords, times\n",
    "\n",
    "def get_coords(x, y, step, rmax):\n",
    "    coords = itertools.product(np.arange(x - rmax, x + rmax, step),np.arange(y - rmax, y + rmax, step))\n",
    "    coords = list(coords)\n",
    "    #print(len(list(coords)))\n",
    "    #print(list(coords)[0])\n",
    "    coords = list(map(lambda coord: transform(PROJ3857, PROJ4326, coord[0], coord[1]), coords))\n",
    "    #print(coords)\n",
    "    return coords"
   ]
  },
  {
   "cell_type": "code",
   "execution_count": null,
   "metadata": {},
   "outputs": [],
   "source": [
    "df"
   ]
  },
  {
   "cell_type": "code",
   "execution_count": 35,
   "metadata": {},
   "outputs": [],
   "source": [
    "lat, lon = 55.754638, 37.622024"
   ]
  },
  {
   "cell_type": "code",
   "execution_count": 36,
   "metadata": {},
   "outputs": [],
   "source": [
    "x, y = transform(PROJ4326, PROJ3857, lon, lat)"
   ]
  },
  {
   "cell_type": "code",
   "execution_count": 37,
   "metadata": {},
   "outputs": [],
   "source": [
    "step = 300\n",
    "rmax = 10000\n",
    "mode = 'foot'"
   ]
  },
  {
   "cell_type": "code",
   "execution_count": 38,
   "metadata": {},
   "outputs": [
    {
     "data": {
      "application/vnd.jupyter.widget-view+json": {
       "model_id": "6fb265298f9442c7be282fd0f4fb98f0",
       "version_major": 2,
       "version_minor": 0
      },
      "text/plain": [
       "HBox(children=(IntProgress(value=0, max=1), HTML(value='')))"
      ]
     },
     "metadata": {},
     "output_type": "display_data"
    },
    {
     "name": "stdout",
     "output_type": "stream",
     "text": [
      "\n"
     ]
    }
   ],
   "source": [
    "coords, times = get_coord_time(x, y, step, rmax, mode)"
   ]
  },
  {
   "cell_type": "code",
   "execution_count": null,
   "metadata": {},
   "outputs": [],
   "source": [
    "len(coords)"
   ]
  },
  {
   "cell_type": "code",
   "execution_count": 22,
   "metadata": {},
   "outputs": [],
   "source": [
    "#times = np.array(times) - min(times)"
   ]
  },
  {
   "cell_type": "code",
   "execution_count": 23,
   "metadata": {},
   "outputs": [
    {
     "data": {
      "text/plain": [
       "(4178064.5542923193, 7499725.274847777)"
      ]
     },
     "execution_count": 23,
     "metadata": {},
     "output_type": "execute_result"
    }
   ],
   "source": [
    "transform(PROJ4326, PROJ3857, coords[0][0], coords[0][1])"
   ]
  },
  {
   "cell_type": "code",
   "execution_count": 24,
   "metadata": {},
   "outputs": [
    {
     "data": {
      "text/plain": [
       "(4178064.5542923193, 7500025.274847784)"
      ]
     },
     "execution_count": 24,
     "metadata": {},
     "output_type": "execute_result"
    }
   ],
   "source": [
    "transform(PROJ4326, PROJ3857, coords[1][0], coords[1][1])"
   ]
  },
  {
   "cell_type": "code",
   "execution_count": 25,
   "metadata": {},
   "outputs": [
    {
     "data": {
      "text/plain": [
       "-300.00000000186265"
      ]
     },
     "execution_count": 25,
     "metadata": {},
     "output_type": "execute_result"
    }
   ],
   "source": [
    "7479725.274847778 - 7480025.274847779"
   ]
  },
  {
   "cell_type": "code",
   "execution_count": 26,
   "metadata": {},
   "outputs": [],
   "source": [
    "import matplotlib.pyplot as plt"
   ]
  },
  {
   "cell_type": "code",
   "execution_count": 27,
   "metadata": {},
   "outputs": [
    {
     "data": {
      "text/plain": [
       "(4489, {'main_map.TimeSquare': 4489})"
      ]
     },
     "execution_count": 27,
     "metadata": {},
     "output_type": "execute_result"
    }
   ],
   "source": [
    "TimeSquare.objects.all().delete()"
   ]
  },
  {
   "cell_type": "code",
   "execution_count": 28,
   "metadata": {},
   "outputs": [
    {
     "data": {
      "application/vnd.jupyter.widget-view+json": {
       "model_id": "51e9adf6e627406ba3863cf2840053d7",
       "version_major": 2,
       "version_minor": 0
      },
      "text/plain": [
       "HBox(children=(IntProgress(value=0, max=4489), HTML(value='')))"
      ]
     },
     "metadata": {},
     "output_type": "display_data"
    },
    {
     "name": "stdout",
     "output_type": "stream",
     "text": [
      "\n"
     ]
    }
   ],
   "source": [
    "for i in tqdm_notebook(range(len(times))):\n",
    "    obj = TimeSquare()\n",
    "    obj.foot = times[i]\n",
    "    coord = coords[i]\n",
    "    obj.x, obj.y = transform(PROJ4326, PROJ3857, coord[0], coord[1])\n",
    "    obj.save()"
   ]
  },
  {
   "cell_type": "code",
   "execution_count": null,
   "metadata": {},
   "outputs": [],
   "source": []
  },
  {
   "cell_type": "code",
   "execution_count": null,
   "metadata": {},
   "outputs": [],
   "source": []
  },
  {
   "cell_type": "code",
   "execution_count": null,
   "metadata": {},
   "outputs": [],
   "source": []
  }
 ],
 "metadata": {
  "kernelspec": {
   "display_name": "Python 3",
   "language": "python",
   "name": "python3"
  },
  "language_info": {
   "codemirror_mode": {
    "name": "ipython",
    "version": 3
   },
   "file_extension": ".py",
   "mimetype": "text/x-python",
   "name": "python",
   "nbconvert_exporter": "python",
   "pygments_lexer": "ipython3",
   "version": "3.6.5"
  }
 },
 "nbformat": 4,
 "nbformat_minor": 2
}
