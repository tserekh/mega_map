{
 "cells": [
  {
   "cell_type": "code",
   "execution_count": 122,
   "metadata": {},
   "outputs": [],
   "source": [
    "import sys\n",
    "sys.path.append('/usr/lib/python3/dist-packages')\n",
    "\n",
    "import os\n",
    "import pandas as pd\n",
    "import numpy as np\n",
    "import requests\n",
    "import json\n",
    "import time\n",
    "from IPython.display import clear_output\n",
    "os.environ[\"DJANGO_SETTINGS_MODULE\"] = \"mysite.settings\"\n",
    "import django\n",
    "from django.db.models import Sum\n",
    "django.setup()\n",
    "from tqdm import tqdm\n",
    "from main_map.models import Organization, House, Metro, MetroStation, PolygonModel, RawLine, LineModel\n"
   ]
  },
  {
   "cell_type": "code",
   "execution_count": null,
   "metadata": {},
   "outputs": [],
   "source": [
    "from pyproj import Proj, transform\n",
    "\n",
    "PROJ3857  = Proj(\"+init=EPSG:3857\")\n",
    "PROJ4326 = Proj(\"+init=EPSG:4326\")"
   ]
  },
  {
   "cell_type": "code",
   "execution_count": null,
   "metadata": {},
   "outputs": [],
   "source": [
    "import itertools"
   ]
  },
  {
   "cell_type": "code",
   "execution_count": 123,
   "metadata": {},
   "outputs": [],
   "source": [
    "SERVER_URL = 'http://178.62.250.186'\n",
    "#SERVER_URL = 'http://127.0.0.1'\n",
    "SERVER_URL_MSK_DRIVING = SERVER_URL + ':5000/table/v1/driving/'\n",
    "SERVER_URL_MSK_FOOT = SERVER_URL + ':5001/table/v1/foot/'\n",
    "SERVER_URL_PETER_DRIVING = SERVER_URL + ':5002/table/v1/driving/'\n",
    "SERVER_URL_PETER_FOOT = SERVER_URL + ':5003/table/v1/foot/'\n",
    "\n",
    "def get_time_3000(lon, lat, coords, root_url):\n",
    "    page_url = root_url + '{},{};'.format(lon, lat)\n",
    "    times = []\n",
    "    for coord in coords:\n",
    "        page_url = page_url + '{},{};'.format(coord[0], coord[1])\n",
    "    page_url = page_url[:-1] + '?sources=0'\n",
    "    page = requests.get(page_url)\n",
    "    data = page.json()\n",
    "    if 'durations' in data:\n",
    "        times.extend(data['durations'][0][1:])\n",
    "    else:\n",
    "        print('no key name duration in data from osrm')\n",
    "        times.extend([0]*len(coords))\n",
    "    return times\n",
    "def get_time(lon, lat, coords, mode):\n",
    "    try:\n",
    "        # Проверка на Питер\n",
    "        if lat > 58 and lat > 58:\n",
    "            root_url = {\n",
    "                'driving': SERVER_URL_PETER_DRIVING,\n",
    "                'foot': SERVER_URL_PETER_FOOT,\n",
    "                }[mode]\n",
    "        else:\n",
    "            root_url = {\n",
    "                'driving': SERVER_URL_MSK_DRIVING,\n",
    "                'foot': SERVER_URL_MSK_FOOT,\n",
    "                }[mode]\n",
    "    except KeyError as e:\n",
    "        raise ValueError('Undefined mode: {}'.format())\n",
    "    times = []\n",
    "    if len(coords) < 3000:\n",
    "        times.extend(get_time_3000(lon,lat, coords, root_url))\n",
    "    else:\n",
    "        for coord_chunk in tqdm(np.array_split(coords, len(coords) / 3000)):\n",
    "            times.extend(get_time_3000(lon, lat, coord_chunk, root_url))\n",
    "\n",
    "    # Заменить все None на нули\n",
    "    times = [0 if i is None else i for i in times]\n",
    "    return times\n",
    "def get_coord_time(x, y, step, rmax, mode):\n",
    "    coords = get_coords(x, y, step, rmax)\n",
    "    times = get_time(lon, lat, coords, mode)\n",
    "    return coords, times\n",
    "def get_coords(x, y, step, rmax):\n",
    "    coords = itertools.product(np.arange(x - rmax, x + rmax, step),np.arange(y - rmax, y + rmax, step))\n",
    "    coords = list(coords)\n",
    "    #print(len(list(coords)))\n",
    "    #print(list(coords)[0])\n",
    "    coords = list(map(lambda coord: transform(PROJ3857, PROJ4326, coord[0], coord[1]), coords))\n",
    "    #print(coords)\n",
    "    return coords"
   ]
  },
  {
   "cell_type": "code",
   "execution_count": 124,
   "metadata": {},
   "outputs": [],
   "source": []
  },
  {
   "cell_type": "code",
   "execution_count": null,
   "metadata": {},
   "outputs": [],
   "source": []
  },
  {
   "cell_type": "code",
   "execution_count": null,
   "metadata": {},
   "outputs": [],
   "source": []
  },
  {
   "cell_type": "code",
   "execution_count": 125,
   "metadata": {},
   "outputs": [],
   "source": []
  },
  {
   "cell_type": "code",
   "execution_count": 126,
   "metadata": {},
   "outputs": [],
   "source": [
    "lat, lon = 55.695314, 37.625357\n",
    "x, y = transform(PROJ4326, PROJ3857, lon, lat)"
   ]
  },
  {
   "cell_type": "code",
   "execution_count": 127,
   "metadata": {},
   "outputs": [
    {
     "data": {
      "text/plain": [
       "(37.62535699999999, 55.695313999999975)"
      ]
     },
     "execution_count": 127,
     "metadata": {},
     "output_type": "execute_result"
    }
   ],
   "source": [
    "transform(PROJ3857, PROJ4326,x, y)\n",
    "\n",
    "coords, times = get_coord_time(x, y, 50, 5000, mode='driving')\n"
   ]
  },
  {
   "cell_type": "code",
   "execution_count": null,
   "metadata": {},
   "outputs": [],
   "source": []
  }
 ],
 "metadata": {
  "kernelspec": {
   "display_name": "Python 3",
   "language": "python",
   "name": "python3"
  },
  "language_info": {
   "codemirror_mode": {
    "name": "ipython",
    "version": 3
   },
   "file_extension": ".py",
   "mimetype": "text/x-python",
   "name": "python",
   "nbconvert_exporter": "python",
   "pygments_lexer": "ipython3",
   "version": "3.6.5"
  }
 },
 "nbformat": 4,
 "nbformat_minor": 2
}
