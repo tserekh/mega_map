{
 "cells": [
  {
   "cell_type": "code",
   "execution_count": 1,
   "metadata": {},
   "outputs": [
    {
     "name": "stderr",
     "output_type": "stream",
     "text": [
      "/home/tserekh/jupnb/lib/python3.5/site-packages/psycopg2/__init__.py:144: UserWarning: The psycopg2 wheel package will be renamed from release 2.8; in order to keep installing from binary please use \"pip install psycopg2-binary\" instead. For details see: <http://initd.org/psycopg/docs/install.html#binary-install-from-pypi>.\n",
      "  \"\"\")\n"
     ]
    }
   ],
   "source": [
    "import sys\n",
    "sys.path.append('/usr/lib/python3/dist-packages')\n",
    "import os\n",
    "import pandas as pd\n",
    "import datetime\n",
    "import pandas as pd\n",
    "import numpy as np\n",
    "from tqdm import tqdm\n",
    "import json\n",
    "import shapefile\n",
    "from shapely.geometry  import Point, LineString, Polygon, MultiPolygon\n",
    "\n",
    "from django.conf import settings\n",
    "#from sqlalchemy import create_engine\n",
    "os.environ[\"DJANGO_SETTINGS_MODULE\"] = \"mysite.settings\"\n",
    "import django\n",
    "django.setup()\n",
    "from tqdm import tqdm\n",
    "import glob"
   ]
  },
  {
   "cell_type": "code",
   "execution_count": 2,
   "metadata": {},
   "outputs": [],
   "source": [
    "from main_map.models import OrganizationNatClass, House, Metro, MetroStation, PolygonModel, GroundStop, OperSquare\n",
    "from main_map.models import Organization, OrganizationNatClass, Workplace, House, MetroStation, Metro, GroundStop\n",
    "from django.core import serializers\n",
    "from django.utils.safestring import mark_safe"
   ]
  },
  {
   "cell_type": "code",
   "execution_count": 3,
   "metadata": {},
   "outputs": [],
   "source": [
    "import sys\n",
    "import json\n",
    "sys.path.append('/usr/lib/python3/dist-packages')\n",
    "from pyproj import Proj, transform\n",
    "def add3857(row):\n",
    "    xy = transform(PROJ4326, PROJ3857, row['lon'], row['lat'])\n",
    "    return xy"
   ]
  },
  {
   "cell_type": "code",
   "execution_count": 4,
   "metadata": {},
   "outputs": [],
   "source": [
    "import pandas as pd"
   ]
  },
  {
   "cell_type": "code",
   "execution_count": 5,
   "metadata": {},
   "outputs": [],
   "source": [
    "df_polygons = pd.read_csv('/home/tserekh/evil/azbuka_/data/empty_polygons.csv',index_col='Id')"
   ]
  },
  {
   "cell_type": "code",
   "execution_count": 6,
   "metadata": {},
   "outputs": [
    {
     "name": "stderr",
     "output_type": "stream",
     "text": [
      "/home/tserekh/jupnb/lib/python3.5/site-packages/numpy/lib/arraysetops.py:472: FutureWarning: elementwise comparison failed; returning scalar instead, but in the future will perform elementwise comparison\n",
      "  mask |= (ar1 == a)\n"
     ]
    }
   ],
   "source": [
    "df = pd.read_csv('/home/tserekh/abc_data/oper_data/report1.csv',sep=';',index_col='zid_500')"
   ]
  },
  {
   "cell_type": "code",
   "execution_count": null,
   "metadata": {},
   "outputs": [],
   "source": []
  },
  {
   "cell_type": "code",
   "execution_count": null,
   "metadata": {},
   "outputs": [],
   "source": [
    "def age_index_to_age(x):\n",
    "    if x<=1:\n",
    "        return x*12000\n",
    "    elif x<=2:\n",
    "        return 12000 + (x-1)*(46000 - 12000)\n",
    "    elif x<=3:\n",
    "        return 46000 + (x-2)*(46000 - 100000)\n",
    "    else:\n",
    "        return 100000 + (x-3)*(100000 - 150000)\n"
   ]
  },
  {
   "cell_type": "code",
   "execution_count": 7,
   "metadata": {},
   "outputs": [
    {
     "data": {
      "text/plain": [
       "Средний доход. Более 12000 и до 46000 рублей           0.409301\n",
       "не определено                                          0.262513\n",
       "Доход выше среднего. Более 46000 и до 100000 рублей    0.181204\n",
       "Минимальный доход. От 0 до 12000 рублей                0.090398\n",
       "Высокий доход. Более 100000 рублей                     0.056584\n",
       "Name: доход, dtype: float64"
      ]
     },
     "execution_count": 7,
     "metadata": {},
     "output_type": "execute_result"
    }
   ],
   "source": [
    "df['доход'].value_counts(normalize=True)"
   ]
  },
  {
   "cell_type": "code",
   "execution_count": 8,
   "metadata": {},
   "outputs": [],
   "source": [
    "df['доход'] = df['доход'].apply(lambda x: x.split('.')[0])"
   ]
  },
  {
   "cell_type": "code",
   "execution_count": 9,
   "metadata": {},
   "outputs": [
    {
     "data": {
      "text/plain": [
       "35-44            0.215627\n",
       "25-34            0.194194\n",
       "45-54            0.177393\n",
       "55-63            0.158447\n",
       ">=64             0.102595\n",
       "18-24            0.073119\n",
       "не определено    0.050573\n",
       "0-18             0.028052\n",
       "Name: возраст, dtype: float64"
      ]
     },
     "execution_count": 9,
     "metadata": {},
     "output_type": "execute_result"
    }
   ],
   "source": [
    "df['возраст'].value_counts(normalize=True)"
   ]
  },
  {
   "cell_type": "code",
   "execution_count": 10,
   "metadata": {},
   "outputs": [],
   "source": [
    "df.rename(\n",
    "    columns = {\n",
    "        'тип локации':'if_home',\n",
    "        'пол':'male',\n",
    "        'кол-во абонентов':'users',\n",
    "        'доход':'income',\n",
    "        'возраст':'age',\n",
    "    },\n",
    "    inplace=True\n",
    "\n",
    "\n",
    ")"
   ]
  },
  {
   "cell_type": "code",
   "execution_count": 11,
   "metadata": {},
   "outputs": [],
   "source": [
    "df_polygons['lon'] = (df_polygons['0']+df_polygons['2']+df_polygons['4']+df_polygons['6'])/4\n",
    "df_polygons['lat'] = (df_polygons['1']+df_polygons['3']+df_polygons['5']+df_polygons['7'])/4"
   ]
  },
  {
   "cell_type": "code",
   "execution_count": 12,
   "metadata": {},
   "outputs": [],
   "source": [
    "PROJ3857  = Proj(\"+init=EPSG:3857\")\n",
    "PROJ4326 = Proj(\"+init=EPSG:4326\")"
   ]
  },
  {
   "cell_type": "code",
   "execution_count": 13,
   "metadata": {},
   "outputs": [],
   "source": [
    "df_polygons['xy'] = df_polygons.apply(add3857, axis = 1)\n",
    "df_polygons['x'] = df_polygons['xy'].apply(lambda xy:xy[0])\n",
    "df_polygons['y'] = df_polygons['xy'].apply(lambda xy:xy[1])\n",
    "df_polygons = df_polygons[['x','y']]"
   ]
  },
  {
   "cell_type": "code",
   "execution_count": 14,
   "metadata": {
    "scrolled": true
   },
   "outputs": [
    {
     "data": {
      "text/plain": [
       "35-44            808192\n",
       "25-34            727857\n",
       "45-54            664888\n",
       "55-63            593874\n",
       ">=64             384536\n",
       "18-24            274058\n",
       "не определено    189552\n",
       "0-18             105140\n",
       "Name: age, dtype: int64"
      ]
     },
     "execution_count": 14,
     "metadata": {},
     "output_type": "execute_result"
    }
   ],
   "source": [
    "df['age'].value_counts()"
   ]
  },
  {
   "cell_type": "code",
   "execution_count": 15,
   "metadata": {},
   "outputs": [],
   "source": [
    "df['if_home'] = df['if_home']=='дом'"
   ]
  },
  {
   "cell_type": "code",
   "execution_count": 16,
   "metadata": {},
   "outputs": [],
   "source": [
    "def age_to_int(x):\n",
    "    dic = {}\n",
    "    dic['не определено'] = None\n",
    "    dic['0-18'] = 0\n",
    "    dic['18-24'] = 1\n",
    "    dic['25-34'] = 2\n",
    "    dic['35-44'] = 3\n",
    "    dic['45-54'] = 4\n",
    "    dic['55-63'] = 5\n",
    "    dic['>=64'] = 6\n",
    "    return dic[x]\n"
   ]
  },
  {
   "cell_type": "code",
   "execution_count": 17,
   "metadata": {},
   "outputs": [],
   "source": [
    "def income_to_int(x):\n",
    "    dic = {}\n",
    "    dic['не определено'] = None\n",
    "    dic['Минимальный доход'] = 0\n",
    "    dic['Средний доход'] = 1\n",
    "    dic['Доход выше среднего'] = 2\n",
    "    dic['Высокий доход'] = 3\n",
    "    return dic[x]"
   ]
  },
  {
   "cell_type": "code",
   "execution_count": 18,
   "metadata": {},
   "outputs": [],
   "source": [
    "def male_to_bool(x):\n",
    "    if x=='муж':\n",
    "        return True\n",
    "    elif x=='жен':\n",
    "        return False\n",
    "    else:\n",
    "        return None\n",
    "df['male'] = df['male'].apply(male_to_bool)\n"
   ]
  },
  {
   "cell_type": "code",
   "execution_count": 19,
   "metadata": {},
   "outputs": [
    {
     "data": {
      "text/plain": [
       "{'Высокий доход',\n",
       " 'Доход выше среднего',\n",
       " 'Минимальный доход',\n",
       " 'Средний доход',\n",
       " 'не определено'}"
      ]
     },
     "execution_count": 19,
     "metadata": {},
     "output_type": "execute_result"
    }
   ],
   "source": [
    "set(df['income'])"
   ]
  },
  {
   "cell_type": "code",
   "execution_count": 20,
   "metadata": {},
   "outputs": [],
   "source": [
    "df['income'] = df['income'].apply(income_to_int)"
   ]
  },
  {
   "cell_type": "code",
   "execution_count": 21,
   "metadata": {},
   "outputs": [
    {
     "data": {
      "text/plain": [
       "1.0    1534099\n",
       "2.0     679172\n",
       "0.0     338819\n",
       "3.0     212081\n",
       "Name: income, dtype: int64"
      ]
     },
     "execution_count": 21,
     "metadata": {},
     "output_type": "execute_result"
    }
   ],
   "source": [
    "df['income'].value_counts()"
   ]
  },
  {
   "cell_type": "code",
   "execution_count": 22,
   "metadata": {},
   "outputs": [],
   "source": [
    "df = df.join(df_polygons)"
   ]
  },
  {
   "cell_type": "code",
   "execution_count": 23,
   "metadata": {},
   "outputs": [
    {
     "data": {
      "text/plain": [
       "Index(['if_home', 'male', 'age', 'income', 'users', 'x', 'y'], dtype='object')"
      ]
     },
     "execution_count": 23,
     "metadata": {},
     "output_type": "execute_result"
    }
   ],
   "source": [
    "df.columns"
   ]
  },
  {
   "cell_type": "code",
   "execution_count": 24,
   "metadata": {},
   "outputs": [],
   "source": [
    "df['age'] = df['age'].apply(age_to_int)"
   ]
  },
  {
   "cell_type": "code",
   "execution_count": 25,
   "metadata": {},
   "outputs": [],
   "source": [
    "df['source_id'] = list(df.index)"
   ]
  },
  {
   "cell_type": "code",
   "execution_count": null,
   "metadata": {},
   "outputs": [
    {
     "name": "stdout",
     "output_type": "stream",
     "text": [
      "3748097\n"
     ]
    },
    {
     "name": "stderr",
     "output_type": "stream",
     "text": [
      "3685876it [2:16:18, 450.69it/s]"
     ]
    }
   ],
   "source": [
    "count = OperSquare.objects.count()\n",
    "if count!=0:\n",
    "    print('Objects:', count)\n",
    "    print(\"don't need to insert\")\n",
    "else:\n",
    "\n",
    "\n",
    "    features = ['if_home', 'male', 'age', 'income', 'users', 'x', 'y','source_id']\n",
    "\n",
    "    print(len(df))\n",
    "    for i, row in tqdm(df[features].iterrows()):\n",
    "        square = OperSquare(**row.to_dict())\n",
    "        square.save()"
   ]
  }
 ],
 "metadata": {
  "kernelspec": {
   "display_name": "Python 3",
   "language": "python",
   "name": "python3"
  },
  "language_info": {
   "codemirror_mode": {
    "name": "ipython",
    "version": 3
   },
   "file_extension": ".py",
   "mimetype": "text/x-python",
   "name": "python",
   "nbconvert_exporter": "python",
   "pygments_lexer": "ipython3",
   "version": "3.5.2"
  }
 },
 "nbformat": 4,
 "nbformat_minor": 2
}
