{
 "cells": [
  {
   "cell_type": "code",
   "execution_count": 2,
   "metadata": {},
   "outputs": [],
   "source": [
    "import pandas as pd\n",
    "import numpy as np\n",
    "import requests\n",
    "import json\n",
    "import time\n",
    "from IPython.display import clear_output"
   ]
  },
  {
   "cell_type": "code",
   "execution_count": 2,
   "metadata": {},
   "outputs": [],
   "source": [
    "def get_coord_and_time(lon_cent, lat_cent, lon_el, lat_el, mode):\n",
    "    SERVER_URL_MSK_DRIVING = 'http://178.62.250.186:5000/route/v1/driving/'\n",
    "    SERVER_URL_MSK_FOOT = 'http://178.62.250.186:5001/route/v1/foot/'\n",
    "    SERVER_URL_PETER_DRIVING = 'http://178.62.250.186:5002/route/v1/driving/'\n",
    "    SERVER_URL_PETER_FOOT = 'http://178.62.250.186:5003/route/v1/foot/'\n",
    "    try:\n",
    "        if lat_cent > 58 and lat_el > 58:\n",
    "            a = {\n",
    "                'driving': SERVER_URL_PETER_DRIVING,\n",
    "                'foot': SERVER_URL_PETER_FOOT,\n",
    "                }[mode]\n",
    "        else:\n",
    "            a = {\n",
    "                'driving': SERVER_URL_MSK_DRIVING,\n",
    "                'foot': SERVER_URL_MSK_FOOT,\n",
    "                }[mode]\n",
    "    except KeyError as e:\n",
    "        raise ValueError('Undefined mode: {}'.format(mode))\n",
    "\n",
    "\n",
    "    b = str(lon_cent)+','+str(lat_cent)+';' + str(lon_el)+','+str(lat_el)\n",
    "    c = '?annotations=duration'\n",
    "    d = '&alternatives=false'\n",
    "    e = '&overview=full&geometries=geojson'\n",
    "\n",
    "    page_url =  a+b+c +d +e\n",
    "    while True:\n",
    "        try:\n",
    "            page = requests.get(page_url)\n",
    "            #print(page_url)\n",
    "            break\n",
    "        except:\n",
    "            print('exception',end=' ')\n",
    "            time.sleep(1)\n",
    "    data = page.json()\n",
    "    #print(data)\n",
    "    coord_list = data['routes'][0]['geometry']['coordinates']\n",
    "    time_list = data['routes'][0]['legs'][0]['annotation']['duration']\n",
    "    return coord_list,time_list, data\n"
   ]
  },
  {
   "cell_type": "code",
   "execution_count": 3,
   "metadata": {},
   "outputs": [],
   "source": [
    "mode = 'driving'"
   ]
  },
  {
   "cell_type": "code",
   "execution_count": 4,
   "metadata": {},
   "outputs": [],
   "source": [
    "lat0,lon0 = 55.781178, 37.635220\n"
   ]
  },
  {
   "cell_type": "code",
   "execution_count": 5,
   "metadata": {},
   "outputs": [
    {
     "name": "stderr",
     "output_type": "stream",
     "text": [
      "/home/kvertea/.local/lib/python3.5/site-packages/ipykernel_launcher.py:13: UserWarning: Boolean Series key will be reindexed to match DataFrame index.\n",
      "  del sys.path[0]\n"
     ]
    }
   ],
   "source": [
    "df_habit = pd.read_excel('Жилые дома с числом квартир и ценой v4.xlsx')\n",
    "#df_habit = pd.read_excel('offices_base_ready.xlsx')\n",
    "\n",
    "R_lat = 0.03\n",
    "R_lon = R_lat*4\n",
    "\n",
    "filt_lon = np.abs(df_habit['lon'] - lon0) < R_lon\n",
    "filt_lat = np.abs(df_habit['lat'] - lat0) < R_lat\n",
    "df_habit = df_habit[filt_lon&filt_lat]\n",
    "\n",
    "#filt_lon = np.abs(df_habit['lon'] - lon0) > R*0.75\n",
    "#filt_lat = np.abs(df_habit['lat'] - lat0) > R*0.75\n",
    "df_habit = df_habit[filt_lon&filt_lat]\n",
    "#df_habit = df_habit.iloc[:10]"
   ]
  },
  {
   "cell_type": "code",
   "execution_count": null,
   "metadata": {},
   "outputs": [],
   "source": [
    "\n"
   ]
  },
  {
   "cell_type": "code",
   "execution_count": 6,
   "metadata": {},
   "outputs": [],
   "source": [
    "df_att = pd.read_excel('metro msk_spb.xlsx')\n",
    "att_mult = 2\n",
    "filt_lon = np.abs(df_att['lon'] - lon0) < att_mult*R_lon\n",
    "filt_lat = np.abs(df_att['lat'] - lat0) < att_mult*R_lat\n",
    "df_att = df_att[filt_lon&filt_lat]#.iloc[0:1]"
   ]
  },
  {
   "cell_type": "code",
   "execution_count": 7,
   "metadata": {},
   "outputs": [],
   "source": [
    "coords = [\n",
    "    (55.748939, 37.608223),\n",
    "    (55.753433, 37.612106),\n",
    "    (55.756918, 37.616398),\n",
    "    (55.758982, 37.621544),\n",
    "    (55.759055, 37.626222),\n",
    "    (55.756360, 37.630004),\n",
    "    (55.750067, 37.631677),\n",
    "    (55.752032, 37.624351),\n",
    "    ]\n",
    "df_att = pd.DataFrame(coords, columns = ['lat','lon'])\n",
    "df_att['obj_name'] = 'center'"
   ]
  },
  {
   "cell_type": "code",
   "execution_count": 8,
   "metadata": {},
   "outputs": [
    {
     "name": "stdout",
     "output_type": "stream",
     "text": [
      "8\n",
      "5164\n"
     ]
    }
   ],
   "source": [
    "print(len(df_att))\n",
    "print(len(df_habit))"
   ]
  },
  {
   "cell_type": "code",
   "execution_count": 9,
   "metadata": {},
   "outputs": [],
   "source": [
    "def get_dic(link):\n",
    "    for i in range(100):\n",
    "        content = requests.get(link).content\n",
    "        dic = json.loads(content.decode())\n",
    "        if 'message' not in dic.keys():\n",
    "            break\n",
    "        else:\n",
    "            time.sleep(1)\n",
    "            clear_output()\n",
    "            print(dic)\n",
    "    return dic"
   ]
  },
  {
   "cell_type": "code",
   "execution_count": 10,
   "metadata": {},
   "outputs": [],
   "source": [
    "df_lines = pd.DataFrame()"
   ]
  },
  {
   "cell_type": "code",
   "execution_count": 11,
   "metadata": {},
   "outputs": [],
   "source": [
    "from tqdm import tqdm"
   ]
  },
  {
   "cell_type": "code",
   "execution_count": 12,
   "metadata": {},
   "outputs": [],
   "source": [
    "from functools import reduce\n"
   ]
  },
  {
   "cell_type": "code",
   "execution_count": null,
   "metadata": {},
   "outputs": [],
   "source": []
  },
  {
   "cell_type": "code",
   "execution_count": null,
   "metadata": {},
   "outputs": [],
   "source": []
  },
  {
   "cell_type": "code",
   "execution_count": 13,
   "metadata": {},
   "outputs": [
    {
     "name": "stderr",
     "output_type": "stream",
     "text": [
      "5164it [06:22, 13.49it/s]\n"
     ]
    }
   ],
   "source": [
    "area_lat_lon_rate = 2\n",
    "\n",
    "for ind, habit_row in tqdm(df_habit.iterrows()):\n",
    "    end_lat, end_lon = habit_row['lat'], habit_row['lon']\n",
    "\n",
    "    coords = df_att[['lon','lat']].values\n",
    "    \n",
    "\n",
    "    pseudo_Rs = map(lambda x: (x[0]**2 + area_lat_lon_rate*(x[1]**2))**0.5,\n",
    "                    (coords - np.array([habit_row['lon'],habit_row['lat']]))) \n",
    "    pseudo_Rs = list(pseudo_Rs)\n",
    "    df_att['pseudo_R'] = pseudo_Rs\n",
    "    N_atts = 6\n",
    "    gb = df_att.groupby('obj_name')['pseudo_R'].min()\n",
    "    if len(set(gb))>=N_atts:\n",
    "        pseudo_R_boarder = df_gb.sort_values().iloc[N_atts]\n",
    "        df_att_temp = df_att[df_att['pseudo_R']<pseudo_R_boarder]\n",
    "    else:\n",
    "        df_att_temp = df_att.copy()\n",
    "    \n",
    "    coords = df_att_temp[['lon','lat']].values\n",
    "    \n",
    "    \n",
    "    link = 'http://178.62.250.186:5001/table/v1/foot/'\n",
    "    link += str(end_lon) + ',' + str(end_lat)\n",
    "    for coord in coords:\n",
    "        link += ';' + str(coord[0]) + ',' + str(coord[1])\n",
    "    link += '?sources=0'\n",
    "    dic = get_dic(link)\n",
    "\n",
    "    durations = np.array(dic['durations'][0][1:])\n",
    "    min_duration = np.min(durations)\n",
    "#     if min_duration > 60*15:\n",
    "#         #print('too long',end= ' ')\n",
    "#         continue\n",
    "    att_row = df_att_temp[durations==min_duration].iloc[0]\n",
    "\n",
    "    start_lat, start_lon = att_row['lat'], att_row['lon']\n",
    "    lat_cent, lon_cent = att_row['lat'], att_row['lon']\n",
    "    lat_el, lon_el  = habit_row['lat'], habit_row['lon']\n",
    "    \n",
    "    coords, times, data =  get_coord_and_time(lon_cent, lat_cent, lon_el, lat_el, mode)\n",
    "\n",
    "    df_one_line = pd.DataFrame(coords, columns=['lon','lat'])\n",
    "    df_line = df_one_line.iloc[:-1].rename(columns = {'lat':'lat0','lon':'lon0'})\n",
    "    df_line['lat1'] = df_one_line['lat'].iloc[1:].values\n",
    "    df_line['lon1'] = df_one_line['lon'].iloc[1:].values\n",
    "    df_line['weight'] = habit_row['flat_num']\n",
    "    df_lines = pd.concat([df_lines,df_line])"
   ]
  },
  {
   "cell_type": "code",
   "execution_count": 14,
   "metadata": {},
   "outputs": [
    {
     "data": {
      "text/plain": [
       "4527.2"
      ]
     },
     "execution_count": 14,
     "metadata": {},
     "output_type": "execute_result"
    }
   ],
   "source": [
    "np.min(durations)"
   ]
  },
  {
   "cell_type": "code",
   "execution_count": 15,
   "metadata": {},
   "outputs": [
    {
     "data": {
      "text/plain": [
       "lat           55.7564\n",
       "lon             37.63\n",
       "obj_name       center\n",
       "pseudo_R    0.0837125\n",
       "Name: 5, dtype: object"
      ]
     },
     "execution_count": 15,
     "metadata": {},
     "output_type": "execute_result"
    }
   ],
   "source": [
    "att_row"
   ]
  },
  {
   "cell_type": "code",
   "execution_count": 16,
   "metadata": {},
   "outputs": [
    {
     "data": {
      "text/plain": [
       "252"
      ]
     },
     "execution_count": 16,
     "metadata": {},
     "output_type": "execute_result"
    }
   ],
   "source": [
    "len(df_one_line)"
   ]
  },
  {
   "cell_type": "code",
   "execution_count": 17,
   "metadata": {},
   "outputs": [
    {
     "data": {
      "text/plain": [
       "(55.75636, 37.630004)"
      ]
     },
     "execution_count": 17,
     "metadata": {},
     "output_type": "execute_result"
    }
   ],
   "source": [
    "att_row['lat'], att_row['lon']"
   ]
  },
  {
   "cell_type": "code",
   "execution_count": 18,
   "metadata": {},
   "outputs": [
    {
     "data": {
      "text/plain": [
       "(55.7571, 37.71371)"
      ]
     },
     "execution_count": 18,
     "metadata": {},
     "output_type": "execute_result"
    }
   ],
   "source": [
    "habit_row['lat'], habit_row['lon']"
   ]
  },
  {
   "cell_type": "code",
   "execution_count": 19,
   "metadata": {},
   "outputs": [
    {
     "data": {
      "text/plain": [
       "(55.75636, 37.630004)"
      ]
     },
     "execution_count": 19,
     "metadata": {},
     "output_type": "execute_result"
    }
   ],
   "source": [
    "start_lat, start_lon"
   ]
  },
  {
   "cell_type": "code",
   "execution_count": 20,
   "metadata": {},
   "outputs": [],
   "source": [
    "df_lines_gb = df_lines.groupby(['lon0','lat0','lon1','lat1'])['weight'].sum()\n",
    "df_lines_gb = df_lines_gb.reset_index()"
   ]
  },
  {
   "cell_type": "code",
   "execution_count": 21,
   "metadata": {},
   "outputs": [],
   "source": [
    "import folium"
   ]
  },
  {
   "cell_type": "code",
   "execution_count": 22,
   "metadata": {},
   "outputs": [],
   "source": [
    "from colour import Color"
   ]
  },
  {
   "cell_type": "code",
   "execution_count": 23,
   "metadata": {},
   "outputs": [],
   "source": [
    "import matplotlib.pyplot as plt"
   ]
  },
  {
   "cell_type": "code",
   "execution_count": 24,
   "metadata": {},
   "outputs": [],
   "source": [
    "length = len(df_lines_gb)\n",
    "length1 = int(np.round(length*0.7))\n",
    "length2 = length - length1\n",
    "part1 = Color('Green').range_to('Yellow',length1)\n",
    "part2 = Color('Yellow').range_to('Red',length2)\n",
    "colors = list(part1) + list(part2)\n",
    "colors = list(map(lambda x: x.get_web(),colors))"
   ]
  },
  {
   "cell_type": "code",
   "execution_count": 25,
   "metadata": {},
   "outputs": [],
   "source": [
    "df_lines_gb = df_lines_gb.sort_values('weight', ascending=True)"
   ]
  },
  {
   "cell_type": "code",
   "execution_count": 26,
   "metadata": {},
   "outputs": [],
   "source": [
    "df_lines_gb['color'] = colors"
   ]
  },
  {
   "cell_type": "code",
   "execution_count": 27,
   "metadata": {},
   "outputs": [
    {
     "name": "stderr",
     "output_type": "stream",
     "text": [
      "32151it [05:00, 106.96it/s]\n",
      "8it [00:00, 113.30it/s]\n"
     ]
    }
   ],
   "source": [
    "#df_lines_gb = df_lines_gb.sort_values('weight', ascending=False)\n",
    "map_ = folium.Map(location = list(df_lines_gb[['lat0','lon0']].mean().values), zoom_start=12)\n",
    "for i, row in tqdm(df_lines_gb.iterrows()):\n",
    "    line = [\n",
    "    (row['lat0'],row['lon0']),\n",
    "    (row['lat1'],row['lon1'])\n",
    "    ]\n",
    "    folium.PolyLine(line,color = row['color']).add_to(map_)\n",
    "for i, row in tqdm(df_att.iterrows()):\n",
    "    folium.Circle([row['lat'],row['lon']],color = 'black').add_to(map_)\n",
    "\n",
    "map_.save('maps/folk_paths_wide1_driving.html')"
   ]
  },
  {
   "cell_type": "code",
   "execution_count": 1,
   "metadata": {},
   "outputs": [
    {
     "ename": "NameError",
     "evalue": "name 'folium' is not defined",
     "output_type": "error",
     "traceback": [
      "\u001b[0;31m---------------------------------------------------------------------------\u001b[0m",
      "\u001b[0;31mNameError\u001b[0m                                 Traceback (most recent call last)",
      "\u001b[0;32m<ipython-input-1-62d19c304ae7>\u001b[0m in \u001b[0;36m<module>\u001b[0;34m()\u001b[0m\n\u001b[0;32m----> 1\u001b[0;31m \u001b[0mfolium\u001b[0m\u001b[0;34m.\u001b[0m\u001b[0mCustomIcon\u001b[0m\u001b[0;34m(\u001b[0m\u001b[0;34m[\u001b[0m\u001b[0mrow\u001b[0m\u001b[0;34m[\u001b[0m\u001b[0;34m'lat'\u001b[0m\u001b[0;34m]\u001b[0m\u001b[0;34m,\u001b[0m\u001b[0mrow\u001b[0m\u001b[0;34m[\u001b[0m\u001b[0;34m'lon'\u001b[0m\u001b[0;34m]\u001b[0m\u001b[0;34m]\u001b[0m\u001b[0;34m,\u001b[0m\u001b[0mcolor\u001b[0m \u001b[0;34m=\u001b[0m \u001b[0;34m'black'\u001b[0m\u001b[0;34m)\u001b[0m\u001b[0;34m.\u001b[0m\u001b[0madd_to\u001b[0m\u001b[0;34m(\u001b[0m\u001b[0mmap_\u001b[0m\u001b[0;34m)\u001b[0m\u001b[0;34m\u001b[0m\u001b[0m\n\u001b[0m",
      "\u001b[0;31mNameError\u001b[0m: name 'folium' is not defined"
     ]
    }
   ],
   "source": []
  },
  {
   "cell_type": "code",
   "execution_count": null,
   "metadata": {},
   "outputs": [],
   "source": []
  }
 ],
 "metadata": {
  "kernelspec": {
   "display_name": "Python 3",
   "language": "python",
   "name": "python3"
  },
  "language_info": {
   "codemirror_mode": {
    "name": "ipython",
    "version": 3
   },
   "file_extension": ".py",
   "mimetype": "text/x-python",
   "name": "python",
   "nbconvert_exporter": "python",
   "pygments_lexer": "ipython3",
   "version": "3.5.2"
  }
 },
 "nbformat": 4,
 "nbformat_minor": 2
}
