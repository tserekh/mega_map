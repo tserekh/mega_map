{
 "cells": [
  {
   "cell_type": "code",
   "execution_count": 1,
   "metadata": {},
   "outputs": [
    {
     "name": "stderr",
     "output_type": "stream",
     "text": [
      "/home/tserekh/env/lib/python3.6/site-packages/psycopg2/__init__.py:144: UserWarning: The psycopg2 wheel package will be renamed from release 2.8; in order to keep installing from binary please use \"pip install psycopg2-binary\" instead. For details see: <http://initd.org/psycopg/docs/install.html#binary-install-from-pypi>.\n",
      "  \"\"\")\n",
      "/home/tserekh/env/lib/python3.6/site-packages/django/db/models/base.py:299: RuntimeWarning: Model 'main_map.predictedsquare' was already registered. Reloading models is not advised as it can lead to inconsistencies, most notably with related models.\n",
      "  new_class._meta.apps.register_model(new_class._meta.app_label, new_class)\n"
     ]
    }
   ],
   "source": [
    "import glob\n",
    "import pandas as pd\n",
    "import json\n",
    "import datetime\n",
    "from tqdm import tqdm\n",
    "import os\n",
    "from django.conf import settings\n",
    "#from sqlalchemy import create_engine\n",
    "os.environ[\"DJANGO_SETTINGS_MODULE\"] = \"mysite.settings\"\n",
    "import django\n",
    "django.setup()\n",
    "from tqdm import tqdm, tqdm_notebook\n",
    "import glob\n",
    "import numpy as np\n",
    "\n",
    "from django.db.models import Min,Max,Count\n",
    "from sklearn.neighbors import KDTree\n",
    "comfig_file_path = '../../main_config.txt'\n",
    "main_name = 'yandex/'\n",
    "sub_name = 'raw_org_search/'\n",
    "import time\n",
    "from sklearn.utils import shuffle\n",
    "from django.db.models import Q"
   ]
  },
  {
   "cell_type": "code",
   "execution_count": 2,
   "metadata": {},
   "outputs": [],
   "source": [
    "import sys\n",
    "import json\n",
    "sys.path.append('/usr/lib/python3/dist-packages')\n",
    "from main_map.models import OrganizationNatClass, House, Metro, Distance, City, DistanceTemp"
   ]
  },
  {
   "cell_type": "code",
   "execution_count": 3,
   "metadata": {},
   "outputs": [],
   "source": [
    "nat_classes = ['Супермаркет']\n",
    "lat_min, lon_min = 55.558591, 37.158162\n",
    "lat_max, lon_max = 55.952772, 37.899739\n",
    "\n",
    "\n",
    "\n",
    "\n",
    "\n",
    "\n",
    "filter_geo =    {\n",
    "    'lat__gt' : lat_min, \n",
    "    'lon__gt' : lon_min,\n",
    "    'lat__lt' : lat_max, \n",
    "    'lon__lt' : lon_max,\n",
    "}\n"
   ]
  },
  {
   "cell_type": "code",
   "execution_count": 4,
   "metadata": {},
   "outputs": [],
   "source": [
    "full_ids = list(OrganizationNatClass.objects.filter(\n",
    "    **filter_geo,nat_class='Супермаркет'\n",
    "                                                   ).values().values_list(*['source_name','source_id']))"
   ]
  },
  {
   "cell_type": "code",
   "execution_count": null,
   "metadata": {},
   "outputs": [
    {
     "data": {
      "application/vnd.jupyter.widget-view+json": {
       "model_id": "1ae58007ab754cddaa17961870a6a161",
       "version_major": 2,
       "version_minor": 0
      },
      "text/plain": [
       "HBox(children=(IntProgress(value=0, max=4025), HTML(value='')))"
      ]
     },
     "metadata": {},
     "output_type": "display_data"
    }
   ],
   "source": [
    "columns = ['source_id1', 'source_name1', 'source_id2', 'source_name2', 'euclid_distance']\n",
    "for full_id in tqdm_notebook(full_ids):\n",
    "    \n",
    "    source_name1 = full_id[0]\n",
    "    source_id1 = full_id[1]\n",
    "\n",
    "    objects = Distance.objects.filter(source_name1='yandex_api',source_id1=source_id1,source_name2='reformagkh')\n",
    "    #objects = Distance.objects.filter(source_id1=source_id1)\n",
    "    \n",
    "    objects = objects.values_list(*columns).distinct(*['source_id1','source_id2'])\n",
    "    df = pd.DataFrame(list(objects),columns=columns)\n",
    "    #df = df.drop_duplicates()\n",
    "    for i ,row in df.iterrows():\n",
    "        distance_temp = DistanceTemp(**row.to_dict())\n",
    "        distance_temp.save()"
   ]
  },
  {
   "cell_type": "code",
   "execution_count": 24,
   "metadata": {},
   "outputs": [],
   "source": []
  },
  {
   "cell_type": "code",
   "execution_count": 29,
   "metadata": {},
   "outputs": [
    {
     "data": {
      "text/plain": [
       "{'source_id1': '170995809766',\n",
       " 'source_name1': 'yandex_api',\n",
       " 'source_id2': '9069661',\n",
       " 'source_name2': 'reformagkh',\n",
       " 'euclid_distance': 4320.91}"
      ]
     },
     "execution_count": 29,
     "metadata": {},
     "output_type": "execute_result"
    }
   ],
   "source": []
  },
  {
   "cell_type": "code",
   "execution_count": null,
   "metadata": {},
   "outputs": [],
   "source": []
  }
 ],
 "metadata": {
  "kernelspec": {
   "display_name": "Python 3",
   "language": "python",
   "name": "python3"
  },
  "language_info": {
   "codemirror_mode": {
    "name": "ipython",
    "version": 3
   },
   "file_extension": ".py",
   "mimetype": "text/x-python",
   "name": "python",
   "nbconvert_exporter": "python",
   "pygments_lexer": "ipython3",
   "version": "3.6.5"
  }
 },
 "nbformat": 4,
 "nbformat_minor": 2
}
