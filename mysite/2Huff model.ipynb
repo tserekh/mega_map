{
 "cells": [
  {
   "cell_type": "code",
   "execution_count": 1,
   "metadata": {},
   "outputs": [
    {
     "name": "stderr",
     "output_type": "stream",
     "text": [
      "/home/tserekh/jupnb/lib/python3.5/site-packages/psycopg2/__init__.py:144: UserWarning: The psycopg2 wheel package will be renamed from release 2.8; in order to keep installing from binary please use \"pip install psycopg2-binary\" instead. For details see: <http://initd.org/psycopg/docs/install.html#binary-install-from-pypi>.\n",
      "  \"\"\")\n"
     ]
    }
   ],
   "source": [
    "import sys\n",
    "sys.path.append('/usr/lib/python3/dist-packages')\n",
    "import os\n",
    "import pandas as pd\n",
    "import datetime\n",
    "import pandas as pd\n",
    "import numpy as np\n",
    "from tqdm import tqdm\n",
    "import json\n",
    "import shapefile\n",
    "from shapely.geometry  import Point, LineString, Polygon, MultiPolygon\n",
    "\n",
    "from django.conf import settings\n",
    "#from sqlalchemy import create_engine\n",
    "os.environ[\"DJANGO_SETTINGS_MODULE\"] = \"mysite.settings\"\n",
    "import django\n",
    "django.setup()\n",
    "from tqdm import tqdm\n",
    "import glob\n",
    "\n",
    "from django.db.models import Q, Sum, Avg"
   ]
  },
  {
   "cell_type": "code",
   "execution_count": 2,
   "metadata": {},
   "outputs": [],
   "source": [
    "import json"
   ]
  },
  {
   "cell_type": "code",
   "execution_count": 3,
   "metadata": {},
   "outputs": [],
   "source": [
    "from main_map.models import Organization,OrganizationNatClass, House, PredictedSquare"
   ]
  },
  {
   "cell_type": "code",
   "execution_count": 1,
   "metadata": {},
   "outputs": [
    {
     "ename": "NameError",
     "evalue": "name 'Proj' is not defined",
     "output_type": "error",
     "traceback": [
      "\u001b[0;31m---------------------------------------------------------------------------\u001b[0m",
      "\u001b[0;31mNameError\u001b[0m                                 Traceback (most recent call last)",
      "\u001b[0;32m<ipython-input-1-644753d05610>\u001b[0m in \u001b[0;36m<module>\u001b[0;34m()\u001b[0m\n\u001b[0;32m----> 1\u001b[0;31m \u001b[0mPROJ3857\u001b[0m  \u001b[0;34m=\u001b[0m \u001b[0mProj\u001b[0m\u001b[0;34m(\u001b[0m\u001b[0;34m\"+init=EPSG:3857\"\u001b[0m\u001b[0;34m)\u001b[0m\u001b[0;34m\u001b[0m\u001b[0;34m\u001b[0m\u001b[0m\n\u001b[0m\u001b[1;32m      2\u001b[0m \u001b[0mPROJ4326\u001b[0m \u001b[0;34m=\u001b[0m \u001b[0mProj\u001b[0m\u001b[0;34m(\u001b[0m\u001b[0;34m\"+init=EPSG:4326\"\u001b[0m\u001b[0;34m)\u001b[0m\u001b[0;34m\u001b[0m\u001b[0;34m\u001b[0m\u001b[0m\n",
      "\u001b[0;31mNameError\u001b[0m: name 'Proj' is not defined"
     ]
    }
   ],
   "source": []
  },
  {
   "cell_type": "code",
   "execution_count": 2,
   "metadata": {},
   "outputs": [
    {
     "ename": "ModuleNotFoundError",
     "evalue": "No module named 'pyproj'",
     "output_type": "error",
     "traceback": [
      "\u001b[0;31m---------------------------------------------------------------------------\u001b[0m",
      "\u001b[0;31mModuleNotFoundError\u001b[0m                       Traceback (most recent call last)",
      "\u001b[0;32m<ipython-input-2-e9bf76fa29e6>\u001b[0m in \u001b[0;36m<module>\u001b[0;34m()\u001b[0m\n\u001b[0;32m----> 1\u001b[0;31m \u001b[0;32mfrom\u001b[0m \u001b[0mpyproj\u001b[0m \u001b[0;32mimport\u001b[0m \u001b[0mProj\u001b[0m\u001b[0;34m,\u001b[0m \u001b[0mtransform\u001b[0m\u001b[0;34m\u001b[0m\u001b[0;34m\u001b[0m\u001b[0m\n\u001b[0m\u001b[1;32m      2\u001b[0m \u001b[0;34m\u001b[0m\u001b[0m\n\u001b[1;32m      3\u001b[0m \u001b[0mPROJ3857\u001b[0m  \u001b[0;34m=\u001b[0m \u001b[0mProj\u001b[0m\u001b[0;34m(\u001b[0m\u001b[0;34m\"+init=EPSG:3857\"\u001b[0m\u001b[0;34m)\u001b[0m\u001b[0;34m\u001b[0m\u001b[0;34m\u001b[0m\u001b[0m\n\u001b[1;32m      4\u001b[0m \u001b[0mPROJ4326\u001b[0m \u001b[0;34m=\u001b[0m \u001b[0mProj\u001b[0m\u001b[0;34m(\u001b[0m\u001b[0;34m\"+init=EPSG:4326\"\u001b[0m\u001b[0;34m)\u001b[0m\u001b[0;34m\u001b[0m\u001b[0;34m\u001b[0m\u001b[0m\n",
      "\u001b[0;31mModuleNotFoundError\u001b[0m: No module named 'pyproj'"
     ]
    }
   ],
   "source": [
    "from pyproj import Proj, transform\n",
    "\n",
    "PROJ3857  = Proj(\"+init=EPSG:3857\")\n",
    "PROJ4326 = Proj(\"+init=EPSG:4326\")"
   ]
  },
  {
   "cell_type": "code",
   "execution_count": 5,
   "metadata": {},
   "outputs": [],
   "source": [
    "half_side = 5000"
   ]
  },
  {
   "cell_type": "code",
   "execution_count": 6,
   "metadata": {},
   "outputs": [],
   "source": [
    "lat, lon = 55.684067, 37.571067"
   ]
  },
  {
   "cell_type": "code",
   "execution_count": 7,
   "metadata": {},
   "outputs": [],
   "source": [
    "# x, y = transform(PROJ4326, PROJ3857, lon, lat)"
   ]
  },
  {
   "cell_type": "code",
   "execution_count": null,
   "metadata": {},
   "outputs": [],
   "source": []
  },
  {
   "cell_type": "code",
   "execution_count": 8,
   "metadata": {},
   "outputs": [],
   "source": [
    "def calc_place(row,x,y,nat_class):\n",
    "\n",
    "    nearest_nat_classes_euclid = row['nearest_nat_classes_euclid']\n",
    "\n",
    "    dic = json.loads(nearest_nat_classes_euclid)\n",
    "    distances = np.array(dic[nat_class])\n",
    "    R = ((x - row['x'])**2 + (y - row['y'])**2)**0.5\n",
    "    place = sum(distances<R) + 1\n",
    "    return place\n",
    "\n",
    "def get_place_features(x,y):\n",
    "    nat_class = 'Магазин бытовой техники и электроники'\n",
    "    filter_dic = {\n",
    "                'x__gt' : x - half_side,\n",
    "                'y__gt' : y - half_side,\n",
    "                'x__lt' : x + half_side,\n",
    "                'y__lt' : y + half_side,\n",
    "    }\n",
    "    \n",
    "    features = ['flat_num', 'x', 'y', 'nearest_nat_classes_euclid']\n",
    "    objects = House.objects.filter(**filter_dic).values().values_list(*features)\n",
    "    df = pd.DataFrame(list(objects.values()), columns=features)\n",
    "    if len(df)==0:\n",
    "        return {}\n",
    "\n",
    "    df['place'] = df.apply(lambda row: calc_place(row, x, y, nat_class), axis=1)\n",
    "    \n",
    "    gb = df.groupby('place')['flat_num'].sum()\n",
    "    features_dic = {}\n",
    "    places = range(1,12)\n",
    "    for place in places:\n",
    "        \n",
    "        values = gb[gb.index==place]\n",
    "        if len(values)==0:\n",
    "            value = 0\n",
    "        else:    \n",
    "            value = values.iloc[0]\n",
    "        features_dic[nat_class +'_'+ str(place)] = value\n",
    "\n",
    "    return features_dic"
   ]
  },
  {
   "cell_type": "code",
   "execution_count": null,
   "metadata": {},
   "outputs": [],
   "source": []
  },
  {
   "cell_type": "code",
   "execution_count": null,
   "metadata": {},
   "outputs": [],
   "source": [
    "el.x, el.y = transform(PROJ4326, PROJ3857, el.lon, el.lat)"
   ]
  },
  {
   "cell_type": "code",
   "execution_count": null,
   "metadata": {},
   "outputs": [
    {
     "name": "stdout",
     "output_type": "stream",
     "text": [
      "371497\n"
     ]
    },
    {
     "name": "stderr",
     "output_type": "stream",
     "text": [
      " 49%|████▉     | 182414/371573 [12:31:50<12:59:39,  4.04it/s]"
     ]
    }
   ],
   "source": [
    "objects = PredictedSquare.objects.filter(machine_features__isnull=True).order_by('x')\n",
    "print(objects.count())\n",
    "for object_ in tqdm(objects):\n",
    "    features_dic = get_place_features(object_.x,object_.y)\n",
    "    if len(features_dic)==0:\n",
    "        object_.delete()\n",
    "    else:\n",
    "        object_.machine_features = json.dumps(features_dic)\n",
    "        object_.save()"
   ]
  },
  {
   "cell_type": "code",
   "execution_count": null,
   "metadata": {},
   "outputs": [],
   "source": [
    "# objects = OrganizationNatClass.objects.filter(machine_features__isnull=True,nat_class='Магазин бытовой техники и электроники')\n",
    "# print(objects.count())\n",
    "# for object_ in tqdm(objects):\n",
    "#     features_dic = get_place_features(object_.x,object_.y)\n",
    "#     if len(features_dic)==0:\n",
    "#         object_.delete()\n",
    "#     else:\n",
    "#         object_.machine_features = json.dumps(features_dic)\n",
    "#         object_.save()"
   ]
  },
  {
   "cell_type": "code",
   "execution_count": null,
   "metadata": {},
   "outputs": [],
   "source": []
  }
 ],
 "metadata": {
  "kernelspec": {
   "display_name": "Python 3",
   "language": "python",
   "name": "python3"
  },
  "language_info": {
   "codemirror_mode": {
    "name": "ipython",
    "version": 3
   },
   "file_extension": ".py",
   "mimetype": "text/x-python",
   "name": "python",
   "nbconvert_exporter": "python",
   "pygments_lexer": "ipython3",
   "version": "3.6.5"
  }
 },
 "nbformat": 4,
 "nbformat_minor": 2
}
