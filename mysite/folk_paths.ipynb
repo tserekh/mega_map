{
 "cells": [
  {
   "cell_type": "code",
   "execution_count": 1,
   "metadata": {},
   "outputs": [
    {
     "name": "stderr",
     "output_type": "stream",
     "text": [
      "/home/tserekh/jupnb/lib/python3.5/site-packages/psycopg2/__init__.py:144: UserWarning: The psycopg2 wheel package will be renamed from release 2.8; in order to keep installing from binary please use \"pip install psycopg2-binary\" instead. For details see: <http://initd.org/psycopg/docs/install.html#binary-install-from-pypi>.\n",
      "  \"\"\")\n"
     ]
    }
   ],
   "source": [
    "import os\n",
    "import pandas as pd\n",
    "import numpy as np\n",
    "import requests\n",
    "import json\n",
    "import time\n",
    "from IPython.display import clear_output\n",
    "os.environ[\"DJANGO_SETTINGS_MODULE\"] = \"mysite.settings\"\n",
    "import django\n",
    "from django.db.models import Sum, Count\n",
    "django.setup()\n",
    "from tqdm import tqdm\n",
    "from main_map.models import Organization, House, Metro, MetroStation, PolygonModel, RawLine, LineModel\n"
   ]
  },
  {
   "cell_type": "code",
   "execution_count": 2,
   "metadata": {},
   "outputs": [],
   "source": [
    "def get_coord_and_time(lon_start, lat_start, lon_end, lat_end, mode):\n",
    "    SERVER_URL_MSK_DRIVING = 'http://178.62.250.186:5000/route/v1/driving/'\n",
    "    SERVER_URL_MSK_FOOT = 'http://178.62.250.186:5001/route/v1/foot/'\n",
    "    SERVER_URL_PETER_DRIVING = 'http://178.62.250.186:5002/route/v1/driving/'\n",
    "    SERVER_URL_PETER_FOOT = 'http://178.62.250.186:5003/route/v1/foot/'\n",
    "    try:\n",
    "        if lat_start > 58 and lat_el > 58:\n",
    "            a = {\n",
    "                'driving': SERVER_URL_PETER_DRIVING,\n",
    "                'foot': SERVER_URL_PETER_FOOT,\n",
    "                }[mode]\n",
    "        else:\n",
    "            a = {\n",
    "                'driving': SERVER_URL_MSK_DRIVING,\n",
    "                'foot': SERVER_URL_MSK_FOOT,\n",
    "                }[mode]\n",
    "    except KeyError as e:\n",
    "        raise ValueError('Undefined mode: {}'.format(mode))\n",
    "\n",
    "\n",
    "    b = str(lon_start)+','+str(lat_start)+';' + str(lon_end)+','+str(lat_end)\n",
    "    c = '?annotations=duration'\n",
    "    d = '&alternatives=false'\n",
    "    e = '&overview=full&geometries=geojson'\n",
    "\n",
    "    page_url =  a+b+c +d +e\n",
    "    while True:\n",
    "        try:\n",
    "            page = requests.get(page_url)\n",
    "            #print(page_url)\n",
    "            break\n",
    "        except:\n",
    "            print('exception',end=' ')\n",
    "            time.sleep(1)\n",
    "    data = page.json()\n",
    "    #print(data)\n",
    "    coord_list = data['routes'][0]['geometry']['coordinates']\n",
    "    time_list = data['routes'][0]['legs'][0]['annotation']['duration']\n",
    "    return coord_list, time_list, data\n"
   ]
  },
  {
   "cell_type": "code",
   "execution_count": 3,
   "metadata": {},
   "outputs": [
    {
     "name": "stdout",
     "output_type": "stream",
     "text": [
      "6556104\n",
      "0\n"
     ]
    }
   ],
   "source": [
    "print(RawLine.objects.all().count())\n",
    "print(LineModel.objects.all().count())"
   ]
  },
  {
   "cell_type": "code",
   "execution_count": 4,
   "metadata": {},
   "outputs": [],
   "source": [
    "# filter_ = {'att':'center','mode':'driving'}\n",
    "# RawLine.objects.filter(**filter_).delete()\n",
    "# LineModel.objects.filter(**filter_).delete()"
   ]
  },
  {
   "cell_type": "code",
   "execution_count": 5,
   "metadata": {},
   "outputs": [],
   "source": [
    "#  filter_ = {'att':'center','mode':'driving'}\n",
    "# LineModel.objects.filter(**filter_).delete()"
   ]
  },
  {
   "cell_type": "code",
   "execution_count": 6,
   "metadata": {},
   "outputs": [],
   "source": [
    "# RawLine.objects.all().delete()\n",
    "# LineModel.objects.all().delete()"
   ]
  },
  {
   "cell_type": "code",
   "execution_count": 7,
   "metadata": {},
   "outputs": [],
   "source": [
    "# mode = 'foot'\n",
    "# att = 'metro'\n",
    "# duration_boarder = 15*60\n",
    "\n",
    "att = 'center'\n",
    "mode = 'driving'\n",
    "duration_boarder = 100500*60"
   ]
  },
  {
   "cell_type": "code",
   "execution_count": 8,
   "metadata": {},
   "outputs": [],
   "source": [
    "lat0,lon0 = 55.753215, 37.622504"
   ]
  },
  {
   "cell_type": "code",
   "execution_count": 9,
   "metadata": {},
   "outputs": [
    {
     "name": "stdout",
     "output_type": "stream",
     "text": [
      "0.17963999999999913\n",
      "0.3372799999999998\n"
     ]
    }
   ],
   "source": [
    "print(55.753215 - 55.573575)\n",
    "print(37.622504 - 37.285224)\n"
   ]
  },
  {
   "cell_type": "code",
   "execution_count": 10,
   "metadata": {},
   "outputs": [],
   "source": [
    "#need_home_cols =  ['lat','lon','flat_num','square', 'sale_price']\n",
    "need_home_cols =  ['lat','lon','flat_num', 'address']\n",
    "objects = House.objects.filter().values().values_list(*need_home_cols)\n",
    "df_habit = pd.DataFrame(list(objects), columns = need_home_cols)"
   ]
  },
  {
   "cell_type": "code",
   "execution_count": 11,
   "metadata": {},
   "outputs": [],
   "source": [
    "#df_habit = pd.read_excel('Жилые дома с числом квартир и ценой v4.xlsx')\n",
    "#df_habit = pd.read_excel('offices_base_ready.xlsx')\n",
    "\n",
    "R_lat = 0.2\n",
    "R_lon = 0.4\n",
    "\n",
    "filt_lon = (np.abs(df_habit['lon'] - lon0) < R_lon).values\n",
    "filt_lat = (np.abs(df_habit['lat'] - lat0) < R_lat).values\n",
    "df_habit = df_habit[filt_lon&filt_lat]"
   ]
  },
  {
   "cell_type": "code",
   "execution_count": 12,
   "metadata": {},
   "outputs": [],
   "source": [
    "need_home_cols =  ['lat','lon','station_name']\n",
    "objects = Metro.objects.filter().values().values_list(*need_home_cols)\n",
    "df_att = pd.DataFrame(list(objects), columns = need_home_cols)\n",
    "df_att = df_att.rename(columns = {'station_name':'obj_name'})"
   ]
  },
  {
   "cell_type": "code",
   "execution_count": 13,
   "metadata": {},
   "outputs": [],
   "source": [
    "att_mult = 2\n",
    "filt_lon = np.abs(df_att['lon'] - lon0) < att_mult*R_lon\n",
    "filt_lat = np.abs(df_att['lat'] - lat0) < att_mult*R_lat\n",
    "df_att = df_att[filt_lon&filt_lat]#.iloc[0:1]"
   ]
  },
  {
   "cell_type": "code",
   "execution_count": null,
   "metadata": {},
   "outputs": [],
   "source": []
  },
  {
   "cell_type": "code",
   "execution_count": 14,
   "metadata": {},
   "outputs": [],
   "source": [
    "if att=='center':\n",
    "    coords = [\n",
    "        (55.748939, 37.608223),\n",
    "        (55.753433, 37.612106),\n",
    "        (55.756918, 37.616398),\n",
    "        (55.758982, 37.621544),\n",
    "        (55.759055, 37.626222),\n",
    "        (55.756360, 37.630004),\n",
    "        (55.750067, 37.631677),\n",
    "        (55.752032, 37.624351),\n",
    "        ]\n",
    "    df_att = pd.DataFrame(coords, columns = ['lat','lon'])\n",
    "    df_att['obj_name'] = 'center'"
   ]
  },
  {
   "cell_type": "code",
   "execution_count": 15,
   "metadata": {},
   "outputs": [
    {
     "name": "stdout",
     "output_type": "stream",
     "text": [
      "8\n",
      "44788\n"
     ]
    }
   ],
   "source": [
    "print(len(df_att))\n",
    "print(len(df_habit))"
   ]
  },
  {
   "cell_type": "code",
   "execution_count": 16,
   "metadata": {},
   "outputs": [],
   "source": [
    "def get_dic(link):\n",
    "    for i in range(100):\n",
    "        content = requests.get(link).content\n",
    "        dic = json.loads(content.decode())\n",
    "        if 'message' not in dic.keys():\n",
    "            break\n",
    "        else:\n",
    "            time.sleep(1)\n",
    "            clear_output()\n",
    "            print(dic)\n",
    "    return dic"
   ]
  },
  {
   "cell_type": "code",
   "execution_count": 17,
   "metadata": {},
   "outputs": [],
   "source": [
    "df_lines = pd.DataFrame()"
   ]
  },
  {
   "cell_type": "code",
   "execution_count": 18,
   "metadata": {},
   "outputs": [],
   "source": [
    "from tqdm import tqdm"
   ]
  },
  {
   "cell_type": "code",
   "execution_count": 19,
   "metadata": {},
   "outputs": [],
   "source": [
    "from functools import reduce\n"
   ]
  },
  {
   "cell_type": "code",
   "execution_count": 20,
   "metadata": {},
   "outputs": [
    {
     "data": {
      "text/plain": [
       "(55.76435088784942, 37.644789094578904)"
      ]
     },
     "execution_count": 20,
     "metadata": {},
     "output_type": "execute_result"
    }
   ],
   "source": [
    "df_habit['lat'].mean(),df_habit['lon'].mean(),"
   ]
  },
  {
   "cell_type": "code",
   "execution_count": null,
   "metadata": {},
   "outputs": [],
   "source": []
  },
  {
   "cell_type": "code",
   "execution_count": 21,
   "metadata": {},
   "outputs": [
    {
     "ename": "NameError",
     "evalue": "name 'sd' is not defined",
     "output_type": "error",
     "traceback": [
      "\u001b[0;31m---------------------------------------------------------------------------\u001b[0m",
      "\u001b[0;31mNameError\u001b[0m                                 Traceback (most recent call last)",
      "\u001b[0;32m<ipython-input-21-37fc313b3abc>\u001b[0m in \u001b[0;36m<module>\u001b[0;34m()\u001b[0m\n\u001b[0;32m----> 1\u001b[0;31m \u001b[0msd\u001b[0m\u001b[0;34m\u001b[0m\u001b[0m\n\u001b[0m\u001b[1;32m      2\u001b[0m \u001b[0marea_lat_lon_rate\u001b[0m \u001b[0;34m=\u001b[0m \u001b[0;36m2\u001b[0m\u001b[0;34m\u001b[0m\u001b[0m\n\u001b[1;32m      3\u001b[0m \u001b[0mprint\u001b[0m\u001b[0;34m(\u001b[0m\u001b[0mlen\u001b[0m\u001b[0;34m(\u001b[0m\u001b[0mdf_habit\u001b[0m\u001b[0;34m)\u001b[0m\u001b[0;34m)\u001b[0m\u001b[0;34m\u001b[0m\u001b[0m\n\u001b[1;32m      4\u001b[0m \u001b[0;32mfor\u001b[0m \u001b[0mind\u001b[0m\u001b[0;34m,\u001b[0m \u001b[0mhabit_row\u001b[0m \u001b[0;32min\u001b[0m \u001b[0mtqdm\u001b[0m\u001b[0;34m(\u001b[0m\u001b[0mdf_habit\u001b[0m\u001b[0;34m.\u001b[0m\u001b[0miterrows\u001b[0m\u001b[0;34m(\u001b[0m\u001b[0;34m)\u001b[0m\u001b[0;34m)\u001b[0m\u001b[0;34m:\u001b[0m\u001b[0;34m\u001b[0m\u001b[0m\n\u001b[1;32m      5\u001b[0m     \u001b[0mend_lat\u001b[0m\u001b[0;34m,\u001b[0m \u001b[0mend_lon\u001b[0m \u001b[0;34m=\u001b[0m \u001b[0mhabit_row\u001b[0m\u001b[0;34m[\u001b[0m\u001b[0;34m'lat'\u001b[0m\u001b[0;34m]\u001b[0m\u001b[0;34m,\u001b[0m \u001b[0mhabit_row\u001b[0m\u001b[0;34m[\u001b[0m\u001b[0;34m'lon'\u001b[0m\u001b[0;34m]\u001b[0m\u001b[0;34m\u001b[0m\u001b[0m\n",
      "\u001b[0;31mNameError\u001b[0m: name 'sd' is not defined"
     ]
    }
   ],
   "source": [
    "sd\n",
    "area_lat_lon_rate = 2\n",
    "print(len(df_habit))\n",
    "for ind, habit_row in tqdm(df_habit.iterrows()):\n",
    "    end_lat, end_lon = habit_row['lat'], habit_row['lon']\n",
    "\n",
    "    coords = df_att[['lon','lat']].values\n",
    "    \n",
    "\n",
    "    pseudo_Rs = map(lambda x: (x[0]**2 + area_lat_lon_rate*(x[1]**2))**0.5,\n",
    "                    (coords - np.array([habit_row['lon'],habit_row['lat']]))) \n",
    "    pseudo_Rs = list(pseudo_Rs)\n",
    "    df_att['pseudo_R'] = pseudo_Rs\n",
    "    N_atts = 6\n",
    "    gb = df_att.groupby('obj_name')['pseudo_R'].min()\n",
    "    if len(set(gb))>=N_atts:\n",
    "        df_gb = gb.reset_index()\n",
    "        pseudo_R_boarder = gb.sort_values().iloc[N_atts]\n",
    "        df_att_temp = df_att[df_att['pseudo_R'] <= pseudo_R_boarder]\n",
    "    else:\n",
    "        df_att_temp = df_att.copy()\n",
    "    \n",
    "    coords = df_att_temp[['lon','lat']].values\n",
    "    \n",
    "    \n",
    "    link = 'http://178.62.250.186:5001/table/v1/' + mode + '/'\n",
    "    link += str(end_lon) + ',' + str(end_lat)\n",
    "    for coord in coords:\n",
    "        link += ';' + str(coord[0]) + ',' + str(coord[1])\n",
    "    link += '?sources=0'\n",
    "    dic = get_dic(link)\n",
    "\n",
    "    durations = np.array(dic['durations'][0][1:])\n",
    "    min_duration = np.min(durations)\n",
    "    if min_duration > duration_boarder:\n",
    "        #print('too long',end= ' ')\n",
    "        continue\n",
    "    att_row = df_att_temp[durations==min_duration].iloc[0]\n",
    "    \n",
    "    coords, times, data =  get_coord_and_time(att_row['lon'], att_row['lat'], habit_row['lon'], habit_row['lat'], mode)\n",
    "    df_one_line = pd.DataFrame(coords, columns=['lon','lat'])\n",
    "    df_line = df_one_line.iloc[:-1].rename(columns = {'lat':'lat0','lon':'lon0'})\n",
    "    df_line['lat1'] = df_one_line['lat'].iloc[1:].values\n",
    "    df_line['lon1'] = df_one_line['lon'].iloc[1:].values\n",
    "    df_line['address'] = habit_row['address']\n",
    "    df_line['weight'] = habit_row['flat_num']\n",
    "    df_line['mode'] = mode\n",
    "    df_line['att'] = att\n",
    "    for row_line in df_line.T.to_dict().values():\n",
    "        rawline = RawLine(**row_line)\n",
    "        rawline.save()"
   ]
  },
  {
   "cell_type": "code",
   "execution_count": 22,
   "metadata": {},
   "outputs": [
    {
     "name": "stdout",
     "output_type": "stream",
     "text": [
      "{'mode': 'foot', 'att': 'metro'}\n"
     ]
    }
   ],
   "source": [
    "need_cols = ['lat0','lon0','lat1','lon1']\n",
    "filter_dic = {}\n",
    "# filter_dic['mode'] = mode\n",
    "# filter_dic['att'] = att\n",
    "\n",
    "filter_dic['mode'] = 'foot'\n",
    "filter_dic['att'] = 'metro'\n",
    "\n",
    "print(filter_dic)"
   ]
  },
  {
   "cell_type": "code",
   "execution_count": 32,
   "metadata": {},
   "outputs": [],
   "source": [
    "# LineModel.objects.all().delete()"
   ]
  },
  {
   "cell_type": "code",
   "execution_count": 35,
   "metadata": {},
   "outputs": [
    {
     "name": "stderr",
     "output_type": "stream",
     "text": [
      "100%|██████████| 125679/125679 [01:49<00:00, 1144.34it/s]\n"
     ]
    }
   ],
   "source": [
    "for linemodel in tqdm(RawLine.objects.filter(**filter_dic).values(*need_cols).annotate(\n",
    "                                                                            weight=Sum('weight'),\n",
    "                                                                            n_parts=Count('lat0'))\n",
    "                                                                                                      ):\n",
    "    if linemodel['n_parts']!=1:\n",
    "            \n",
    "        linemodel['mode'] = filter_dic['mode'] \n",
    "        linemodel['att'] = filter_dic['att']\n",
    "        linemodel = LineModel(**linemodel)\n",
    "        linemodel.save()"
   ]
  },
  {
   "cell_type": "code",
   "execution_count": null,
   "metadata": {},
   "outputs": [],
   "source": []
  },
  {
   "cell_type": "code",
   "execution_count": 36,
   "metadata": {},
   "outputs": [
    {
     "data": {
      "text/plain": [
       "['lat0', 'lon0', 'lat1', 'lon1']"
      ]
     },
     "execution_count": 36,
     "metadata": {},
     "output_type": "execute_result"
    }
   ],
   "source": [
    "need_cols"
   ]
  },
  {
   "cell_type": "code",
   "execution_count": 37,
   "metadata": {},
   "outputs": [],
   "source": [
    "df_data = pd.DataFrame(list(LineModel.objects.all().values(*['lat0','lon0']).annotate(count=Count('weight'))))\n",
    "df_data = df_data[df_data['count']>1]"
   ]
  },
  {
   "cell_type": "code",
   "execution_count": null,
   "metadata": {},
   "outputs": [],
   "source": []
  },
  {
   "cell_type": "code",
   "execution_count": null,
   "metadata": {},
   "outputs": [],
   "source": []
  },
  {
   "cell_type": "code",
   "execution_count": null,
   "metadata": {},
   "outputs": [],
   "source": [
    "import matplotlib.pyplot as plt\n",
    "plt.scatter(100*np.array(lons), 100*np.array(lats))\n",
    "plt.show()"
   ]
  },
  {
   "cell_type": "code",
   "execution_count": null,
   "metadata": {},
   "outputs": [],
   "source": []
  },
  {
   "cell_type": "code",
   "execution_count": null,
   "metadata": {},
   "outputs": [],
   "source": []
  }
 ],
 "metadata": {
  "kernelspec": {
   "display_name": "Python 3",
   "language": "python",
   "name": "python3"
  },
  "language_info": {
   "codemirror_mode": {
    "name": "ipython",
    "version": 3
   },
   "file_extension": ".py",
   "mimetype": "text/x-python",
   "name": "python",
   "nbconvert_exporter": "python",
   "pygments_lexer": "ipython3",
   "version": "3.6.5"
  }
 },
 "nbformat": 4,
 "nbformat_minor": 2
}
