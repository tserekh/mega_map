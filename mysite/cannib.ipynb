{
 "cells": [
  {
   "cell_type": "code",
   "execution_count": 11,
   "metadata": {},
   "outputs": [],
   "source": [
    "import glob\n",
    "import pandas as pd\n",
    "import json\n",
    "import datetime\n",
    "from tqdm import tqdm\n",
    "import os\n",
    "from django.conf import settings\n",
    "#from sqlalchemy import create_engine\n",
    "os.environ[\"DJANGO_SETTINGS_MODULE\"] = \"mysite.settings\"\n",
    "import django\n",
    "django.setup()\n",
    "from tqdm import tqdm\n",
    "import glob\n",
    "import numpy as np\n",
    "import numpy as np\n",
    "\n",
    "from sklearn.neighbors import KDTree\n",
    "comfig_file_path = '../../main_config.txt'\n",
    "main_name = 'yandex/'\n",
    "sub_name = 'raw_org_search/'"
   ]
  },
  {
   "cell_type": "code",
   "execution_count": 12,
   "metadata": {},
   "outputs": [],
   "source": [
    "import sys\n",
    "import json\n",
    "sys.path.append('/usr/lib/python3/dist-packages')\n",
    "from main_map.models import Organization, OrganizationNatClass, Workplace, House, MetroStation, Metro, GroundStop"
   ]
  },
  {
   "cell_type": "code",
   "execution_count": 13,
   "metadata": {},
   "outputs": [],
   "source": [
    "from pyproj import Proj, transform\n",
    "\n",
    "PROJ3857 = Proj(\"+init=EPSG:3857\")\n",
    "PROJ4326 = Proj(\"+init=EPSG:4326\")"
   ]
  },
  {
   "cell_type": "code",
   "execution_count": 14,
   "metadata": {},
   "outputs": [],
   "source": [
    "nat_class = ['Магазин бытовой техники и электроники']"
   ]
  },
  {
   "cell_type": "code",
   "execution_count": 15,
   "metadata": {},
   "outputs": [],
   "source": [
    "xy = ['x', 'y']"
   ]
  },
  {
   "cell_type": "code",
   "execution_count": 16,
   "metadata": {},
   "outputs": [],
   "source": [
    "filter_geo = {}"
   ]
  },
  {
   "cell_type": "code",
   "execution_count": 17,
   "metadata": {},
   "outputs": [],
   "source": [
    "lat, lon = 55.855500, 37.441124\n",
    "x, y = transform(PROJ4326, PROJ3857, lon, lat)\n",
    "def get_cann_dict(x,y):\n",
    "\n",
    "    half_side = 5e4\n",
    "    influence_mult = 2\n",
    "    our_brands = ['М.Видео','Эльдорадо']\n",
    "    filter_dic = {\n",
    "                'x__gt' : x - half_side,\n",
    "                'y__gt' : y - half_side,\n",
    "                'x__lt' : x + half_side,\n",
    "                'y__lt' : y + half_side,\n",
    "                'nat_class' : 'Магазин бытовой техники и электроники',\n",
    "    }\n",
    "\n",
    "    objects = OrganizationNatClass.objects.filter(**filter_dic).values()\n",
    "    df_orgs = pd.DataFrame(list(objects))\n",
    "    df_orgs['R'] = ((df_orgs['x'] - x)**2 + (df_orgs['y'] - y)**2)**0.5\n",
    "\n",
    "    df_we_sorted = df_orgs[df_orgs['chain_name'].isin(our_brands)].sort_values('R').iloc[:3]\n",
    "    dics = []\n",
    "    for i, row in df_we_sorted.iterrows():\n",
    "        dic = {}\n",
    "        dic['R'] = row['R']\n",
    "        dic['address'] = row['address']\n",
    "        dic['chain_name'] = row['chain_name']\n",
    "        R_boarder = row['R']\n",
    "\n",
    "        n_comp = (df_orgs['R'].min()/df_orgs[df_orgs['R']<=(influence_mult*R_boarder)]['R']   ).sum()\n",
    "\n",
    "        dic['cannib'] = n_comp/(1+n_comp)\n",
    "        dics.append(dic)\n",
    "    return dics"
   ]
  },
  {
   "cell_type": "code",
   "execution_count": 42,
   "metadata": {},
   "outputs": [],
   "source": [
    "dics = get_cann_dict(x,y)\n",
    "cann_formatted = ''\n",
    "for dic in dics:\n",
    "    cann_formatted += dic['chain_name'] + '</br>'\n",
    "    cann_formatted += 'Адрес: ' + dic['address'] + '</br>'\n",
    "    cann_formatted += 'Расстояние до новой точки: ' + str(int(dic['R'])) + '</br>'\n",
    "    cann_formatted += 'Каннибализм: ' + str(int(100*(dic['cannib']-1))) + '%</br></br>'"
   ]
  },
  {
   "cell_type": "code",
   "execution_count": 41,
   "metadata": {},
   "outputs": [
    {
     "data": {
      "text/plain": [
       "'М.Видео</br>Адрес: Сходненская ул., 56, Москва, Россия</br>Расстояние до новой точки: 1153</br>Каннибализм: 63</br></br>Эльдорадо</br>Адрес: Ленинградское ш., 112/1, Москва, Россия</br>Расстояние до новой точки: 3157</br>Каннибализм: 79</br></br>М.Видео</br>Адрес: Фестивальная ул., 2Б, Москва, Россия</br>Расстояние до новой точки: 4179</br>Каннибализм: 82</br></br>'"
      ]
     },
     "execution_count": 41,
     "metadata": {},
     "output_type": "execute_result"
    }
   ],
   "source": [
    "cann_formatted"
   ]
  },
  {
   "cell_type": "code",
   "execution_count": 37,
   "metadata": {},
   "outputs": [
    {
     "data": {
      "text/plain": [
       "'М.Видео</br>Адрес: Сходненская ул., 56, Москва, РоссияАдрес: Сходненская ул., 56, Москва, Россия</br>Адрес: Сходненская ул., 56, Москва, Россия</br>Адрес: Сходненская ул., 56, Москва, Россия</br>Расстояние до новой точки: 1153</br>Каннибализм: 63'"
      ]
     },
     "execution_count": 37,
     "metadata": {},
     "output_type": "execute_result"
    }
   ],
   "source": [
    "cann_formatted"
   ]
  },
  {
   "cell_type": "code",
   "execution_count": null,
   "metadata": {},
   "outputs": [],
   "source": []
  }
 ],
 "metadata": {
  "kernelspec": {
   "display_name": "Python 3",
   "language": "python",
   "name": "python3"
  },
  "language_info": {
   "codemirror_mode": {
    "name": "ipython",
    "version": 3
   },
   "file_extension": ".py",
   "mimetype": "text/x-python",
   "name": "python",
   "nbconvert_exporter": "python",
   "pygments_lexer": "ipython3",
   "version": "3.5.2"
  }
 },
 "nbformat": 4,
 "nbformat_minor": 2
}
