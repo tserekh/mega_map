{
 "cells": [
  {
   "cell_type": "code",
   "execution_count": 1,
   "metadata": {},
   "outputs": [
    {
     "name": "stderr",
     "output_type": "stream",
     "text": [
      "/home/tserekh/env/lib/python3.6/site-packages/psycopg2/__init__.py:144: UserWarning: The psycopg2 wheel package will be renamed from release 2.8; in order to keep installing from binary please use \"pip install psycopg2-binary\" instead. For details see: <http://initd.org/psycopg/docs/install.html#binary-install-from-pypi>.\n",
      "  \"\"\")\n",
      "/home/tserekh/env/lib/python3.6/site-packages/django/db/models/base.py:299: RuntimeWarning: Model 'main_map.predictedsquare' was already registered. Reloading models is not advised as it can lead to inconsistencies, most notably with related models.\n",
      "  new_class._meta.apps.register_model(new_class._meta.app_label, new_class)\n"
     ]
    }
   ],
   "source": [
    "import glob\n",
    "import pandas as pd\n",
    "import json\n",
    "import datetime\n",
    "from tqdm import tqdm\n",
    "import os\n",
    "from django.conf import settings\n",
    "#from sqlalchemy import create_engine\n",
    "os.environ[\"DJANGO_SETTINGS_MODULE\"] = \"mysite.settings\"\n",
    "import django\n",
    "django.setup()\n",
    "from tqdm import tqdm, tqdm_notebook\n",
    "import glob\n",
    "import numpy as np\n",
    "\n",
    "from django.db.models import Min,Max,Count\n",
    "from sklearn.neighbors import KDTree\n",
    "comfig_file_path = '../../main_config.txt'\n",
    "main_name = 'yandex/'\n",
    "sub_name = 'raw_org_search/'\n",
    "import time\n",
    "from sklearn.utils import shuffle\n",
    "from django.db.models import Q"
   ]
  },
  {
   "cell_type": "code",
   "execution_count": 2,
   "metadata": {},
   "outputs": [],
   "source": [
    "import sys\n",
    "import json\n",
    "sys.path.append('/usr/lib/python3/dist-packages')\n",
    "from main_map.models import OrganizationNatClass, House, Metro, Distance, City"
   ]
  },
  {
   "cell_type": "code",
   "execution_count": 3,
   "metadata": {},
   "outputs": [],
   "source": [
    "nat_classes = ['Супермаркет']\n",
    "lat_min, lon_min = 55.604865, 37.321688\n",
    "lat_max, lon_max = 55.912290, 37.858644\n",
    "\n",
    "lat_min, lon_min = 55.667588, 37.432773\n",
    "lat_max, lon_max = 55.854200, 37.777469\n",
    "\n",
    "\n",
    "\n",
    "\n",
    "filter_geo =    {\n",
    "    'lat__gt' : lat_min, \n",
    "    'lon__gt' : lon_min,\n",
    "    'lat__lt' : lat_max, \n",
    "    'lon__lt' : lon_max,\n",
    "}\n"
   ]
  },
  {
   "cell_type": "code",
   "execution_count": 6,
   "metadata": {},
   "outputs": [],
   "source": [
    "def brand_map(lat_min, lon_min, lat_max, lon_max, nat_classes, distance_name):\n",
    "    xy = ['x','y']\n",
    "    unq = ['source_id1','source_id2','source_name1','source_name2']\n",
    "\n",
    "    columns = ['source_id','source_name','nat_class','chain_name']#nat_class just for fi\n",
    "    filter_dic = filter_geo.copy()\n",
    "    filter_dic['nat_class__in'] = nat_classes\n",
    "    df_orgs = pd.DataFrame(list(OrganizationNatClass.objects.filter(**filter_dic).values().values_list(*columns)),\n",
    "                           columns=columns)\n",
    "    print('orgs done')\n",
    "    orgs_ids = df_orgs['source_id'].values\n",
    "    df_orgs = df_orgs.set_index(['source_id', 'source_name'])\n",
    "\n",
    "    columns = ['source_id','source_name','flat_num','x','y']\n",
    "\n",
    "    df_homes = pd.DataFrame(list(House.objects.filter(**filter_geo).values().values_list(*columns)),columns=columns)\n",
    "    print('homes done')\n",
    "    home_ids = df_homes['source_id'].values\n",
    "    df_homes = df_homes.set_index(['source_id', 'source_name'])\n",
    "\n",
    "    q1 = Distance.objects.filter(\n",
    "        source_id1__in=orgs_ids,\n",
    "        source_name1='yandex_api',\n",
    "\n",
    "        source_id2__in=home_ids,\n",
    "        source_name2='reformagkh',\n",
    "    )\n",
    "\n",
    "    q2 = q1.values(*['source_id2','source_name2']).annotate(**{distance_name : Min(distance_name)})\n",
    "    df2 = pd.DataFrame(list(q2))\n",
    "    print('q2 done')\n",
    "    df1 = pd.DataFrame(list(q1.values(\n",
    "        *['source_id2', 'source_name2', distance_name, 'source_id1', 'source_name1'])))\n",
    "\n",
    "    df1 = df1.set_index([distance_name,'source_id2','source_name2'])\n",
    "    print('q1 done')\n",
    "    q_orgs = OrganizationNatClass.objects.filter(source_id__in=orgs_ids,\n",
    "        source_name='yandex_api').values()\n",
    "\n",
    "    dics = []\n",
    "    #print(df_homes.head())\n",
    "    for i, row in tqdm_notebook(df2.iterrows()):\n",
    "        el = row.to_dict()\n",
    "        ind_values = [el['source_id2'],el['source_name2'],el[distance_name]]\n",
    "        dic_dist = df1.loc[ind_values].iloc[0].to_dict()\n",
    "        \n",
    "        dic_home = df_homes.loc[[el['source_id2'],el['source_name2']]].iloc[0].to_dict()\n",
    "        dic_org = df_orgs.loc[[dic_dist['source_id1'],dic_dist['source_name1']]].iloc[0].to_dict()\n",
    "        dics.append({**el, **dic_dist, **dic_home, **dic_org})\n",
    "        #print(dic_dist, dic_home, dic_org)\n",
    "    df = pd.DataFrame(dics)\n",
    "    \n",
    "    agg = {}\n",
    "    agg['chain_name'] = lambda x: list(x)[0] if len(x)!=0 else '-'\n",
    "    agg['x'] = lambda x: list(x)[0] if len(x)!=0 else '-'\n",
    "    agg['y'] = lambda x: list(x)[0] if len(x)!=0 else '-'\n",
    "    agg['flat_num'] = sum\n",
    "    \n",
    "    df_orgs = df.groupby(['source_name1','source_id1'],as_index=False).agg(agg)\n",
    "    return df, df_orgs"
   ]
  },
  {
   "cell_type": "code",
   "execution_count": 7,
   "metadata": {},
   "outputs": [],
   "source": [
    "distance_name = 'euclid_distance'\n",
    "#distance_name = 'euclid_distance_metro'\n",
    "\n",
    "df, df_orgs = brand_map(lat_min, lon_min, lat_max, lon_max, nat_classes, distance_name)"
   ]
  },
  {
   "cell_type": "code",
   "execution_count": 9,
   "metadata": {},
   "outputs": [],
   "source": [
    "unq = ['source_id1','source_id2','source_name1','source_name2']"
   ]
  },
  {
   "cell_type": "code",
   "execution_count": 10,
   "metadata": {},
   "outputs": [],
   "source": [
    "from pyproj import Proj, transform\n",
    "PROJ3857  = Proj(\"+init=EPSG:3857\")\n",
    "PROJ4326 = Proj(\"+init=EPSG:4326\")\n"
   ]
  },
  {
   "cell_type": "code",
   "execution_count": 11,
   "metadata": {},
   "outputs": [],
   "source": [
    "df_orgs = df_orgs.sort_values('flat_num', ascending=False)"
   ]
  },
  {
   "cell_type": "code",
   "execution_count": 12,
   "metadata": {},
   "outputs": [
    {
     "name": "stdout",
     "output_type": "stream",
     "text": [
      "source_name1     yandex_api\n",
      "source_id1       1807783225\n",
      "chain_name            Густо\n",
      "x               4.16901e+06\n",
      "y               7.52028e+06\n",
      "flat_num               7534\n",
      "Name: 950, dtype: object\n"
     ]
    }
   ],
   "source": [
    "row = df_orgs.iloc[0]\n",
    "print(row)\n",
    "lon, lat = transform(PROJ3857, PROJ4326, row['x'], row['y'])"
   ]
  },
  {
   "cell_type": "code",
   "execution_count": 13,
   "metadata": {},
   "outputs": [],
   "source": [
    "import matplotlib.pyplot as plt"
   ]
  },
  {
   "cell_type": "code",
   "execution_count": 18,
   "metadata": {},
   "outputs": [],
   "source": [
    "gb = df_orgs.groupby('chain_name')['flat_num'].size()"
   ]
  },
  {
   "cell_type": "code",
   "execution_count": 25,
   "metadata": {},
   "outputs": [],
   "source": [
    "gb = df_orgs[df_orgs['chain_name'].isin(gb[gb>=5].index)].groupby('chain_name')['flat_num'].mean()"
   ]
  },
  {
   "cell_type": "code",
   "execution_count": 26,
   "metadata": {},
   "outputs": [
    {
     "data": {
      "text/plain": [
       "chain_name\n",
       "Атак                      444.875000\n",
       "Гастроном                 498.600000\n",
       "ХЦ                        530.538462\n",
       "Супермаркет Мираторг      681.500000\n",
       "Микромаркет               706.625000\n",
       "EUROSPAR                  707.400000\n",
       "Продукты 24               739.500000\n",
       "АВ Daily                  749.121212\n",
       "Алые Паруса               798.000000\n",
       " Углече Поле              799.200000\n",
       "Мясная лавка Мираторг     825.714286\n",
       "Азбука Вкуса              835.561404\n",
       "Продуктовый магазин       854.230769\n",
       "Перекресток               859.059524\n",
       "Супермаркет               892.133333\n",
       "Мой Ашан                  921.750000\n",
       "Магазин Продукты          953.538462\n",
       "Фасоль                    997.333333\n",
       "Billa                    1044.756757\n",
       "Лента                    1059.142857\n",
       "Продукты                 1062.609756\n",
       "Виктория                 1064.916667\n",
       "Дикси                    1081.585492\n",
       "Пятёрочка                1116.288630\n",
       "Минимаркет               1159.000000\n",
       "Универсам Магнит         1168.764045\n",
       "Ярче!                    1266.666667\n",
       "Сити                     1307.200000\n",
       "Универсам                1368.727273\n",
       "Магазин продуктов        1842.000000\n",
       "Густо                    2220.000000\n",
       "Name: flat_num, dtype: float64"
      ]
     },
     "execution_count": 26,
     "metadata": {},
     "output_type": "execute_result"
    }
   ],
   "source": [
    "gb.sort_values()"
   ]
  },
  {
   "cell_type": "code",
   "execution_count": 16,
   "metadata": {},
   "outputs": [
    {
     "data": {
      "image/png": "[encoded data removed]",
      "text/plain": [
       "<Figure size 432x288 with 1 Axes>"
      ]
     },
     "metadata": {
      "needs_background": "light"
     },
     "output_type": "display_data"
    }
   ],
   "source": [
    "plt.hist(df_orgs['flat_num'].values, bins=100)\n",
    "plt.show()"
   ]
  }
 ],
 "metadata": {
  "kernelspec": {
   "display_name": "Python 3",
   "language": "python",
   "name": "python3"
  },
  "language_info": {
   "codemirror_mode": {
    "name": "ipython",
    "version": 3
   },
   "file_extension": ".py",
   "mimetype": "text/x-python",
   "name": "python",
   "nbconvert_exporter": "python",
   "pygments_lexer": "ipython3",
   "version": "3.6.5"
  }
 },
 "nbformat": 4,
 "nbformat_minor": 2
}
